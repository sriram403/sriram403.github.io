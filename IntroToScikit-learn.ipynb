{
 "cells": [
  {
   "cell_type": "code",
   "execution_count": 1,
   "id": "8f1050f1",
   "metadata": {},
   "outputs": [
    {
     "data": {
      "text/html": [
       "<div>\n",
       "<style scoped>\n",
       "    .dataframe tbody tr th:only-of-type {\n",
       "        vertical-align: middle;\n",
       "    }\n",
       "\n",
       "    .dataframe tbody tr th {\n",
       "        vertical-align: top;\n",
       "    }\n",
       "\n",
       "    .dataframe thead th {\n",
       "        text-align: right;\n",
       "    }\n",
       "</style>\n",
       "<table border=\"1\" class=\"dataframe\">\n",
       "  <thead>\n",
       "    <tr style=\"text-align: right;\">\n",
       "      <th></th>\n",
       "      <th>age</th>\n",
       "      <th>sex</th>\n",
       "      <th>cp</th>\n",
       "      <th>trestbps</th>\n",
       "      <th>chol</th>\n",
       "      <th>fbs</th>\n",
       "      <th>restecg</th>\n",
       "      <th>thalach</th>\n",
       "      <th>exang</th>\n",
       "      <th>oldpeak</th>\n",
       "      <th>slope</th>\n",
       "      <th>ca</th>\n",
       "      <th>thal</th>\n",
       "      <th>target</th>\n",
       "    </tr>\n",
       "  </thead>\n",
       "  <tbody>\n",
       "    <tr>\n",
       "      <th>0</th>\n",
       "      <td>63</td>\n",
       "      <td>1</td>\n",
       "      <td>3</td>\n",
       "      <td>145</td>\n",
       "      <td>233</td>\n",
       "      <td>1</td>\n",
       "      <td>0</td>\n",
       "      <td>150</td>\n",
       "      <td>0</td>\n",
       "      <td>2.3</td>\n",
       "      <td>0</td>\n",
       "      <td>0</td>\n",
       "      <td>1</td>\n",
       "      <td>1</td>\n",
       "    </tr>\n",
       "    <tr>\n",
       "      <th>1</th>\n",
       "      <td>37</td>\n",
       "      <td>1</td>\n",
       "      <td>2</td>\n",
       "      <td>130</td>\n",
       "      <td>250</td>\n",
       "      <td>0</td>\n",
       "      <td>1</td>\n",
       "      <td>187</td>\n",
       "      <td>0</td>\n",
       "      <td>3.5</td>\n",
       "      <td>0</td>\n",
       "      <td>0</td>\n",
       "      <td>2</td>\n",
       "      <td>1</td>\n",
       "    </tr>\n",
       "    <tr>\n",
       "      <th>2</th>\n",
       "      <td>41</td>\n",
       "      <td>0</td>\n",
       "      <td>1</td>\n",
       "      <td>130</td>\n",
       "      <td>204</td>\n",
       "      <td>0</td>\n",
       "      <td>0</td>\n",
       "      <td>172</td>\n",
       "      <td>0</td>\n",
       "      <td>1.4</td>\n",
       "      <td>2</td>\n",
       "      <td>0</td>\n",
       "      <td>2</td>\n",
       "      <td>1</td>\n",
       "    </tr>\n",
       "    <tr>\n",
       "      <th>3</th>\n",
       "      <td>56</td>\n",
       "      <td>1</td>\n",
       "      <td>1</td>\n",
       "      <td>120</td>\n",
       "      <td>236</td>\n",
       "      <td>0</td>\n",
       "      <td>1</td>\n",
       "      <td>178</td>\n",
       "      <td>0</td>\n",
       "      <td>0.8</td>\n",
       "      <td>2</td>\n",
       "      <td>0</td>\n",
       "      <td>2</td>\n",
       "      <td>1</td>\n",
       "    </tr>\n",
       "    <tr>\n",
       "      <th>4</th>\n",
       "      <td>57</td>\n",
       "      <td>0</td>\n",
       "      <td>0</td>\n",
       "      <td>120</td>\n",
       "      <td>354</td>\n",
       "      <td>0</td>\n",
       "      <td>1</td>\n",
       "      <td>163</td>\n",
       "      <td>1</td>\n",
       "      <td>0.6</td>\n",
       "      <td>2</td>\n",
       "      <td>0</td>\n",
       "      <td>2</td>\n",
       "      <td>1</td>\n",
       "    </tr>\n",
       "    <tr>\n",
       "      <th>...</th>\n",
       "      <td>...</td>\n",
       "      <td>...</td>\n",
       "      <td>...</td>\n",
       "      <td>...</td>\n",
       "      <td>...</td>\n",
       "      <td>...</td>\n",
       "      <td>...</td>\n",
       "      <td>...</td>\n",
       "      <td>...</td>\n",
       "      <td>...</td>\n",
       "      <td>...</td>\n",
       "      <td>...</td>\n",
       "      <td>...</td>\n",
       "      <td>...</td>\n",
       "    </tr>\n",
       "    <tr>\n",
       "      <th>298</th>\n",
       "      <td>57</td>\n",
       "      <td>0</td>\n",
       "      <td>0</td>\n",
       "      <td>140</td>\n",
       "      <td>241</td>\n",
       "      <td>0</td>\n",
       "      <td>1</td>\n",
       "      <td>123</td>\n",
       "      <td>1</td>\n",
       "      <td>0.2</td>\n",
       "      <td>1</td>\n",
       "      <td>0</td>\n",
       "      <td>3</td>\n",
       "      <td>0</td>\n",
       "    </tr>\n",
       "    <tr>\n",
       "      <th>299</th>\n",
       "      <td>45</td>\n",
       "      <td>1</td>\n",
       "      <td>3</td>\n",
       "      <td>110</td>\n",
       "      <td>264</td>\n",
       "      <td>0</td>\n",
       "      <td>1</td>\n",
       "      <td>132</td>\n",
       "      <td>0</td>\n",
       "      <td>1.2</td>\n",
       "      <td>1</td>\n",
       "      <td>0</td>\n",
       "      <td>3</td>\n",
       "      <td>0</td>\n",
       "    </tr>\n",
       "    <tr>\n",
       "      <th>300</th>\n",
       "      <td>68</td>\n",
       "      <td>1</td>\n",
       "      <td>0</td>\n",
       "      <td>144</td>\n",
       "      <td>193</td>\n",
       "      <td>1</td>\n",
       "      <td>1</td>\n",
       "      <td>141</td>\n",
       "      <td>0</td>\n",
       "      <td>3.4</td>\n",
       "      <td>1</td>\n",
       "      <td>2</td>\n",
       "      <td>3</td>\n",
       "      <td>0</td>\n",
       "    </tr>\n",
       "    <tr>\n",
       "      <th>301</th>\n",
       "      <td>57</td>\n",
       "      <td>1</td>\n",
       "      <td>0</td>\n",
       "      <td>130</td>\n",
       "      <td>131</td>\n",
       "      <td>0</td>\n",
       "      <td>1</td>\n",
       "      <td>115</td>\n",
       "      <td>1</td>\n",
       "      <td>1.2</td>\n",
       "      <td>1</td>\n",
       "      <td>1</td>\n",
       "      <td>3</td>\n",
       "      <td>0</td>\n",
       "    </tr>\n",
       "    <tr>\n",
       "      <th>302</th>\n",
       "      <td>57</td>\n",
       "      <td>0</td>\n",
       "      <td>1</td>\n",
       "      <td>130</td>\n",
       "      <td>236</td>\n",
       "      <td>0</td>\n",
       "      <td>0</td>\n",
       "      <td>174</td>\n",
       "      <td>0</td>\n",
       "      <td>0.0</td>\n",
       "      <td>1</td>\n",
       "      <td>1</td>\n",
       "      <td>2</td>\n",
       "      <td>0</td>\n",
       "    </tr>\n",
       "  </tbody>\n",
       "</table>\n",
       "<p>303 rows × 14 columns</p>\n",
       "</div>"
      ],
      "text/plain": [
       "     age  sex  cp  trestbps  chol  fbs  restecg  thalach  exang  oldpeak  \\\n",
       "0     63    1   3       145   233    1        0      150      0      2.3   \n",
       "1     37    1   2       130   250    0        1      187      0      3.5   \n",
       "2     41    0   1       130   204    0        0      172      0      1.4   \n",
       "3     56    1   1       120   236    0        1      178      0      0.8   \n",
       "4     57    0   0       120   354    0        1      163      1      0.6   \n",
       "..   ...  ...  ..       ...   ...  ...      ...      ...    ...      ...   \n",
       "298   57    0   0       140   241    0        1      123      1      0.2   \n",
       "299   45    1   3       110   264    0        1      132      0      1.2   \n",
       "300   68    1   0       144   193    1        1      141      0      3.4   \n",
       "301   57    1   0       130   131    0        1      115      1      1.2   \n",
       "302   57    0   1       130   236    0        0      174      0      0.0   \n",
       "\n",
       "     slope  ca  thal  target  \n",
       "0        0   0     1       1  \n",
       "1        0   0     2       1  \n",
       "2        2   0     2       1  \n",
       "3        2   0     2       1  \n",
       "4        2   0     2       1  \n",
       "..     ...  ..   ...     ...  \n",
       "298      1   0     3       0  \n",
       "299      1   0     3       0  \n",
       "300      1   2     3       0  \n",
       "301      1   1     3       0  \n",
       "302      1   1     2       0  \n",
       "\n",
       "[303 rows x 14 columns]"
      ]
     },
     "execution_count": 1,
     "metadata": {},
     "output_type": "execute_result"
    }
   ],
   "source": [
    "#get the data \n",
    "import pandas as pd\n",
    "import sklearn\n",
    "import numpy as np\n",
    "data = pd.read_csv(\"013 heart-disease.csv\")\n",
    "data"
   ]
  },
  {
   "cell_type": "code",
   "execution_count": 2,
   "id": "f2fd66ef",
   "metadata": {},
   "outputs": [],
   "source": [
    "#lets get the x and y (features and labels )\n",
    "X =  data.drop(\"target\",axis=1)\n",
    "Y  = data[\"target\"]"
   ]
  },
  {
   "cell_type": "code",
   "execution_count": 3,
   "id": "18c5d1ea",
   "metadata": {},
   "outputs": [],
   "source": [
    "from sklearn.model_selection import train_test_split\n",
    "x_train,x_test,y_train,y_test = train_test_split(X,Y,test_size=0.2)\n"
   ]
  },
  {
   "cell_type": "code",
   "execution_count": 4,
   "id": "33c9962e",
   "metadata": {},
   "outputs": [
    {
     "data": {
      "text/plain": [
       "{'bootstrap': True,\n",
       " 'ccp_alpha': 0.0,\n",
       " 'class_weight': None,\n",
       " 'criterion': 'gini',\n",
       " 'max_depth': None,\n",
       " 'max_features': 'auto',\n",
       " 'max_leaf_nodes': None,\n",
       " 'max_samples': None,\n",
       " 'min_impurity_decrease': 0.0,\n",
       " 'min_samples_leaf': 1,\n",
       " 'min_samples_split': 2,\n",
       " 'min_weight_fraction_leaf': 0.0,\n",
       " 'n_estimators': 100,\n",
       " 'n_jobs': None,\n",
       " 'oob_score': False,\n",
       " 'random_state': None,\n",
       " 'verbose': 0,\n",
       " 'warm_start': False}"
      ]
     },
     "execution_count": 4,
     "metadata": {},
     "output_type": "execute_result"
    }
   ],
   "source": [
    "from sklearn.ensemble import RandomForestClassifier\n",
    "clf = RandomForestClassifier()\n",
    "clf.get_params()"
   ]
  },
  {
   "cell_type": "code",
   "execution_count": 5,
   "id": "fe13d451",
   "metadata": {},
   "outputs": [
    {
     "data": {
      "text/plain": [
       "RandomForestClassifier()"
      ]
     },
     "execution_count": 5,
     "metadata": {},
     "output_type": "execute_result"
    }
   ],
   "source": [
    "clf.fit(x_train,y_train)"
   ]
  },
  {
   "cell_type": "code",
   "execution_count": 6,
   "id": "7d86cafb",
   "metadata": {},
   "outputs": [
    {
     "data": {
      "text/plain": [
       "1.0"
      ]
     },
     "execution_count": 6,
     "metadata": {},
     "output_type": "execute_result"
    }
   ],
   "source": [
    "clf.score(x_train,y_train)"
   ]
  },
  {
   "cell_type": "code",
   "execution_count": 7,
   "id": "8140972d",
   "metadata": {},
   "outputs": [
    {
     "data": {
      "text/plain": [
       "0.8524590163934426"
      ]
     },
     "execution_count": 7,
     "metadata": {},
     "output_type": "execute_result"
    }
   ],
   "source": [
    "clf.score(x_test,y_test)"
   ]
  },
  {
   "cell_type": "code",
   "execution_count": 8,
   "id": "bd2a6afc",
   "metadata": {},
   "outputs": [
    {
     "data": {
      "text/plain": [
       "array([0, 0, 0, 0, 0, 1, 1, 0, 1, 0, 1, 1, 1, 1, 1, 0, 1, 1, 1, 1, 1, 1,\n",
       "       0, 0, 1, 1, 1, 1, 1, 1, 1, 0, 1, 1, 1, 1, 1, 1, 0, 1, 0, 0, 0, 1,\n",
       "       1, 1, 0, 0, 1, 0, 0, 0, 0, 0, 0, 1, 1, 0, 1, 0, 1], dtype=int64)"
      ]
     },
     "execution_count": 8,
     "metadata": {},
     "output_type": "execute_result"
    }
   ],
   "source": [
    "pred_probs = clf.predict(x_test)\n",
    "pred_probs"
   ]
  },
  {
   "cell_type": "code",
   "execution_count": 9,
   "id": "87600fc1",
   "metadata": {},
   "outputs": [],
   "source": [
    "from sklearn.metrics import accuracy_score,classification_report,confusion_matrix"
   ]
  },
  {
   "cell_type": "code",
   "execution_count": 10,
   "id": "0f44729d",
   "metadata": {},
   "outputs": [
    {
     "name": "stdout",
     "output_type": "stream",
     "text": [
      "              precision    recall  f1-score   support\n",
      "\n",
      "           0       0.84      0.81      0.82        26\n",
      "           1       0.86      0.89      0.87        35\n",
      "\n",
      "    accuracy                           0.85        61\n",
      "   macro avg       0.85      0.85      0.85        61\n",
      "weighted avg       0.85      0.85      0.85        61\n",
      "\n"
     ]
    }
   ],
   "source": [
    "print(classification_report(y_test,pred_probs))"
   ]
  },
  {
   "cell_type": "code",
   "execution_count": 11,
   "id": "a6246a1c",
   "metadata": {},
   "outputs": [
    {
     "data": {
      "text/plain": [
       "0.8524590163934426"
      ]
     },
     "execution_count": 11,
     "metadata": {},
     "output_type": "execute_result"
    }
   ],
   "source": [
    "accuracy_score(y_test,pred_probs)"
   ]
  },
  {
   "cell_type": "code",
   "execution_count": 12,
   "id": "7b622ab4",
   "metadata": {},
   "outputs": [
    {
     "data": {
      "text/plain": [
       "array([[21,  5],\n",
       "       [ 4, 31]], dtype=int64)"
      ]
     },
     "execution_count": 12,
     "metadata": {},
     "output_type": "execute_result"
    }
   ],
   "source": [
    "confusion_matrix(y_test,pred_probs)"
   ]
  },
  {
   "cell_type": "code",
   "execution_count": 13,
   "id": "268595a0",
   "metadata": {},
   "outputs": [
    {
     "name": "stdout",
     "output_type": "stream",
     "text": [
      "the parameters value is 1\n",
      "the scores of our model is 0.8032786885245902\n",
      "\n",
      "the parameters value is 11\n",
      "the scores of our model is 0.819672131147541\n",
      "\n",
      "the parameters value is 21\n",
      "the scores of our model is 0.8360655737704918\n",
      "\n",
      "the parameters value is 31\n",
      "the scores of our model is 0.8360655737704918\n",
      "\n",
      "the parameters value is 41\n",
      "the scores of our model is 0.8688524590163934\n",
      "\n",
      "the parameters value is 51\n",
      "the scores of our model is 0.8360655737704918\n",
      "\n",
      "the parameters value is 61\n",
      "the scores of our model is 0.819672131147541\n",
      "\n",
      "the parameters value is 71\n",
      "the scores of our model is 0.7868852459016393\n",
      "\n",
      "the parameters value is 81\n",
      "the scores of our model is 0.8032786885245902\n",
      "\n",
      "the parameters value is 91\n",
      "the scores of our model is 0.819672131147541\n",
      "\n"
     ]
    }
   ],
   "source": [
    "for i in range(1,100,10):\n",
    "    print(f\"the parameters value is {i}\")\n",
    "    clf = RandomForestClassifier(n_estimators=i).fit(x_train,y_train)\n",
    "    scores = clf.score(x_test,y_test)\n",
    "    print(f\"the scores of our model is {scores}\\n\")"
   ]
  },
  {
   "cell_type": "code",
   "execution_count": 14,
   "id": "d0ed92d3",
   "metadata": {},
   "outputs": [],
   "source": [
    "import pickle \n",
    "pickle.dump(clf,open(\"randomforestmodel\",\"wb\"))\n"
   ]
  },
  {
   "cell_type": "code",
   "execution_count": 15,
   "id": "fb7264fb",
   "metadata": {},
   "outputs": [
    {
     "data": {
      "text/plain": [
       "0.819672131147541"
      ]
     },
     "execution_count": 15,
     "metadata": {},
     "output_type": "execute_result"
    }
   ],
   "source": [
    "loaded_model = pickle.load(open(\"randomforestmodel\",\"rb\"))\n",
    "loaded_model.score(x_test,y_test)"
   ]
  },
  {
   "cell_type": "code",
   "execution_count": 16,
   "id": "454eb0c6",
   "metadata": {},
   "outputs": [
    {
     "data": {
      "text/html": [
       "<div>\n",
       "<style scoped>\n",
       "    .dataframe tbody tr th:only-of-type {\n",
       "        vertical-align: middle;\n",
       "    }\n",
       "\n",
       "    .dataframe tbody tr th {\n",
       "        vertical-align: top;\n",
       "    }\n",
       "\n",
       "    .dataframe thead th {\n",
       "        text-align: right;\n",
       "    }\n",
       "</style>\n",
       "<table border=\"1\" class=\"dataframe\">\n",
       "  <thead>\n",
       "    <tr style=\"text-align: right;\">\n",
       "      <th></th>\n",
       "      <th>Make</th>\n",
       "      <th>Colour</th>\n",
       "      <th>Odometer (KM)</th>\n",
       "      <th>Doors</th>\n",
       "      <th>Price</th>\n",
       "    </tr>\n",
       "  </thead>\n",
       "  <tbody>\n",
       "    <tr>\n",
       "      <th>0</th>\n",
       "      <td>Honda</td>\n",
       "      <td>White</td>\n",
       "      <td>35431</td>\n",
       "      <td>4</td>\n",
       "      <td>15323</td>\n",
       "    </tr>\n",
       "    <tr>\n",
       "      <th>1</th>\n",
       "      <td>BMW</td>\n",
       "      <td>Blue</td>\n",
       "      <td>192714</td>\n",
       "      <td>5</td>\n",
       "      <td>19943</td>\n",
       "    </tr>\n",
       "    <tr>\n",
       "      <th>2</th>\n",
       "      <td>Honda</td>\n",
       "      <td>White</td>\n",
       "      <td>84714</td>\n",
       "      <td>4</td>\n",
       "      <td>28343</td>\n",
       "    </tr>\n",
       "    <tr>\n",
       "      <th>3</th>\n",
       "      <td>Toyota</td>\n",
       "      <td>White</td>\n",
       "      <td>154365</td>\n",
       "      <td>4</td>\n",
       "      <td>13434</td>\n",
       "    </tr>\n",
       "    <tr>\n",
       "      <th>4</th>\n",
       "      <td>Nissan</td>\n",
       "      <td>Blue</td>\n",
       "      <td>181577</td>\n",
       "      <td>3</td>\n",
       "      <td>14043</td>\n",
       "    </tr>\n",
       "  </tbody>\n",
       "</table>\n",
       "</div>"
      ],
      "text/plain": [
       "     Make Colour  Odometer (KM)  Doors  Price\n",
       "0   Honda  White          35431      4  15323\n",
       "1     BMW   Blue         192714      5  19943\n",
       "2   Honda  White          84714      4  28343\n",
       "3  Toyota  White         154365      4  13434\n",
       "4  Nissan   Blue         181577      3  14043"
      ]
     },
     "execution_count": 16,
     "metadata": {},
     "output_type": "execute_result"
    }
   ],
   "source": [
    "car_sales_e = pd.read_csv(\"car-sales-extended.csv\")\n",
    "car_sales_e.head()"
   ]
  },
  {
   "cell_type": "code",
   "execution_count": 17,
   "id": "817bcb2d",
   "metadata": {},
   "outputs": [],
   "source": [
    "x = car_sales_e.drop(\"Price\",axis=1)\n",
    "y = car_sales_e[\"Price\"]"
   ]
  },
  {
   "cell_type": "code",
   "execution_count": 18,
   "id": "c9bc9d4d",
   "metadata": {},
   "outputs": [
    {
     "data": {
      "text/plain": [
       "array([[0.00000e+00, 1.00000e+00, 0.00000e+00, ..., 1.00000e+00,\n",
       "        0.00000e+00, 3.54310e+04],\n",
       "       [1.00000e+00, 0.00000e+00, 0.00000e+00, ..., 0.00000e+00,\n",
       "        1.00000e+00, 1.92714e+05],\n",
       "       [0.00000e+00, 1.00000e+00, 0.00000e+00, ..., 1.00000e+00,\n",
       "        0.00000e+00, 8.47140e+04],\n",
       "       ...,\n",
       "       [0.00000e+00, 0.00000e+00, 1.00000e+00, ..., 1.00000e+00,\n",
       "        0.00000e+00, 6.66040e+04],\n",
       "       [0.00000e+00, 1.00000e+00, 0.00000e+00, ..., 1.00000e+00,\n",
       "        0.00000e+00, 2.15883e+05],\n",
       "       [0.00000e+00, 0.00000e+00, 0.00000e+00, ..., 1.00000e+00,\n",
       "        0.00000e+00, 2.48360e+05]])"
      ]
     },
     "execution_count": 18,
     "metadata": {},
     "output_type": "execute_result"
    }
   ],
   "source": [
    "from sklearn.compose import ColumnTransformer\n",
    "from sklearn.preprocessing import OneHotEncoder\n",
    "o = OneHotEncoder()\n",
    "s_c = [\"Make\",\"Colour\",\"Doors\"]\n",
    "c_t = ColumnTransformer([(\"one_hot\",o,s_c)],remainder=\"passthrough\")\n",
    "t_x = c_t.fit_transform(x)\n",
    "t_x"
   ]
  },
  {
   "cell_type": "code",
   "execution_count": 19,
   "id": "107eb5c9",
   "metadata": {},
   "outputs": [
    {
     "data": {
      "text/html": [
       "<div>\n",
       "<style scoped>\n",
       "    .dataframe tbody tr th:only-of-type {\n",
       "        vertical-align: middle;\n",
       "    }\n",
       "\n",
       "    .dataframe tbody tr th {\n",
       "        vertical-align: top;\n",
       "    }\n",
       "\n",
       "    .dataframe thead th {\n",
       "        text-align: right;\n",
       "    }\n",
       "</style>\n",
       "<table border=\"1\" class=\"dataframe\">\n",
       "  <thead>\n",
       "    <tr style=\"text-align: right;\">\n",
       "      <th></th>\n",
       "      <th>0</th>\n",
       "      <th>1</th>\n",
       "      <th>2</th>\n",
       "      <th>3</th>\n",
       "      <th>4</th>\n",
       "      <th>5</th>\n",
       "      <th>6</th>\n",
       "      <th>7</th>\n",
       "      <th>8</th>\n",
       "      <th>9</th>\n",
       "      <th>10</th>\n",
       "      <th>11</th>\n",
       "      <th>12</th>\n",
       "    </tr>\n",
       "  </thead>\n",
       "  <tbody>\n",
       "    <tr>\n",
       "      <th>0</th>\n",
       "      <td>0.0</td>\n",
       "      <td>1.0</td>\n",
       "      <td>0.0</td>\n",
       "      <td>0.0</td>\n",
       "      <td>0.0</td>\n",
       "      <td>0.0</td>\n",
       "      <td>0.0</td>\n",
       "      <td>0.0</td>\n",
       "      <td>1.0</td>\n",
       "      <td>0.0</td>\n",
       "      <td>1.0</td>\n",
       "      <td>0.0</td>\n",
       "      <td>35431.0</td>\n",
       "    </tr>\n",
       "    <tr>\n",
       "      <th>1</th>\n",
       "      <td>1.0</td>\n",
       "      <td>0.0</td>\n",
       "      <td>0.0</td>\n",
       "      <td>0.0</td>\n",
       "      <td>0.0</td>\n",
       "      <td>1.0</td>\n",
       "      <td>0.0</td>\n",
       "      <td>0.0</td>\n",
       "      <td>0.0</td>\n",
       "      <td>0.0</td>\n",
       "      <td>0.0</td>\n",
       "      <td>1.0</td>\n",
       "      <td>192714.0</td>\n",
       "    </tr>\n",
       "    <tr>\n",
       "      <th>2</th>\n",
       "      <td>0.0</td>\n",
       "      <td>1.0</td>\n",
       "      <td>0.0</td>\n",
       "      <td>0.0</td>\n",
       "      <td>0.0</td>\n",
       "      <td>0.0</td>\n",
       "      <td>0.0</td>\n",
       "      <td>0.0</td>\n",
       "      <td>1.0</td>\n",
       "      <td>0.0</td>\n",
       "      <td>1.0</td>\n",
       "      <td>0.0</td>\n",
       "      <td>84714.0</td>\n",
       "    </tr>\n",
       "    <tr>\n",
       "      <th>3</th>\n",
       "      <td>0.0</td>\n",
       "      <td>0.0</td>\n",
       "      <td>0.0</td>\n",
       "      <td>1.0</td>\n",
       "      <td>0.0</td>\n",
       "      <td>0.0</td>\n",
       "      <td>0.0</td>\n",
       "      <td>0.0</td>\n",
       "      <td>1.0</td>\n",
       "      <td>0.0</td>\n",
       "      <td>1.0</td>\n",
       "      <td>0.0</td>\n",
       "      <td>154365.0</td>\n",
       "    </tr>\n",
       "    <tr>\n",
       "      <th>4</th>\n",
       "      <td>0.0</td>\n",
       "      <td>0.0</td>\n",
       "      <td>1.0</td>\n",
       "      <td>0.0</td>\n",
       "      <td>0.0</td>\n",
       "      <td>1.0</td>\n",
       "      <td>0.0</td>\n",
       "      <td>0.0</td>\n",
       "      <td>0.0</td>\n",
       "      <td>1.0</td>\n",
       "      <td>0.0</td>\n",
       "      <td>0.0</td>\n",
       "      <td>181577.0</td>\n",
       "    </tr>\n",
       "    <tr>\n",
       "      <th>...</th>\n",
       "      <td>...</td>\n",
       "      <td>...</td>\n",
       "      <td>...</td>\n",
       "      <td>...</td>\n",
       "      <td>...</td>\n",
       "      <td>...</td>\n",
       "      <td>...</td>\n",
       "      <td>...</td>\n",
       "      <td>...</td>\n",
       "      <td>...</td>\n",
       "      <td>...</td>\n",
       "      <td>...</td>\n",
       "      <td>...</td>\n",
       "    </tr>\n",
       "    <tr>\n",
       "      <th>995</th>\n",
       "      <td>0.0</td>\n",
       "      <td>0.0</td>\n",
       "      <td>0.0</td>\n",
       "      <td>1.0</td>\n",
       "      <td>1.0</td>\n",
       "      <td>0.0</td>\n",
       "      <td>0.0</td>\n",
       "      <td>0.0</td>\n",
       "      <td>0.0</td>\n",
       "      <td>0.0</td>\n",
       "      <td>1.0</td>\n",
       "      <td>0.0</td>\n",
       "      <td>35820.0</td>\n",
       "    </tr>\n",
       "    <tr>\n",
       "      <th>996</th>\n",
       "      <td>0.0</td>\n",
       "      <td>0.0</td>\n",
       "      <td>1.0</td>\n",
       "      <td>0.0</td>\n",
       "      <td>0.0</td>\n",
       "      <td>0.0</td>\n",
       "      <td>0.0</td>\n",
       "      <td>0.0</td>\n",
       "      <td>1.0</td>\n",
       "      <td>1.0</td>\n",
       "      <td>0.0</td>\n",
       "      <td>0.0</td>\n",
       "      <td>155144.0</td>\n",
       "    </tr>\n",
       "    <tr>\n",
       "      <th>997</th>\n",
       "      <td>0.0</td>\n",
       "      <td>0.0</td>\n",
       "      <td>1.0</td>\n",
       "      <td>0.0</td>\n",
       "      <td>0.0</td>\n",
       "      <td>1.0</td>\n",
       "      <td>0.0</td>\n",
       "      <td>0.0</td>\n",
       "      <td>0.0</td>\n",
       "      <td>0.0</td>\n",
       "      <td>1.0</td>\n",
       "      <td>0.0</td>\n",
       "      <td>66604.0</td>\n",
       "    </tr>\n",
       "    <tr>\n",
       "      <th>998</th>\n",
       "      <td>0.0</td>\n",
       "      <td>1.0</td>\n",
       "      <td>0.0</td>\n",
       "      <td>0.0</td>\n",
       "      <td>0.0</td>\n",
       "      <td>0.0</td>\n",
       "      <td>0.0</td>\n",
       "      <td>0.0</td>\n",
       "      <td>1.0</td>\n",
       "      <td>0.0</td>\n",
       "      <td>1.0</td>\n",
       "      <td>0.0</td>\n",
       "      <td>215883.0</td>\n",
       "    </tr>\n",
       "    <tr>\n",
       "      <th>999</th>\n",
       "      <td>0.0</td>\n",
       "      <td>0.0</td>\n",
       "      <td>0.0</td>\n",
       "      <td>1.0</td>\n",
       "      <td>0.0</td>\n",
       "      <td>1.0</td>\n",
       "      <td>0.0</td>\n",
       "      <td>0.0</td>\n",
       "      <td>0.0</td>\n",
       "      <td>0.0</td>\n",
       "      <td>1.0</td>\n",
       "      <td>0.0</td>\n",
       "      <td>248360.0</td>\n",
       "    </tr>\n",
       "  </tbody>\n",
       "</table>\n",
       "<p>1000 rows × 13 columns</p>\n",
       "</div>"
      ],
      "text/plain": [
       "      0    1    2    3    4    5    6    7    8    9    10   11        12\n",
       "0    0.0  1.0  0.0  0.0  0.0  0.0  0.0  0.0  1.0  0.0  1.0  0.0   35431.0\n",
       "1    1.0  0.0  0.0  0.0  0.0  1.0  0.0  0.0  0.0  0.0  0.0  1.0  192714.0\n",
       "2    0.0  1.0  0.0  0.0  0.0  0.0  0.0  0.0  1.0  0.0  1.0  0.0   84714.0\n",
       "3    0.0  0.0  0.0  1.0  0.0  0.0  0.0  0.0  1.0  0.0  1.0  0.0  154365.0\n",
       "4    0.0  0.0  1.0  0.0  0.0  1.0  0.0  0.0  0.0  1.0  0.0  0.0  181577.0\n",
       "..   ...  ...  ...  ...  ...  ...  ...  ...  ...  ...  ...  ...       ...\n",
       "995  0.0  0.0  0.0  1.0  1.0  0.0  0.0  0.0  0.0  0.0  1.0  0.0   35820.0\n",
       "996  0.0  0.0  1.0  0.0  0.0  0.0  0.0  0.0  1.0  1.0  0.0  0.0  155144.0\n",
       "997  0.0  0.0  1.0  0.0  0.0  1.0  0.0  0.0  0.0  0.0  1.0  0.0   66604.0\n",
       "998  0.0  1.0  0.0  0.0  0.0  0.0  0.0  0.0  1.0  0.0  1.0  0.0  215883.0\n",
       "999  0.0  0.0  0.0  1.0  0.0  1.0  0.0  0.0  0.0  0.0  1.0  0.0  248360.0\n",
       "\n",
       "[1000 rows x 13 columns]"
      ]
     },
     "execution_count": 19,
     "metadata": {},
     "output_type": "execute_result"
    }
   ],
   "source": [
    "pd.DataFrame(t_x,)"
   ]
  },
  {
   "cell_type": "code",
   "execution_count": 20,
   "id": "51d7f274",
   "metadata": {},
   "outputs": [
    {
     "data": {
      "text/html": [
       "<div>\n",
       "<style scoped>\n",
       "    .dataframe tbody tr th:only-of-type {\n",
       "        vertical-align: middle;\n",
       "    }\n",
       "\n",
       "    .dataframe tbody tr th {\n",
       "        vertical-align: top;\n",
       "    }\n",
       "\n",
       "    .dataframe thead th {\n",
       "        text-align: right;\n",
       "    }\n",
       "</style>\n",
       "<table border=\"1\" class=\"dataframe\">\n",
       "  <thead>\n",
       "    <tr style=\"text-align: right;\">\n",
       "      <th></th>\n",
       "      <th>Doors</th>\n",
       "      <th>Make_BMW</th>\n",
       "      <th>Make_Honda</th>\n",
       "      <th>Make_Nissan</th>\n",
       "      <th>Make_Toyota</th>\n",
       "      <th>Colour_Black</th>\n",
       "      <th>Colour_Blue</th>\n",
       "      <th>Colour_Green</th>\n",
       "      <th>Colour_Red</th>\n",
       "      <th>Colour_White</th>\n",
       "    </tr>\n",
       "  </thead>\n",
       "  <tbody>\n",
       "    <tr>\n",
       "      <th>0</th>\n",
       "      <td>4</td>\n",
       "      <td>0</td>\n",
       "      <td>1</td>\n",
       "      <td>0</td>\n",
       "      <td>0</td>\n",
       "      <td>0</td>\n",
       "      <td>0</td>\n",
       "      <td>0</td>\n",
       "      <td>0</td>\n",
       "      <td>1</td>\n",
       "    </tr>\n",
       "    <tr>\n",
       "      <th>1</th>\n",
       "      <td>5</td>\n",
       "      <td>1</td>\n",
       "      <td>0</td>\n",
       "      <td>0</td>\n",
       "      <td>0</td>\n",
       "      <td>0</td>\n",
       "      <td>1</td>\n",
       "      <td>0</td>\n",
       "      <td>0</td>\n",
       "      <td>0</td>\n",
       "    </tr>\n",
       "    <tr>\n",
       "      <th>2</th>\n",
       "      <td>4</td>\n",
       "      <td>0</td>\n",
       "      <td>1</td>\n",
       "      <td>0</td>\n",
       "      <td>0</td>\n",
       "      <td>0</td>\n",
       "      <td>0</td>\n",
       "      <td>0</td>\n",
       "      <td>0</td>\n",
       "      <td>1</td>\n",
       "    </tr>\n",
       "    <tr>\n",
       "      <th>3</th>\n",
       "      <td>4</td>\n",
       "      <td>0</td>\n",
       "      <td>0</td>\n",
       "      <td>0</td>\n",
       "      <td>1</td>\n",
       "      <td>0</td>\n",
       "      <td>0</td>\n",
       "      <td>0</td>\n",
       "      <td>0</td>\n",
       "      <td>1</td>\n",
       "    </tr>\n",
       "    <tr>\n",
       "      <th>4</th>\n",
       "      <td>3</td>\n",
       "      <td>0</td>\n",
       "      <td>0</td>\n",
       "      <td>1</td>\n",
       "      <td>0</td>\n",
       "      <td>0</td>\n",
       "      <td>1</td>\n",
       "      <td>0</td>\n",
       "      <td>0</td>\n",
       "      <td>0</td>\n",
       "    </tr>\n",
       "    <tr>\n",
       "      <th>...</th>\n",
       "      <td>...</td>\n",
       "      <td>...</td>\n",
       "      <td>...</td>\n",
       "      <td>...</td>\n",
       "      <td>...</td>\n",
       "      <td>...</td>\n",
       "      <td>...</td>\n",
       "      <td>...</td>\n",
       "      <td>...</td>\n",
       "      <td>...</td>\n",
       "    </tr>\n",
       "    <tr>\n",
       "      <th>995</th>\n",
       "      <td>4</td>\n",
       "      <td>0</td>\n",
       "      <td>0</td>\n",
       "      <td>0</td>\n",
       "      <td>1</td>\n",
       "      <td>1</td>\n",
       "      <td>0</td>\n",
       "      <td>0</td>\n",
       "      <td>0</td>\n",
       "      <td>0</td>\n",
       "    </tr>\n",
       "    <tr>\n",
       "      <th>996</th>\n",
       "      <td>3</td>\n",
       "      <td>0</td>\n",
       "      <td>0</td>\n",
       "      <td>1</td>\n",
       "      <td>0</td>\n",
       "      <td>0</td>\n",
       "      <td>0</td>\n",
       "      <td>0</td>\n",
       "      <td>0</td>\n",
       "      <td>1</td>\n",
       "    </tr>\n",
       "    <tr>\n",
       "      <th>997</th>\n",
       "      <td>4</td>\n",
       "      <td>0</td>\n",
       "      <td>0</td>\n",
       "      <td>1</td>\n",
       "      <td>0</td>\n",
       "      <td>0</td>\n",
       "      <td>1</td>\n",
       "      <td>0</td>\n",
       "      <td>0</td>\n",
       "      <td>0</td>\n",
       "    </tr>\n",
       "    <tr>\n",
       "      <th>998</th>\n",
       "      <td>4</td>\n",
       "      <td>0</td>\n",
       "      <td>1</td>\n",
       "      <td>0</td>\n",
       "      <td>0</td>\n",
       "      <td>0</td>\n",
       "      <td>0</td>\n",
       "      <td>0</td>\n",
       "      <td>0</td>\n",
       "      <td>1</td>\n",
       "    </tr>\n",
       "    <tr>\n",
       "      <th>999</th>\n",
       "      <td>4</td>\n",
       "      <td>0</td>\n",
       "      <td>0</td>\n",
       "      <td>0</td>\n",
       "      <td>1</td>\n",
       "      <td>0</td>\n",
       "      <td>1</td>\n",
       "      <td>0</td>\n",
       "      <td>0</td>\n",
       "      <td>0</td>\n",
       "    </tr>\n",
       "  </tbody>\n",
       "</table>\n",
       "<p>1000 rows × 10 columns</p>\n",
       "</div>"
      ],
      "text/plain": [
       "     Doors  Make_BMW  Make_Honda  Make_Nissan  Make_Toyota  Colour_Black  \\\n",
       "0        4         0           1            0            0             0   \n",
       "1        5         1           0            0            0             0   \n",
       "2        4         0           1            0            0             0   \n",
       "3        4         0           0            0            1             0   \n",
       "4        3         0           0            1            0             0   \n",
       "..     ...       ...         ...          ...          ...           ...   \n",
       "995      4         0           0            0            1             1   \n",
       "996      3         0           0            1            0             0   \n",
       "997      4         0           0            1            0             0   \n",
       "998      4         0           1            0            0             0   \n",
       "999      4         0           0            0            1             0   \n",
       "\n",
       "     Colour_Blue  Colour_Green  Colour_Red  Colour_White  \n",
       "0              0             0           0             1  \n",
       "1              1             0           0             0  \n",
       "2              0             0           0             1  \n",
       "3              0             0           0             1  \n",
       "4              1             0           0             0  \n",
       "..           ...           ...         ...           ...  \n",
       "995            0             0           0             0  \n",
       "996            0             0           0             1  \n",
       "997            1             0           0             0  \n",
       "998            0             0           0             1  \n",
       "999            1             0           0             0  \n",
       "\n",
       "[1000 rows x 10 columns]"
      ]
     },
     "execution_count": 20,
     "metadata": {},
     "output_type": "execute_result"
    }
   ],
   "source": [
    "dum = pd.get_dummies(car_sales_e[[\"Make\",\"Colour\",\"Doors\"]])\n",
    "dum"
   ]
  },
  {
   "cell_type": "code",
   "execution_count": 21,
   "id": "7ddcea4b",
   "metadata": {},
   "outputs": [],
   "source": [
    "x_train,x_test,y_train,y_test = train_test_split(t_x,y,test_size=0.2)"
   ]
  },
  {
   "cell_type": "code",
   "execution_count": 22,
   "id": "94a2bf88",
   "metadata": {},
   "outputs": [
    {
     "data": {
      "text/plain": [
       "RandomForestClassifier(n_estimators=91)"
      ]
     },
     "execution_count": 22,
     "metadata": {},
     "output_type": "execute_result"
    }
   ],
   "source": [
    "clf.fit(x_train,y_train)"
   ]
  },
  {
   "cell_type": "code",
   "execution_count": 23,
   "id": "a6e6500e",
   "metadata": {},
   "outputs": [
    {
     "data": {
      "text/plain": [
       "1.0"
      ]
     },
     "execution_count": 23,
     "metadata": {},
     "output_type": "execute_result"
    }
   ],
   "source": [
    "clf.score(x_train,y_train)"
   ]
  },
  {
   "cell_type": "code",
   "execution_count": 24,
   "id": "e6ba6c8a",
   "metadata": {},
   "outputs": [
    {
     "data": {
      "text/plain": [
       "0.0"
      ]
     },
     "execution_count": 24,
     "metadata": {},
     "output_type": "execute_result"
    }
   ],
   "source": [
    "clf.score(x_test,y_test)"
   ]
  },
  {
   "cell_type": "code",
   "execution_count": 25,
   "id": "e76ab03d",
   "metadata": {},
   "outputs": [
    {
     "data": {
      "text/html": [
       "<div>\n",
       "<style scoped>\n",
       "    .dataframe tbody tr th:only-of-type {\n",
       "        vertical-align: middle;\n",
       "    }\n",
       "\n",
       "    .dataframe tbody tr th {\n",
       "        vertical-align: top;\n",
       "    }\n",
       "\n",
       "    .dataframe thead th {\n",
       "        text-align: right;\n",
       "    }\n",
       "</style>\n",
       "<table border=\"1\" class=\"dataframe\">\n",
       "  <thead>\n",
       "    <tr style=\"text-align: right;\">\n",
       "      <th></th>\n",
       "      <th>Make</th>\n",
       "      <th>Colour</th>\n",
       "      <th>Odometer (KM)</th>\n",
       "      <th>Doors</th>\n",
       "      <th>Price</th>\n",
       "    </tr>\n",
       "  </thead>\n",
       "  <tbody>\n",
       "    <tr>\n",
       "      <th>0</th>\n",
       "      <td>Honda</td>\n",
       "      <td>White</td>\n",
       "      <td>35431.0</td>\n",
       "      <td>4.0</td>\n",
       "      <td>15323.0</td>\n",
       "    </tr>\n",
       "    <tr>\n",
       "      <th>1</th>\n",
       "      <td>BMW</td>\n",
       "      <td>Blue</td>\n",
       "      <td>192714.0</td>\n",
       "      <td>5.0</td>\n",
       "      <td>19943.0</td>\n",
       "    </tr>\n",
       "    <tr>\n",
       "      <th>2</th>\n",
       "      <td>Honda</td>\n",
       "      <td>White</td>\n",
       "      <td>84714.0</td>\n",
       "      <td>4.0</td>\n",
       "      <td>28343.0</td>\n",
       "    </tr>\n",
       "    <tr>\n",
       "      <th>3</th>\n",
       "      <td>Toyota</td>\n",
       "      <td>White</td>\n",
       "      <td>154365.0</td>\n",
       "      <td>4.0</td>\n",
       "      <td>13434.0</td>\n",
       "    </tr>\n",
       "    <tr>\n",
       "      <th>4</th>\n",
       "      <td>Nissan</td>\n",
       "      <td>Blue</td>\n",
       "      <td>181577.0</td>\n",
       "      <td>3.0</td>\n",
       "      <td>14043.0</td>\n",
       "    </tr>\n",
       "  </tbody>\n",
       "</table>\n",
       "</div>"
      ],
      "text/plain": [
       "     Make Colour  Odometer (KM)  Doors    Price\n",
       "0   Honda  White        35431.0    4.0  15323.0\n",
       "1     BMW   Blue       192714.0    5.0  19943.0\n",
       "2   Honda  White        84714.0    4.0  28343.0\n",
       "3  Toyota  White       154365.0    4.0  13434.0\n",
       "4  Nissan   Blue       181577.0    3.0  14043.0"
      ]
     },
     "execution_count": 25,
     "metadata": {},
     "output_type": "execute_result"
    }
   ],
   "source": [
    "car_sales_m = pd.read_csv(\"car-sales-extended-missing-data.csv\")\n",
    "car_sales_m.head()"
   ]
  },
  {
   "cell_type": "code",
   "execution_count": 26,
   "id": "32c66831",
   "metadata": {},
   "outputs": [
    {
     "data": {
      "text/plain": [
       "Make             49\n",
       "Colour           50\n",
       "Odometer (KM)    50\n",
       "Doors            50\n",
       "Price            50\n",
       "dtype: int64"
      ]
     },
     "execution_count": 26,
     "metadata": {},
     "output_type": "execute_result"
    }
   ],
   "source": [
    "car_sales_m.isna().sum()"
   ]
  },
  {
   "cell_type": "code",
   "execution_count": 27,
   "id": "fd8dab02",
   "metadata": {},
   "outputs": [
    {
     "data": {
      "text/plain": [
       "4.0    811\n",
       "5.0     75\n",
       "3.0     64\n",
       "Name: Doors, dtype: int64"
      ]
     },
     "execution_count": 27,
     "metadata": {},
     "output_type": "execute_result"
    }
   ],
   "source": [
    "car_sales_m[\"Doors\"].value_counts()"
   ]
  },
  {
   "cell_type": "code",
   "execution_count": 28,
   "id": "635e9f93",
   "metadata": {},
   "outputs": [
    {
     "data": {
      "text/html": [
       "<div>\n",
       "<style scoped>\n",
       "    .dataframe tbody tr th:only-of-type {\n",
       "        vertical-align: middle;\n",
       "    }\n",
       "\n",
       "    .dataframe tbody tr th {\n",
       "        vertical-align: top;\n",
       "    }\n",
       "\n",
       "    .dataframe thead th {\n",
       "        text-align: right;\n",
       "    }\n",
       "</style>\n",
       "<table border=\"1\" class=\"dataframe\">\n",
       "  <thead>\n",
       "    <tr style=\"text-align: right;\">\n",
       "      <th></th>\n",
       "      <th>Make</th>\n",
       "      <th>Colour</th>\n",
       "      <th>Odometer (KM)</th>\n",
       "      <th>Doors</th>\n",
       "      <th>Price</th>\n",
       "    </tr>\n",
       "  </thead>\n",
       "  <tbody>\n",
       "    <tr>\n",
       "      <th>0</th>\n",
       "      <td>Honda</td>\n",
       "      <td>White</td>\n",
       "      <td>35431.0</td>\n",
       "      <td>4.0</td>\n",
       "      <td>15323.0</td>\n",
       "    </tr>\n",
       "    <tr>\n",
       "      <th>1</th>\n",
       "      <td>BMW</td>\n",
       "      <td>Blue</td>\n",
       "      <td>192714.0</td>\n",
       "      <td>5.0</td>\n",
       "      <td>19943.0</td>\n",
       "    </tr>\n",
       "    <tr>\n",
       "      <th>2</th>\n",
       "      <td>Honda</td>\n",
       "      <td>White</td>\n",
       "      <td>84714.0</td>\n",
       "      <td>4.0</td>\n",
       "      <td>28343.0</td>\n",
       "    </tr>\n",
       "    <tr>\n",
       "      <th>3</th>\n",
       "      <td>Toyota</td>\n",
       "      <td>White</td>\n",
       "      <td>154365.0</td>\n",
       "      <td>4.0</td>\n",
       "      <td>13434.0</td>\n",
       "    </tr>\n",
       "    <tr>\n",
       "      <th>4</th>\n",
       "      <td>Nissan</td>\n",
       "      <td>Blue</td>\n",
       "      <td>181577.0</td>\n",
       "      <td>3.0</td>\n",
       "      <td>14043.0</td>\n",
       "    </tr>\n",
       "    <tr>\n",
       "      <th>...</th>\n",
       "      <td>...</td>\n",
       "      <td>...</td>\n",
       "      <td>...</td>\n",
       "      <td>...</td>\n",
       "      <td>...</td>\n",
       "    </tr>\n",
       "    <tr>\n",
       "      <th>995</th>\n",
       "      <td>Toyota</td>\n",
       "      <td>Black</td>\n",
       "      <td>35820.0</td>\n",
       "      <td>4.0</td>\n",
       "      <td>32042.0</td>\n",
       "    </tr>\n",
       "    <tr>\n",
       "      <th>996</th>\n",
       "      <td>Missing</td>\n",
       "      <td>White</td>\n",
       "      <td>155144.0</td>\n",
       "      <td>3.0</td>\n",
       "      <td>5716.0</td>\n",
       "    </tr>\n",
       "    <tr>\n",
       "      <th>997</th>\n",
       "      <td>Nissan</td>\n",
       "      <td>Blue</td>\n",
       "      <td>66604.0</td>\n",
       "      <td>4.0</td>\n",
       "      <td>31570.0</td>\n",
       "    </tr>\n",
       "    <tr>\n",
       "      <th>998</th>\n",
       "      <td>Honda</td>\n",
       "      <td>White</td>\n",
       "      <td>215883.0</td>\n",
       "      <td>4.0</td>\n",
       "      <td>4001.0</td>\n",
       "    </tr>\n",
       "    <tr>\n",
       "      <th>999</th>\n",
       "      <td>Toyota</td>\n",
       "      <td>Blue</td>\n",
       "      <td>248360.0</td>\n",
       "      <td>4.0</td>\n",
       "      <td>12732.0</td>\n",
       "    </tr>\n",
       "  </tbody>\n",
       "</table>\n",
       "<p>1000 rows × 5 columns</p>\n",
       "</div>"
      ],
      "text/plain": [
       "        Make Colour  Odometer (KM)  Doors    Price\n",
       "0      Honda  White        35431.0    4.0  15323.0\n",
       "1        BMW   Blue       192714.0    5.0  19943.0\n",
       "2      Honda  White        84714.0    4.0  28343.0\n",
       "3     Toyota  White       154365.0    4.0  13434.0\n",
       "4     Nissan   Blue       181577.0    3.0  14043.0\n",
       "..       ...    ...            ...    ...      ...\n",
       "995   Toyota  Black        35820.0    4.0  32042.0\n",
       "996  Missing  White       155144.0    3.0   5716.0\n",
       "997   Nissan   Blue        66604.0    4.0  31570.0\n",
       "998    Honda  White       215883.0    4.0   4001.0\n",
       "999   Toyota   Blue       248360.0    4.0  12732.0\n",
       "\n",
       "[1000 rows x 5 columns]"
      ]
     },
     "execution_count": 28,
     "metadata": {},
     "output_type": "execute_result"
    }
   ],
   "source": [
    "car_sales_m[\"Make\"].fillna(\"Missing\",inplace=True)#inplace means original data also change\n",
    "car_sales_m[\"Colour\"].fillna(\"Missing\",inplace=True)\n",
    "car_sales_m[\"Odometer (KM)\"].fillna(car_sales_m[\"Odometer (KM)\"].mean(),inplace=True)\n",
    "car_sales_m[\"Doors\"].fillna(4,inplace=True)\n",
    "car_sales_m"
   ]
  },
  {
   "cell_type": "code",
   "execution_count": 29,
   "id": "fa1e8f15",
   "metadata": {},
   "outputs": [
    {
     "data": {
      "text/plain": [
       "Make              0\n",
       "Colour            0\n",
       "Odometer (KM)     0\n",
       "Doors             0\n",
       "Price            50\n",
       "dtype: int64"
      ]
     },
     "execution_count": 29,
     "metadata": {},
     "output_type": "execute_result"
    }
   ],
   "source": [
    "car_sales_m.isna().sum()"
   ]
  },
  {
   "cell_type": "code",
   "execution_count": 30,
   "id": "9ce47bcf",
   "metadata": {},
   "outputs": [],
   "source": [
    "car_sales_m.dropna(inplace=True)"
   ]
  },
  {
   "cell_type": "code",
   "execution_count": 31,
   "id": "b6db67bc",
   "metadata": {},
   "outputs": [
    {
     "data": {
      "text/plain": [
       "Make             0\n",
       "Colour           0\n",
       "Odometer (KM)    0\n",
       "Doors            0\n",
       "Price            0\n",
       "dtype: int64"
      ]
     },
     "execution_count": 31,
     "metadata": {},
     "output_type": "execute_result"
    }
   ],
   "source": [
    "car_sales_m.isna().sum()"
   ]
  },
  {
   "cell_type": "code",
   "execution_count": 32,
   "id": "5a1994e7",
   "metadata": {},
   "outputs": [
    {
     "data": {
      "text/html": [
       "<div>\n",
       "<style scoped>\n",
       "    .dataframe tbody tr th:only-of-type {\n",
       "        vertical-align: middle;\n",
       "    }\n",
       "\n",
       "    .dataframe tbody tr th {\n",
       "        vertical-align: top;\n",
       "    }\n",
       "\n",
       "    .dataframe thead th {\n",
       "        text-align: right;\n",
       "    }\n",
       "</style>\n",
       "<table border=\"1\" class=\"dataframe\">\n",
       "  <thead>\n",
       "    <tr style=\"text-align: right;\">\n",
       "      <th></th>\n",
       "      <th>Make</th>\n",
       "      <th>Colour</th>\n",
       "      <th>Odometer (KM)</th>\n",
       "      <th>Doors</th>\n",
       "      <th>Price</th>\n",
       "    </tr>\n",
       "  </thead>\n",
       "  <tbody>\n",
       "    <tr>\n",
       "      <th>0</th>\n",
       "      <td>Honda</td>\n",
       "      <td>White</td>\n",
       "      <td>35431.0</td>\n",
       "      <td>4.0</td>\n",
       "      <td>15323.0</td>\n",
       "    </tr>\n",
       "    <tr>\n",
       "      <th>1</th>\n",
       "      <td>BMW</td>\n",
       "      <td>Blue</td>\n",
       "      <td>192714.0</td>\n",
       "      <td>5.0</td>\n",
       "      <td>19943.0</td>\n",
       "    </tr>\n",
       "    <tr>\n",
       "      <th>2</th>\n",
       "      <td>Honda</td>\n",
       "      <td>White</td>\n",
       "      <td>84714.0</td>\n",
       "      <td>4.0</td>\n",
       "      <td>28343.0</td>\n",
       "    </tr>\n",
       "    <tr>\n",
       "      <th>3</th>\n",
       "      <td>Toyota</td>\n",
       "      <td>White</td>\n",
       "      <td>154365.0</td>\n",
       "      <td>4.0</td>\n",
       "      <td>13434.0</td>\n",
       "    </tr>\n",
       "    <tr>\n",
       "      <th>4</th>\n",
       "      <td>Nissan</td>\n",
       "      <td>Blue</td>\n",
       "      <td>181577.0</td>\n",
       "      <td>3.0</td>\n",
       "      <td>14043.0</td>\n",
       "    </tr>\n",
       "    <tr>\n",
       "      <th>...</th>\n",
       "      <td>...</td>\n",
       "      <td>...</td>\n",
       "      <td>...</td>\n",
       "      <td>...</td>\n",
       "      <td>...</td>\n",
       "    </tr>\n",
       "    <tr>\n",
       "      <th>995</th>\n",
       "      <td>Toyota</td>\n",
       "      <td>Black</td>\n",
       "      <td>35820.0</td>\n",
       "      <td>4.0</td>\n",
       "      <td>32042.0</td>\n",
       "    </tr>\n",
       "    <tr>\n",
       "      <th>996</th>\n",
       "      <td>NaN</td>\n",
       "      <td>White</td>\n",
       "      <td>155144.0</td>\n",
       "      <td>3.0</td>\n",
       "      <td>5716.0</td>\n",
       "    </tr>\n",
       "    <tr>\n",
       "      <th>997</th>\n",
       "      <td>Nissan</td>\n",
       "      <td>Blue</td>\n",
       "      <td>66604.0</td>\n",
       "      <td>4.0</td>\n",
       "      <td>31570.0</td>\n",
       "    </tr>\n",
       "    <tr>\n",
       "      <th>998</th>\n",
       "      <td>Honda</td>\n",
       "      <td>White</td>\n",
       "      <td>215883.0</td>\n",
       "      <td>4.0</td>\n",
       "      <td>4001.0</td>\n",
       "    </tr>\n",
       "    <tr>\n",
       "      <th>999</th>\n",
       "      <td>Toyota</td>\n",
       "      <td>Blue</td>\n",
       "      <td>248360.0</td>\n",
       "      <td>4.0</td>\n",
       "      <td>12732.0</td>\n",
       "    </tr>\n",
       "  </tbody>\n",
       "</table>\n",
       "<p>1000 rows × 5 columns</p>\n",
       "</div>"
      ],
      "text/plain": [
       "       Make Colour  Odometer (KM)  Doors    Price\n",
       "0     Honda  White        35431.0    4.0  15323.0\n",
       "1       BMW   Blue       192714.0    5.0  19943.0\n",
       "2     Honda  White        84714.0    4.0  28343.0\n",
       "3    Toyota  White       154365.0    4.0  13434.0\n",
       "4    Nissan   Blue       181577.0    3.0  14043.0\n",
       "..      ...    ...            ...    ...      ...\n",
       "995  Toyota  Black        35820.0    4.0  32042.0\n",
       "996     NaN  White       155144.0    3.0   5716.0\n",
       "997  Nissan   Blue        66604.0    4.0  31570.0\n",
       "998   Honda  White       215883.0    4.0   4001.0\n",
       "999  Toyota   Blue       248360.0    4.0  12732.0\n",
       "\n",
       "[1000 rows x 5 columns]"
      ]
     },
     "execution_count": 32,
     "metadata": {},
     "output_type": "execute_result"
    }
   ],
   "source": [
    "car_sales_m = pd.read_csv(\"car-sales-extended-missing-data.csv\")\n",
    "car_sales_m"
   ]
  },
  {
   "cell_type": "code",
   "execution_count": 33,
   "id": "b0367e00",
   "metadata": {},
   "outputs": [
    {
     "data": {
      "text/plain": [
       "Make             49\n",
       "Colour           50\n",
       "Odometer (KM)    50\n",
       "Doors            50\n",
       "Price            50\n",
       "dtype: int64"
      ]
     },
     "execution_count": 33,
     "metadata": {},
     "output_type": "execute_result"
    }
   ],
   "source": [
    "car_sales_m.isna().sum()"
   ]
  },
  {
   "cell_type": "code",
   "execution_count": 34,
   "id": "6b74a676",
   "metadata": {},
   "outputs": [
    {
     "data": {
      "text/plain": [
       "Make             47\n",
       "Colour           46\n",
       "Odometer (KM)    48\n",
       "Doors            47\n",
       "Price             0\n",
       "dtype: int64"
      ]
     },
     "execution_count": 34,
     "metadata": {},
     "output_type": "execute_result"
    }
   ],
   "source": [
    "car_sales_m.dropna(subset=\"Price\",inplace=True)\n",
    "car_sales_m.isna().sum()"
   ]
  },
  {
   "cell_type": "code",
   "execution_count": 35,
   "id": "fbb28b51",
   "metadata": {},
   "outputs": [],
   "source": [
    "x = car_sales_m.drop(\"Price\",axis=1)\n",
    "y = car_sales_m[\"Price\"]"
   ]
  },
  {
   "cell_type": "code",
   "execution_count": 36,
   "id": "f059519e",
   "metadata": {},
   "outputs": [
    {
     "data": {
      "text/plain": [
       "array([['Honda', 'White', 4.0, 35431.0],\n",
       "       ['BMW', 'Blue', 5.0, 192714.0],\n",
       "       ['Honda', 'White', 4.0, 84714.0],\n",
       "       ...,\n",
       "       ['Nissan', 'Blue', 4.0, 66604.0],\n",
       "       ['Honda', 'White', 4.0, 215883.0],\n",
       "       ['Toyota', 'Blue', 4.0, 248360.0]], dtype=object)"
      ]
     },
     "execution_count": 36,
     "metadata": {},
     "output_type": "execute_result"
    }
   ],
   "source": [
    "from sklearn.impute import SimpleImputer\n",
    "from sklearn.compose import ColumnTransformer\n",
    "\n",
    "string_impute = SimpleImputer(strategy=\"constant\",fill_value=\"Missing\")\n",
    "num_impute = SimpleImputer(strategy=\"constant\",fill_value=4)\n",
    "mean_impute = SimpleImputer(strategy=\"mean\")\n",
    "\n",
    "string_features = [\"Make\",\"Colour\"]\n",
    "num_features = [\"Doors\"]\n",
    "mean_features=[\"Odometer (KM)\"]\n",
    "\n",
    "c_t = ColumnTransformer([(\"string_imputer\",string_impute,string_features),\n",
    "                        (\"num_imputer\",num_impute,num_features),\n",
    "                        (\"mean_impute\",mean_impute,mean_features)])\n",
    "t_x = c_t.fit_transform(x)\n",
    "t_x"
   ]
  },
  {
   "cell_type": "code",
   "execution_count": 37,
   "id": "7c961dac",
   "metadata": {},
   "outputs": [
    {
     "data": {
      "text/html": [
       "<div>\n",
       "<style scoped>\n",
       "    .dataframe tbody tr th:only-of-type {\n",
       "        vertical-align: middle;\n",
       "    }\n",
       "\n",
       "    .dataframe tbody tr th {\n",
       "        vertical-align: top;\n",
       "    }\n",
       "\n",
       "    .dataframe thead th {\n",
       "        text-align: right;\n",
       "    }\n",
       "</style>\n",
       "<table border=\"1\" class=\"dataframe\">\n",
       "  <thead>\n",
       "    <tr style=\"text-align: right;\">\n",
       "      <th></th>\n",
       "      <th>Make</th>\n",
       "      <th>Colour</th>\n",
       "      <th>Doors</th>\n",
       "      <th>Odometer(KM)</th>\n",
       "    </tr>\n",
       "  </thead>\n",
       "  <tbody>\n",
       "    <tr>\n",
       "      <th>0</th>\n",
       "      <td>Honda</td>\n",
       "      <td>White</td>\n",
       "      <td>4.0</td>\n",
       "      <td>35431.0</td>\n",
       "    </tr>\n",
       "    <tr>\n",
       "      <th>1</th>\n",
       "      <td>BMW</td>\n",
       "      <td>Blue</td>\n",
       "      <td>5.0</td>\n",
       "      <td>192714.0</td>\n",
       "    </tr>\n",
       "    <tr>\n",
       "      <th>2</th>\n",
       "      <td>Honda</td>\n",
       "      <td>White</td>\n",
       "      <td>4.0</td>\n",
       "      <td>84714.0</td>\n",
       "    </tr>\n",
       "    <tr>\n",
       "      <th>3</th>\n",
       "      <td>Toyota</td>\n",
       "      <td>White</td>\n",
       "      <td>4.0</td>\n",
       "      <td>154365.0</td>\n",
       "    </tr>\n",
       "    <tr>\n",
       "      <th>4</th>\n",
       "      <td>Nissan</td>\n",
       "      <td>Blue</td>\n",
       "      <td>3.0</td>\n",
       "      <td>181577.0</td>\n",
       "    </tr>\n",
       "    <tr>\n",
       "      <th>...</th>\n",
       "      <td>...</td>\n",
       "      <td>...</td>\n",
       "      <td>...</td>\n",
       "      <td>...</td>\n",
       "    </tr>\n",
       "    <tr>\n",
       "      <th>945</th>\n",
       "      <td>Toyota</td>\n",
       "      <td>Black</td>\n",
       "      <td>4.0</td>\n",
       "      <td>35820.0</td>\n",
       "    </tr>\n",
       "    <tr>\n",
       "      <th>946</th>\n",
       "      <td>Missing</td>\n",
       "      <td>White</td>\n",
       "      <td>3.0</td>\n",
       "      <td>155144.0</td>\n",
       "    </tr>\n",
       "    <tr>\n",
       "      <th>947</th>\n",
       "      <td>Nissan</td>\n",
       "      <td>Blue</td>\n",
       "      <td>4.0</td>\n",
       "      <td>66604.0</td>\n",
       "    </tr>\n",
       "    <tr>\n",
       "      <th>948</th>\n",
       "      <td>Honda</td>\n",
       "      <td>White</td>\n",
       "      <td>4.0</td>\n",
       "      <td>215883.0</td>\n",
       "    </tr>\n",
       "    <tr>\n",
       "      <th>949</th>\n",
       "      <td>Toyota</td>\n",
       "      <td>Blue</td>\n",
       "      <td>4.0</td>\n",
       "      <td>248360.0</td>\n",
       "    </tr>\n",
       "  </tbody>\n",
       "</table>\n",
       "<p>950 rows × 4 columns</p>\n",
       "</div>"
      ],
      "text/plain": [
       "        Make Colour Doors Odometer(KM)\n",
       "0      Honda  White   4.0      35431.0\n",
       "1        BMW   Blue   5.0     192714.0\n",
       "2      Honda  White   4.0      84714.0\n",
       "3     Toyota  White   4.0     154365.0\n",
       "4     Nissan   Blue   3.0     181577.0\n",
       "..       ...    ...   ...          ...\n",
       "945   Toyota  Black   4.0      35820.0\n",
       "946  Missing  White   3.0     155144.0\n",
       "947   Nissan   Blue   4.0      66604.0\n",
       "948    Honda  White   4.0     215883.0\n",
       "949   Toyota   Blue   4.0     248360.0\n",
       "\n",
       "[950 rows x 4 columns]"
      ]
     },
     "execution_count": 37,
     "metadata": {},
     "output_type": "execute_result"
    }
   ],
   "source": [
    "fill_car_sales = pd.DataFrame(t_x,columns=[\"Make\",\"Colour\",\"Doors\",\"Odometer(KM)\"])\n",
    "fill_car_sales"
   ]
  },
  {
   "cell_type": "code",
   "execution_count": 38,
   "id": "0ceaee97",
   "metadata": {},
   "outputs": [
    {
     "data": {
      "text/plain": [
       "<950x15 sparse matrix of type '<class 'numpy.float64'>'\n",
       "\twith 3800 stored elements in Compressed Sparse Row format>"
      ]
     },
     "execution_count": 38,
     "metadata": {},
     "output_type": "execute_result"
    }
   ],
   "source": [
    "from sklearn.preprocessing import OneHotEncoder\n",
    "from sklearn.compose import ColumnTransformer\n",
    "o_e = OneHotEncoder()\n",
    "features = [\"Make\",\"Colour\",\"Doors\"]\n",
    "c_t = ColumnTransformer([(\"o_e\",o_e,features)],remainder=\"passthrough\")\n",
    "o_c_s = c_t.fit_transform(fill_car_sales)\n",
    "o_c_s"
   ]
  },
  {
   "cell_type": "code",
   "execution_count": 39,
   "id": "3868e196",
   "metadata": {},
   "outputs": [],
   "source": [
    "x_train,x_test,y_train,y_test = train_test_split(o_c_s,y)\n"
   ]
  },
  {
   "cell_type": "code",
   "execution_count": 40,
   "id": "1b81da75",
   "metadata": {},
   "outputs": [
    {
     "data": {
      "text/plain": [
       "<712x15 sparse matrix of type '<class 'numpy.float64'>'\n",
       "\twith 2848 stored elements in Compressed Sparse Row format>"
      ]
     },
     "execution_count": 40,
     "metadata": {},
     "output_type": "execute_result"
    }
   ],
   "source": [
    "x_train"
   ]
  },
  {
   "cell_type": "code",
   "execution_count": 41,
   "id": "b9339c4e",
   "metadata": {},
   "outputs": [
    {
     "data": {
      "text/plain": [
       "0.2292496585061008"
      ]
     },
     "execution_count": 41,
     "metadata": {},
     "output_type": "execute_result"
    }
   ],
   "source": [
    "from sklearn.ensemble import RandomForestRegressor\n",
    "clf = RandomForestRegressor()\n",
    "clf.fit(x_train,y_train)\n",
    "clf.score(x_test,y_test)"
   ]
  },
  {
   "cell_type": "code",
   "execution_count": 42,
   "id": "fa837418",
   "metadata": {},
   "outputs": [],
   "source": [
    "from sklearn.datasets import fetch_california_housing\n",
    "housing = fetch_california_housing()\n",
    "housing;"
   ]
  },
  {
   "cell_type": "code",
   "execution_count": 43,
   "id": "a7978856",
   "metadata": {},
   "outputs": [
    {
     "data": {
      "text/plain": [
       "{'data': array([[   8.3252    ,   41.        ,    6.98412698, ...,    2.55555556,\n",
       "           37.88      , -122.23      ],\n",
       "        [   8.3014    ,   21.        ,    6.23813708, ...,    2.10984183,\n",
       "           37.86      , -122.22      ],\n",
       "        [   7.2574    ,   52.        ,    8.28813559, ...,    2.80225989,\n",
       "           37.85      , -122.24      ],\n",
       "        ...,\n",
       "        [   1.7       ,   17.        ,    5.20554273, ...,    2.3256351 ,\n",
       "           39.43      , -121.22      ],\n",
       "        [   1.8672    ,   18.        ,    5.32951289, ...,    2.12320917,\n",
       "           39.43      , -121.32      ],\n",
       "        [   2.3886    ,   16.        ,    5.25471698, ...,    2.61698113,\n",
       "           39.37      , -121.24      ]]),\n",
       " 'target': array([4.526, 3.585, 3.521, ..., 0.923, 0.847, 0.894]),\n",
       " 'frame': None,\n",
       " 'target_names': ['MedHouseVal'],\n",
       " 'feature_names': ['MedInc',\n",
       "  'HouseAge',\n",
       "  'AveRooms',\n",
       "  'AveBedrms',\n",
       "  'Population',\n",
       "  'AveOccup',\n",
       "  'Latitude',\n",
       "  'Longitude'],\n",
       " 'DESCR': '.. _california_housing_dataset:\\n\\nCalifornia Housing dataset\\n--------------------------\\n\\n**Data Set Characteristics:**\\n\\n    :Number of Instances: 20640\\n\\n    :Number of Attributes: 8 numeric, predictive attributes and the target\\n\\n    :Attribute Information:\\n        - MedInc        median income in block group\\n        - HouseAge      median house age in block group\\n        - AveRooms      average number of rooms per household\\n        - AveBedrms     average number of bedrooms per household\\n        - Population    block group population\\n        - AveOccup      average number of household members\\n        - Latitude      block group latitude\\n        - Longitude     block group longitude\\n\\n    :Missing Attribute Values: None\\n\\nThis dataset was obtained from the StatLib repository.\\nhttps://www.dcc.fc.up.pt/~ltorgo/Regression/cal_housing.html\\n\\nThe target variable is the median house value for California districts,\\nexpressed in hundreds of thousands of dollars ($100,000).\\n\\nThis dataset was derived from the 1990 U.S. census, using one row per census\\nblock group. A block group is the smallest geographical unit for which the U.S.\\nCensus Bureau publishes sample data (a block group typically has a population\\nof 600 to 3,000 people).\\n\\nAn household is a group of people residing within a home. Since the average\\nnumber of rooms and bedrooms in this dataset are provided per household, these\\ncolumns may take surpinsingly large values for block groups with few households\\nand many empty houses, such as vacation resorts.\\n\\nIt can be downloaded/loaded using the\\n:func:`sklearn.datasets.fetch_california_housing` function.\\n\\n.. topic:: References\\n\\n    - Pace, R. Kelley and Ronald Barry, Sparse Spatial Autoregressions,\\n      Statistics and Probability Letters, 33 (1997) 291-297\\n'}"
      ]
     },
     "execution_count": 43,
     "metadata": {},
     "output_type": "execute_result"
    }
   ],
   "source": [
    "housing"
   ]
  },
  {
   "cell_type": "code",
   "execution_count": 44,
   "id": "0e73c3ab",
   "metadata": {},
   "outputs": [
    {
     "data": {
      "text/html": [
       "<div>\n",
       "<style scoped>\n",
       "    .dataframe tbody tr th:only-of-type {\n",
       "        vertical-align: middle;\n",
       "    }\n",
       "\n",
       "    .dataframe tbody tr th {\n",
       "        vertical-align: top;\n",
       "    }\n",
       "\n",
       "    .dataframe thead th {\n",
       "        text-align: right;\n",
       "    }\n",
       "</style>\n",
       "<table border=\"1\" class=\"dataframe\">\n",
       "  <thead>\n",
       "    <tr style=\"text-align: right;\">\n",
       "      <th></th>\n",
       "      <th>MedInc</th>\n",
       "      <th>HouseAge</th>\n",
       "      <th>AveRooms</th>\n",
       "      <th>AveBedrms</th>\n",
       "      <th>Population</th>\n",
       "      <th>AveOccup</th>\n",
       "      <th>Latitude</th>\n",
       "      <th>Longitude</th>\n",
       "    </tr>\n",
       "  </thead>\n",
       "  <tbody>\n",
       "    <tr>\n",
       "      <th>0</th>\n",
       "      <td>8.3252</td>\n",
       "      <td>41.0</td>\n",
       "      <td>6.984127</td>\n",
       "      <td>1.023810</td>\n",
       "      <td>322.0</td>\n",
       "      <td>2.555556</td>\n",
       "      <td>37.88</td>\n",
       "      <td>-122.23</td>\n",
       "    </tr>\n",
       "    <tr>\n",
       "      <th>1</th>\n",
       "      <td>8.3014</td>\n",
       "      <td>21.0</td>\n",
       "      <td>6.238137</td>\n",
       "      <td>0.971880</td>\n",
       "      <td>2401.0</td>\n",
       "      <td>2.109842</td>\n",
       "      <td>37.86</td>\n",
       "      <td>-122.22</td>\n",
       "    </tr>\n",
       "    <tr>\n",
       "      <th>2</th>\n",
       "      <td>7.2574</td>\n",
       "      <td>52.0</td>\n",
       "      <td>8.288136</td>\n",
       "      <td>1.073446</td>\n",
       "      <td>496.0</td>\n",
       "      <td>2.802260</td>\n",
       "      <td>37.85</td>\n",
       "      <td>-122.24</td>\n",
       "    </tr>\n",
       "    <tr>\n",
       "      <th>3</th>\n",
       "      <td>5.6431</td>\n",
       "      <td>52.0</td>\n",
       "      <td>5.817352</td>\n",
       "      <td>1.073059</td>\n",
       "      <td>558.0</td>\n",
       "      <td>2.547945</td>\n",
       "      <td>37.85</td>\n",
       "      <td>-122.25</td>\n",
       "    </tr>\n",
       "    <tr>\n",
       "      <th>4</th>\n",
       "      <td>3.8462</td>\n",
       "      <td>52.0</td>\n",
       "      <td>6.281853</td>\n",
       "      <td>1.081081</td>\n",
       "      <td>565.0</td>\n",
       "      <td>2.181467</td>\n",
       "      <td>37.85</td>\n",
       "      <td>-122.25</td>\n",
       "    </tr>\n",
       "  </tbody>\n",
       "</table>\n",
       "</div>"
      ],
      "text/plain": [
       "   MedInc  HouseAge  AveRooms  AveBedrms  Population  AveOccup  Latitude  \\\n",
       "0  8.3252      41.0  6.984127   1.023810       322.0  2.555556     37.88   \n",
       "1  8.3014      21.0  6.238137   0.971880      2401.0  2.109842     37.86   \n",
       "2  7.2574      52.0  8.288136   1.073446       496.0  2.802260     37.85   \n",
       "3  5.6431      52.0  5.817352   1.073059       558.0  2.547945     37.85   \n",
       "4  3.8462      52.0  6.281853   1.081081       565.0  2.181467     37.85   \n",
       "\n",
       "   Longitude  \n",
       "0    -122.23  \n",
       "1    -122.22  \n",
       "2    -122.24  \n",
       "3    -122.25  \n",
       "4    -122.25  "
      ]
     },
     "execution_count": 44,
     "metadata": {},
     "output_type": "execute_result"
    }
   ],
   "source": [
    "housing_df = pd.DataFrame(housing[\"data\"],columns=housing[\"feature_names\"])\n",
    "housing_df.head()"
   ]
  },
  {
   "cell_type": "code",
   "execution_count": 45,
   "id": "6a00ee4d",
   "metadata": {},
   "outputs": [
    {
     "data": {
      "text/html": [
       "<div>\n",
       "<style scoped>\n",
       "    .dataframe tbody tr th:only-of-type {\n",
       "        vertical-align: middle;\n",
       "    }\n",
       "\n",
       "    .dataframe tbody tr th {\n",
       "        vertical-align: top;\n",
       "    }\n",
       "\n",
       "    .dataframe thead th {\n",
       "        text-align: right;\n",
       "    }\n",
       "</style>\n",
       "<table border=\"1\" class=\"dataframe\">\n",
       "  <thead>\n",
       "    <tr style=\"text-align: right;\">\n",
       "      <th></th>\n",
       "      <th>MedInc</th>\n",
       "      <th>HouseAge</th>\n",
       "      <th>AveRooms</th>\n",
       "      <th>AveBedrms</th>\n",
       "      <th>Population</th>\n",
       "      <th>AveOccup</th>\n",
       "      <th>Latitude</th>\n",
       "      <th>Longitude</th>\n",
       "      <th>target</th>\n",
       "    </tr>\n",
       "  </thead>\n",
       "  <tbody>\n",
       "    <tr>\n",
       "      <th>0</th>\n",
       "      <td>8.3252</td>\n",
       "      <td>41.0</td>\n",
       "      <td>6.984127</td>\n",
       "      <td>1.023810</td>\n",
       "      <td>322.0</td>\n",
       "      <td>2.555556</td>\n",
       "      <td>37.88</td>\n",
       "      <td>-122.23</td>\n",
       "      <td>4.526</td>\n",
       "    </tr>\n",
       "    <tr>\n",
       "      <th>1</th>\n",
       "      <td>8.3014</td>\n",
       "      <td>21.0</td>\n",
       "      <td>6.238137</td>\n",
       "      <td>0.971880</td>\n",
       "      <td>2401.0</td>\n",
       "      <td>2.109842</td>\n",
       "      <td>37.86</td>\n",
       "      <td>-122.22</td>\n",
       "      <td>3.585</td>\n",
       "    </tr>\n",
       "    <tr>\n",
       "      <th>2</th>\n",
       "      <td>7.2574</td>\n",
       "      <td>52.0</td>\n",
       "      <td>8.288136</td>\n",
       "      <td>1.073446</td>\n",
       "      <td>496.0</td>\n",
       "      <td>2.802260</td>\n",
       "      <td>37.85</td>\n",
       "      <td>-122.24</td>\n",
       "      <td>3.521</td>\n",
       "    </tr>\n",
       "    <tr>\n",
       "      <th>3</th>\n",
       "      <td>5.6431</td>\n",
       "      <td>52.0</td>\n",
       "      <td>5.817352</td>\n",
       "      <td>1.073059</td>\n",
       "      <td>558.0</td>\n",
       "      <td>2.547945</td>\n",
       "      <td>37.85</td>\n",
       "      <td>-122.25</td>\n",
       "      <td>3.413</td>\n",
       "    </tr>\n",
       "    <tr>\n",
       "      <th>4</th>\n",
       "      <td>3.8462</td>\n",
       "      <td>52.0</td>\n",
       "      <td>6.281853</td>\n",
       "      <td>1.081081</td>\n",
       "      <td>565.0</td>\n",
       "      <td>2.181467</td>\n",
       "      <td>37.85</td>\n",
       "      <td>-122.25</td>\n",
       "      <td>3.422</td>\n",
       "    </tr>\n",
       "    <tr>\n",
       "      <th>...</th>\n",
       "      <td>...</td>\n",
       "      <td>...</td>\n",
       "      <td>...</td>\n",
       "      <td>...</td>\n",
       "      <td>...</td>\n",
       "      <td>...</td>\n",
       "      <td>...</td>\n",
       "      <td>...</td>\n",
       "      <td>...</td>\n",
       "    </tr>\n",
       "    <tr>\n",
       "      <th>20635</th>\n",
       "      <td>1.5603</td>\n",
       "      <td>25.0</td>\n",
       "      <td>5.045455</td>\n",
       "      <td>1.133333</td>\n",
       "      <td>845.0</td>\n",
       "      <td>2.560606</td>\n",
       "      <td>39.48</td>\n",
       "      <td>-121.09</td>\n",
       "      <td>0.781</td>\n",
       "    </tr>\n",
       "    <tr>\n",
       "      <th>20636</th>\n",
       "      <td>2.5568</td>\n",
       "      <td>18.0</td>\n",
       "      <td>6.114035</td>\n",
       "      <td>1.315789</td>\n",
       "      <td>356.0</td>\n",
       "      <td>3.122807</td>\n",
       "      <td>39.49</td>\n",
       "      <td>-121.21</td>\n",
       "      <td>0.771</td>\n",
       "    </tr>\n",
       "    <tr>\n",
       "      <th>20637</th>\n",
       "      <td>1.7000</td>\n",
       "      <td>17.0</td>\n",
       "      <td>5.205543</td>\n",
       "      <td>1.120092</td>\n",
       "      <td>1007.0</td>\n",
       "      <td>2.325635</td>\n",
       "      <td>39.43</td>\n",
       "      <td>-121.22</td>\n",
       "      <td>0.923</td>\n",
       "    </tr>\n",
       "    <tr>\n",
       "      <th>20638</th>\n",
       "      <td>1.8672</td>\n",
       "      <td>18.0</td>\n",
       "      <td>5.329513</td>\n",
       "      <td>1.171920</td>\n",
       "      <td>741.0</td>\n",
       "      <td>2.123209</td>\n",
       "      <td>39.43</td>\n",
       "      <td>-121.32</td>\n",
       "      <td>0.847</td>\n",
       "    </tr>\n",
       "    <tr>\n",
       "      <th>20639</th>\n",
       "      <td>2.3886</td>\n",
       "      <td>16.0</td>\n",
       "      <td>5.254717</td>\n",
       "      <td>1.162264</td>\n",
       "      <td>1387.0</td>\n",
       "      <td>2.616981</td>\n",
       "      <td>39.37</td>\n",
       "      <td>-121.24</td>\n",
       "      <td>0.894</td>\n",
       "    </tr>\n",
       "  </tbody>\n",
       "</table>\n",
       "<p>20640 rows × 9 columns</p>\n",
       "</div>"
      ],
      "text/plain": [
       "       MedInc  HouseAge  AveRooms  AveBedrms  Population  AveOccup  Latitude  \\\n",
       "0      8.3252      41.0  6.984127   1.023810       322.0  2.555556     37.88   \n",
       "1      8.3014      21.0  6.238137   0.971880      2401.0  2.109842     37.86   \n",
       "2      7.2574      52.0  8.288136   1.073446       496.0  2.802260     37.85   \n",
       "3      5.6431      52.0  5.817352   1.073059       558.0  2.547945     37.85   \n",
       "4      3.8462      52.0  6.281853   1.081081       565.0  2.181467     37.85   \n",
       "...       ...       ...       ...        ...         ...       ...       ...   \n",
       "20635  1.5603      25.0  5.045455   1.133333       845.0  2.560606     39.48   \n",
       "20636  2.5568      18.0  6.114035   1.315789       356.0  3.122807     39.49   \n",
       "20637  1.7000      17.0  5.205543   1.120092      1007.0  2.325635     39.43   \n",
       "20638  1.8672      18.0  5.329513   1.171920       741.0  2.123209     39.43   \n",
       "20639  2.3886      16.0  5.254717   1.162264      1387.0  2.616981     39.37   \n",
       "\n",
       "       Longitude  target  \n",
       "0        -122.23   4.526  \n",
       "1        -122.22   3.585  \n",
       "2        -122.24   3.521  \n",
       "3        -122.25   3.413  \n",
       "4        -122.25   3.422  \n",
       "...          ...     ...  \n",
       "20635    -121.09   0.781  \n",
       "20636    -121.21   0.771  \n",
       "20637    -121.22   0.923  \n",
       "20638    -121.32   0.847  \n",
       "20639    -121.24   0.894  \n",
       "\n",
       "[20640 rows x 9 columns]"
      ]
     },
     "execution_count": 45,
     "metadata": {},
     "output_type": "execute_result"
    }
   ],
   "source": [
    "housing_df[\"target\"] = housing[\"target\"]\n",
    "housing_df"
   ]
  },
  {
   "cell_type": "code",
   "execution_count": 46,
   "id": "c4de0392",
   "metadata": {},
   "outputs": [],
   "source": [
    "np.random.seed(0)\n",
    "x = housing_df.drop(\"target\",axis=1)\n",
    "y = housing_df[\"target\"]\n",
    "\n",
    "from sklearn.model_selection import train_test_split\n",
    "x_train,x_test,y_train,y_test = train_test_split(x,y,test_size=0.2)"
   ]
  },
  {
   "cell_type": "code",
   "execution_count": 47,
   "id": "9f2ef750",
   "metadata": {},
   "outputs": [
    {
     "data": {
      "text/plain": [
       "0.5943075006070295"
      ]
     },
     "execution_count": 47,
     "metadata": {},
     "output_type": "execute_result"
    }
   ],
   "source": [
    "from sklearn.linear_model import Ridge\n",
    "model = Ridge()\n",
    "model.fit(x_train,y_train)\n",
    "model.score(x_test,y_test)"
   ]
  },
  {
   "cell_type": "code",
   "execution_count": 48,
   "id": "9641cb90",
   "metadata": {},
   "outputs": [
    {
     "data": {
      "text/plain": [
       "0.7977645205563335"
      ]
     },
     "execution_count": 48,
     "metadata": {},
     "output_type": "execute_result"
    }
   ],
   "source": [
    "from sklearn.ensemble import RandomForestRegressor\n",
    "model = RandomForestRegressor()\n",
    "model.fit(x_train,y_train)\n",
    "model.score(x_test,y_test)"
   ]
  },
  {
   "cell_type": "code",
   "execution_count": 49,
   "id": "75adf426",
   "metadata": {},
   "outputs": [
    {
     "data": {
      "text/html": [
       "<div>\n",
       "<style scoped>\n",
       "    .dataframe tbody tr th:only-of-type {\n",
       "        vertical-align: middle;\n",
       "    }\n",
       "\n",
       "    .dataframe tbody tr th {\n",
       "        vertical-align: top;\n",
       "    }\n",
       "\n",
       "    .dataframe thead th {\n",
       "        text-align: right;\n",
       "    }\n",
       "</style>\n",
       "<table border=\"1\" class=\"dataframe\">\n",
       "  <thead>\n",
       "    <tr style=\"text-align: right;\">\n",
       "      <th></th>\n",
       "      <th>age</th>\n",
       "      <th>sex</th>\n",
       "      <th>cp</th>\n",
       "      <th>trestbps</th>\n",
       "      <th>chol</th>\n",
       "      <th>fbs</th>\n",
       "      <th>restecg</th>\n",
       "      <th>thalach</th>\n",
       "      <th>exang</th>\n",
       "      <th>oldpeak</th>\n",
       "      <th>slope</th>\n",
       "      <th>ca</th>\n",
       "      <th>thal</th>\n",
       "      <th>target</th>\n",
       "    </tr>\n",
       "  </thead>\n",
       "  <tbody>\n",
       "    <tr>\n",
       "      <th>0</th>\n",
       "      <td>63</td>\n",
       "      <td>1</td>\n",
       "      <td>3</td>\n",
       "      <td>145</td>\n",
       "      <td>233</td>\n",
       "      <td>1</td>\n",
       "      <td>0</td>\n",
       "      <td>150</td>\n",
       "      <td>0</td>\n",
       "      <td>2.3</td>\n",
       "      <td>0</td>\n",
       "      <td>0</td>\n",
       "      <td>1</td>\n",
       "      <td>1</td>\n",
       "    </tr>\n",
       "    <tr>\n",
       "      <th>1</th>\n",
       "      <td>37</td>\n",
       "      <td>1</td>\n",
       "      <td>2</td>\n",
       "      <td>130</td>\n",
       "      <td>250</td>\n",
       "      <td>0</td>\n",
       "      <td>1</td>\n",
       "      <td>187</td>\n",
       "      <td>0</td>\n",
       "      <td>3.5</td>\n",
       "      <td>0</td>\n",
       "      <td>0</td>\n",
       "      <td>2</td>\n",
       "      <td>1</td>\n",
       "    </tr>\n",
       "    <tr>\n",
       "      <th>2</th>\n",
       "      <td>41</td>\n",
       "      <td>0</td>\n",
       "      <td>1</td>\n",
       "      <td>130</td>\n",
       "      <td>204</td>\n",
       "      <td>0</td>\n",
       "      <td>0</td>\n",
       "      <td>172</td>\n",
       "      <td>0</td>\n",
       "      <td>1.4</td>\n",
       "      <td>2</td>\n",
       "      <td>0</td>\n",
       "      <td>2</td>\n",
       "      <td>1</td>\n",
       "    </tr>\n",
       "    <tr>\n",
       "      <th>3</th>\n",
       "      <td>56</td>\n",
       "      <td>1</td>\n",
       "      <td>1</td>\n",
       "      <td>120</td>\n",
       "      <td>236</td>\n",
       "      <td>0</td>\n",
       "      <td>1</td>\n",
       "      <td>178</td>\n",
       "      <td>0</td>\n",
       "      <td>0.8</td>\n",
       "      <td>2</td>\n",
       "      <td>0</td>\n",
       "      <td>2</td>\n",
       "      <td>1</td>\n",
       "    </tr>\n",
       "    <tr>\n",
       "      <th>4</th>\n",
       "      <td>57</td>\n",
       "      <td>0</td>\n",
       "      <td>0</td>\n",
       "      <td>120</td>\n",
       "      <td>354</td>\n",
       "      <td>0</td>\n",
       "      <td>1</td>\n",
       "      <td>163</td>\n",
       "      <td>1</td>\n",
       "      <td>0.6</td>\n",
       "      <td>2</td>\n",
       "      <td>0</td>\n",
       "      <td>2</td>\n",
       "      <td>1</td>\n",
       "    </tr>\n",
       "    <tr>\n",
       "      <th>...</th>\n",
       "      <td>...</td>\n",
       "      <td>...</td>\n",
       "      <td>...</td>\n",
       "      <td>...</td>\n",
       "      <td>...</td>\n",
       "      <td>...</td>\n",
       "      <td>...</td>\n",
       "      <td>...</td>\n",
       "      <td>...</td>\n",
       "      <td>...</td>\n",
       "      <td>...</td>\n",
       "      <td>...</td>\n",
       "      <td>...</td>\n",
       "      <td>...</td>\n",
       "    </tr>\n",
       "    <tr>\n",
       "      <th>298</th>\n",
       "      <td>57</td>\n",
       "      <td>0</td>\n",
       "      <td>0</td>\n",
       "      <td>140</td>\n",
       "      <td>241</td>\n",
       "      <td>0</td>\n",
       "      <td>1</td>\n",
       "      <td>123</td>\n",
       "      <td>1</td>\n",
       "      <td>0.2</td>\n",
       "      <td>1</td>\n",
       "      <td>0</td>\n",
       "      <td>3</td>\n",
       "      <td>0</td>\n",
       "    </tr>\n",
       "    <tr>\n",
       "      <th>299</th>\n",
       "      <td>45</td>\n",
       "      <td>1</td>\n",
       "      <td>3</td>\n",
       "      <td>110</td>\n",
       "      <td>264</td>\n",
       "      <td>0</td>\n",
       "      <td>1</td>\n",
       "      <td>132</td>\n",
       "      <td>0</td>\n",
       "      <td>1.2</td>\n",
       "      <td>1</td>\n",
       "      <td>0</td>\n",
       "      <td>3</td>\n",
       "      <td>0</td>\n",
       "    </tr>\n",
       "    <tr>\n",
       "      <th>300</th>\n",
       "      <td>68</td>\n",
       "      <td>1</td>\n",
       "      <td>0</td>\n",
       "      <td>144</td>\n",
       "      <td>193</td>\n",
       "      <td>1</td>\n",
       "      <td>1</td>\n",
       "      <td>141</td>\n",
       "      <td>0</td>\n",
       "      <td>3.4</td>\n",
       "      <td>1</td>\n",
       "      <td>2</td>\n",
       "      <td>3</td>\n",
       "      <td>0</td>\n",
       "    </tr>\n",
       "    <tr>\n",
       "      <th>301</th>\n",
       "      <td>57</td>\n",
       "      <td>1</td>\n",
       "      <td>0</td>\n",
       "      <td>130</td>\n",
       "      <td>131</td>\n",
       "      <td>0</td>\n",
       "      <td>1</td>\n",
       "      <td>115</td>\n",
       "      <td>1</td>\n",
       "      <td>1.2</td>\n",
       "      <td>1</td>\n",
       "      <td>1</td>\n",
       "      <td>3</td>\n",
       "      <td>0</td>\n",
       "    </tr>\n",
       "    <tr>\n",
       "      <th>302</th>\n",
       "      <td>57</td>\n",
       "      <td>0</td>\n",
       "      <td>1</td>\n",
       "      <td>130</td>\n",
       "      <td>236</td>\n",
       "      <td>0</td>\n",
       "      <td>0</td>\n",
       "      <td>174</td>\n",
       "      <td>0</td>\n",
       "      <td>0.0</td>\n",
       "      <td>1</td>\n",
       "      <td>1</td>\n",
       "      <td>2</td>\n",
       "      <td>0</td>\n",
       "    </tr>\n",
       "  </tbody>\n",
       "</table>\n",
       "<p>303 rows × 14 columns</p>\n",
       "</div>"
      ],
      "text/plain": [
       "     age  sex  cp  trestbps  chol  fbs  restecg  thalach  exang  oldpeak  \\\n",
       "0     63    1   3       145   233    1        0      150      0      2.3   \n",
       "1     37    1   2       130   250    0        1      187      0      3.5   \n",
       "2     41    0   1       130   204    0        0      172      0      1.4   \n",
       "3     56    1   1       120   236    0        1      178      0      0.8   \n",
       "4     57    0   0       120   354    0        1      163      1      0.6   \n",
       "..   ...  ...  ..       ...   ...  ...      ...      ...    ...      ...   \n",
       "298   57    0   0       140   241    0        1      123      1      0.2   \n",
       "299   45    1   3       110   264    0        1      132      0      1.2   \n",
       "300   68    1   0       144   193    1        1      141      0      3.4   \n",
       "301   57    1   0       130   131    0        1      115      1      1.2   \n",
       "302   57    0   1       130   236    0        0      174      0      0.0   \n",
       "\n",
       "     slope  ca  thal  target  \n",
       "0        0   0     1       1  \n",
       "1        0   0     2       1  \n",
       "2        2   0     2       1  \n",
       "3        2   0     2       1  \n",
       "4        2   0     2       1  \n",
       "..     ...  ..   ...     ...  \n",
       "298      1   0     3       0  \n",
       "299      1   0     3       0  \n",
       "300      1   2     3       0  \n",
       "301      1   1     3       0  \n",
       "302      1   1     2       0  \n",
       "\n",
       "[303 rows x 14 columns]"
      ]
     },
     "execution_count": 49,
     "metadata": {},
     "output_type": "execute_result"
    }
   ],
   "source": [
    "heart_disease = pd.read_csv(\"013 heart-disease.csv\")\n",
    "heart_disease"
   ]
  },
  {
   "cell_type": "code",
   "execution_count": 50,
   "id": "b1e5f3ca",
   "metadata": {},
   "outputs": [],
   "source": [
    "x = heart_disease.drop(\"target\",axis=1)\n",
    "y = heart_disease[\"target\"]"
   ]
  },
  {
   "cell_type": "code",
   "execution_count": 51,
   "id": "99e9a1f9",
   "metadata": {},
   "outputs": [],
   "source": [
    "from sklearn.model_selection import train_test_split\n",
    "x_train,x_test,y_train,y_test = train_test_split(x,y,test_size=0.2)\n"
   ]
  },
  {
   "cell_type": "code",
   "execution_count": 52,
   "id": "1ae71d97",
   "metadata": {},
   "outputs": [
    {
     "name": "stderr",
     "output_type": "stream",
     "text": [
      "C:\\Users\\sriram\\Desktop\\sample_project\\environment\\lib\\site-packages\\sklearn\\svm\\_base.py:1206: ConvergenceWarning: Liblinear failed to converge, increase the number of iterations.\n",
      "  warnings.warn(\n"
     ]
    },
    {
     "data": {
      "text/plain": [
       "0.819672131147541"
      ]
     },
     "execution_count": 52,
     "metadata": {},
     "output_type": "execute_result"
    }
   ],
   "source": [
    "from sklearn.svm import LinearSVC\n",
    "model_1 = LinearSVC()\n",
    "model_1.fit(x_train,y_train)\n",
    "model_1.score(x_test,y_test)"
   ]
  },
  {
   "cell_type": "code",
   "execution_count": 53,
   "id": "51d0bc16",
   "metadata": {},
   "outputs": [
    {
     "data": {
      "text/plain": [
       "0.8360655737704918"
      ]
     },
     "execution_count": 53,
     "metadata": {},
     "output_type": "execute_result"
    }
   ],
   "source": [
    "from sklearn.ensemble import RandomForestClassifier\n",
    "model_2 = RandomForestClassifier()\n",
    "model_2.fit(x_train,y_train)\n",
    "model_2.score(x_test,y_test)"
   ]
  },
  {
   "cell_type": "markdown",
   "id": "e792e643",
   "metadata": {},
   "source": [
    "Unstructed data = (images,text,voice etc...) = neural network,dense layers..\n",
    "\n",
    "Structured data = (tabular columns) = ensemble models :)"
   ]
  },
  {
   "cell_type": "code",
   "execution_count": 54,
   "id": "aee80986",
   "metadata": {},
   "outputs": [
    {
     "data": {
      "text/plain": [
       "0.8360655737704918"
      ]
     },
     "execution_count": 54,
     "metadata": {},
     "output_type": "execute_result"
    }
   ],
   "source": [
    "y_pred = model_2.predict(x_test)\n",
    "np.mean(y_pred==y_test)"
   ]
  },
  {
   "cell_type": "code",
   "execution_count": 55,
   "id": "fb5be89f",
   "metadata": {},
   "outputs": [
    {
     "data": {
      "text/plain": [
       "0.8360655737704918"
      ]
     },
     "execution_count": 55,
     "metadata": {},
     "output_type": "execute_result"
    }
   ],
   "source": [
    "from sklearn.metrics import accuracy_score\n",
    "accuracy_score(y_pred,y_test)"
   ]
  },
  {
   "cell_type": "code",
   "execution_count": 56,
   "id": "57610ca3",
   "metadata": {},
   "outputs": [
    {
     "data": {
      "text/plain": [
       "array([[0.16, 0.84],\n",
       "       [0.95, 0.05],\n",
       "       [0.3 , 0.7 ],\n",
       "       [0.57, 0.43],\n",
       "       [0.21, 0.79],\n",
       "       [0.51, 0.49],\n",
       "       [0.82, 0.18],\n",
       "       [0.02, 0.98],\n",
       "       [0.07, 0.93],\n",
       "       [0.65, 0.35]])"
      ]
     },
     "execution_count": 56,
     "metadata": {},
     "output_type": "execute_result"
    }
   ],
   "source": [
    "y_pred_probs = model_2.predict_proba(x_test)\n",
    "y_pred_probs[:10]"
   ]
  },
  {
   "cell_type": "code",
   "execution_count": 57,
   "id": "503706e6",
   "metadata": {},
   "outputs": [
    {
     "data": {
      "text/html": [
       "<div>\n",
       "<style scoped>\n",
       "    .dataframe tbody tr th:only-of-type {\n",
       "        vertical-align: middle;\n",
       "    }\n",
       "\n",
       "    .dataframe tbody tr th {\n",
       "        vertical-align: top;\n",
       "    }\n",
       "\n",
       "    .dataframe thead th {\n",
       "        text-align: right;\n",
       "    }\n",
       "</style>\n",
       "<table border=\"1\" class=\"dataframe\">\n",
       "  <thead>\n",
       "    <tr style=\"text-align: right;\">\n",
       "      <th></th>\n",
       "      <th>MedInc</th>\n",
       "      <th>HouseAge</th>\n",
       "      <th>AveRooms</th>\n",
       "      <th>AveBedrms</th>\n",
       "      <th>Population</th>\n",
       "      <th>AveOccup</th>\n",
       "      <th>Latitude</th>\n",
       "      <th>Longitude</th>\n",
       "      <th>target</th>\n",
       "    </tr>\n",
       "  </thead>\n",
       "  <tbody>\n",
       "    <tr>\n",
       "      <th>0</th>\n",
       "      <td>8.3252</td>\n",
       "      <td>41.0</td>\n",
       "      <td>6.984127</td>\n",
       "      <td>1.023810</td>\n",
       "      <td>322.0</td>\n",
       "      <td>2.555556</td>\n",
       "      <td>37.88</td>\n",
       "      <td>-122.23</td>\n",
       "      <td>4.526</td>\n",
       "    </tr>\n",
       "    <tr>\n",
       "      <th>1</th>\n",
       "      <td>8.3014</td>\n",
       "      <td>21.0</td>\n",
       "      <td>6.238137</td>\n",
       "      <td>0.971880</td>\n",
       "      <td>2401.0</td>\n",
       "      <td>2.109842</td>\n",
       "      <td>37.86</td>\n",
       "      <td>-122.22</td>\n",
       "      <td>3.585</td>\n",
       "    </tr>\n",
       "    <tr>\n",
       "      <th>2</th>\n",
       "      <td>7.2574</td>\n",
       "      <td>52.0</td>\n",
       "      <td>8.288136</td>\n",
       "      <td>1.073446</td>\n",
       "      <td>496.0</td>\n",
       "      <td>2.802260</td>\n",
       "      <td>37.85</td>\n",
       "      <td>-122.24</td>\n",
       "      <td>3.521</td>\n",
       "    </tr>\n",
       "    <tr>\n",
       "      <th>3</th>\n",
       "      <td>5.6431</td>\n",
       "      <td>52.0</td>\n",
       "      <td>5.817352</td>\n",
       "      <td>1.073059</td>\n",
       "      <td>558.0</td>\n",
       "      <td>2.547945</td>\n",
       "      <td>37.85</td>\n",
       "      <td>-122.25</td>\n",
       "      <td>3.413</td>\n",
       "    </tr>\n",
       "    <tr>\n",
       "      <th>4</th>\n",
       "      <td>3.8462</td>\n",
       "      <td>52.0</td>\n",
       "      <td>6.281853</td>\n",
       "      <td>1.081081</td>\n",
       "      <td>565.0</td>\n",
       "      <td>2.181467</td>\n",
       "      <td>37.85</td>\n",
       "      <td>-122.25</td>\n",
       "      <td>3.422</td>\n",
       "    </tr>\n",
       "    <tr>\n",
       "      <th>...</th>\n",
       "      <td>...</td>\n",
       "      <td>...</td>\n",
       "      <td>...</td>\n",
       "      <td>...</td>\n",
       "      <td>...</td>\n",
       "      <td>...</td>\n",
       "      <td>...</td>\n",
       "      <td>...</td>\n",
       "      <td>...</td>\n",
       "    </tr>\n",
       "    <tr>\n",
       "      <th>20635</th>\n",
       "      <td>1.5603</td>\n",
       "      <td>25.0</td>\n",
       "      <td>5.045455</td>\n",
       "      <td>1.133333</td>\n",
       "      <td>845.0</td>\n",
       "      <td>2.560606</td>\n",
       "      <td>39.48</td>\n",
       "      <td>-121.09</td>\n",
       "      <td>0.781</td>\n",
       "    </tr>\n",
       "    <tr>\n",
       "      <th>20636</th>\n",
       "      <td>2.5568</td>\n",
       "      <td>18.0</td>\n",
       "      <td>6.114035</td>\n",
       "      <td>1.315789</td>\n",
       "      <td>356.0</td>\n",
       "      <td>3.122807</td>\n",
       "      <td>39.49</td>\n",
       "      <td>-121.21</td>\n",
       "      <td>0.771</td>\n",
       "    </tr>\n",
       "    <tr>\n",
       "      <th>20637</th>\n",
       "      <td>1.7000</td>\n",
       "      <td>17.0</td>\n",
       "      <td>5.205543</td>\n",
       "      <td>1.120092</td>\n",
       "      <td>1007.0</td>\n",
       "      <td>2.325635</td>\n",
       "      <td>39.43</td>\n",
       "      <td>-121.22</td>\n",
       "      <td>0.923</td>\n",
       "    </tr>\n",
       "    <tr>\n",
       "      <th>20638</th>\n",
       "      <td>1.8672</td>\n",
       "      <td>18.0</td>\n",
       "      <td>5.329513</td>\n",
       "      <td>1.171920</td>\n",
       "      <td>741.0</td>\n",
       "      <td>2.123209</td>\n",
       "      <td>39.43</td>\n",
       "      <td>-121.32</td>\n",
       "      <td>0.847</td>\n",
       "    </tr>\n",
       "    <tr>\n",
       "      <th>20639</th>\n",
       "      <td>2.3886</td>\n",
       "      <td>16.0</td>\n",
       "      <td>5.254717</td>\n",
       "      <td>1.162264</td>\n",
       "      <td>1387.0</td>\n",
       "      <td>2.616981</td>\n",
       "      <td>39.37</td>\n",
       "      <td>-121.24</td>\n",
       "      <td>0.894</td>\n",
       "    </tr>\n",
       "  </tbody>\n",
       "</table>\n",
       "<p>20640 rows × 9 columns</p>\n",
       "</div>"
      ],
      "text/plain": [
       "       MedInc  HouseAge  AveRooms  AveBedrms  Population  AveOccup  Latitude  \\\n",
       "0      8.3252      41.0  6.984127   1.023810       322.0  2.555556     37.88   \n",
       "1      8.3014      21.0  6.238137   0.971880      2401.0  2.109842     37.86   \n",
       "2      7.2574      52.0  8.288136   1.073446       496.0  2.802260     37.85   \n",
       "3      5.6431      52.0  5.817352   1.073059       558.0  2.547945     37.85   \n",
       "4      3.8462      52.0  6.281853   1.081081       565.0  2.181467     37.85   \n",
       "...       ...       ...       ...        ...         ...       ...       ...   \n",
       "20635  1.5603      25.0  5.045455   1.133333       845.0  2.560606     39.48   \n",
       "20636  2.5568      18.0  6.114035   1.315789       356.0  3.122807     39.49   \n",
       "20637  1.7000      17.0  5.205543   1.120092      1007.0  2.325635     39.43   \n",
       "20638  1.8672      18.0  5.329513   1.171920       741.0  2.123209     39.43   \n",
       "20639  2.3886      16.0  5.254717   1.162264      1387.0  2.616981     39.37   \n",
       "\n",
       "       Longitude  target  \n",
       "0        -122.23   4.526  \n",
       "1        -122.22   3.585  \n",
       "2        -122.24   3.521  \n",
       "3        -122.25   3.413  \n",
       "4        -122.25   3.422  \n",
       "...          ...     ...  \n",
       "20635    -121.09   0.781  \n",
       "20636    -121.21   0.771  \n",
       "20637    -121.22   0.923  \n",
       "20638    -121.32   0.847  \n",
       "20639    -121.24   0.894  \n",
       "\n",
       "[20640 rows x 9 columns]"
      ]
     },
     "execution_count": 57,
     "metadata": {},
     "output_type": "execute_result"
    }
   ],
   "source": [
    "housing_df\n"
   ]
  },
  {
   "cell_type": "code",
   "execution_count": 58,
   "id": "72efd5cd",
   "metadata": {},
   "outputs": [],
   "source": [
    "x = housing_df.drop(\"target\",axis=1)\n",
    "y = housing_df[\"target\"]"
   ]
  },
  {
   "cell_type": "code",
   "execution_count": 59,
   "id": "e2976a9a",
   "metadata": {},
   "outputs": [],
   "source": [
    "from sklearn.model_selection import train_test_split\n",
    "from sklearn.ensemble import RandomForestRegressor\n",
    "x_train,x_test,y_train,y_test = train_test_split(x,y,test_size=0.2)"
   ]
  },
  {
   "cell_type": "code",
   "execution_count": 60,
   "id": "b28a92cb",
   "metadata": {},
   "outputs": [],
   "source": [
    "model_3 = RandomForestRegressor()\n",
    "model_3.fit(x_train,y_train)\n",
    "y_preds=model_3.predict(x_test)"
   ]
  },
  {
   "cell_type": "code",
   "execution_count": 61,
   "id": "649cd855",
   "metadata": {},
   "outputs": [
    {
     "data": {
      "text/plain": [
       "array([1.31924  , 3.5493107, 3.1520405, 2.0346401, 2.6286101, 1.8255   ,\n",
       "       2.1355301, 1.7453003, 1.90065  , 4.034243 ])"
      ]
     },
     "execution_count": 61,
     "metadata": {},
     "output_type": "execute_result"
    }
   ],
   "source": [
    "y_preds[:10]"
   ]
  },
  {
   "cell_type": "code",
   "execution_count": 62,
   "id": "2bd849e2",
   "metadata": {},
   "outputs": [
    {
     "data": {
      "text/plain": [
       "0.3228741488372095"
      ]
     },
     "execution_count": 62,
     "metadata": {},
     "output_type": "execute_result"
    }
   ],
   "source": [
    "from sklearn.metrics import mean_absolute_error\n",
    "mean_absolute_error(y_preds,y_test)"
   ]
  },
  {
   "cell_type": "markdown",
   "id": "ad38398f",
   "metadata": {},
   "source": [
    "## Evaluating the model with `score` method"
   ]
  },
  {
   "cell_type": "code",
   "execution_count": 63,
   "id": "fbfbc95d",
   "metadata": {},
   "outputs": [
    {
     "data": {
      "text/html": [
       "<div>\n",
       "<style scoped>\n",
       "    .dataframe tbody tr th:only-of-type {\n",
       "        vertical-align: middle;\n",
       "    }\n",
       "\n",
       "    .dataframe tbody tr th {\n",
       "        vertical-align: top;\n",
       "    }\n",
       "\n",
       "    .dataframe thead th {\n",
       "        text-align: right;\n",
       "    }\n",
       "</style>\n",
       "<table border=\"1\" class=\"dataframe\">\n",
       "  <thead>\n",
       "    <tr style=\"text-align: right;\">\n",
       "      <th></th>\n",
       "      <th>age</th>\n",
       "      <th>sex</th>\n",
       "      <th>cp</th>\n",
       "      <th>trestbps</th>\n",
       "      <th>chol</th>\n",
       "      <th>fbs</th>\n",
       "      <th>restecg</th>\n",
       "      <th>thalach</th>\n",
       "      <th>exang</th>\n",
       "      <th>oldpeak</th>\n",
       "      <th>slope</th>\n",
       "      <th>ca</th>\n",
       "      <th>thal</th>\n",
       "      <th>target</th>\n",
       "    </tr>\n",
       "  </thead>\n",
       "  <tbody>\n",
       "    <tr>\n",
       "      <th>0</th>\n",
       "      <td>63</td>\n",
       "      <td>1</td>\n",
       "      <td>3</td>\n",
       "      <td>145</td>\n",
       "      <td>233</td>\n",
       "      <td>1</td>\n",
       "      <td>0</td>\n",
       "      <td>150</td>\n",
       "      <td>0</td>\n",
       "      <td>2.3</td>\n",
       "      <td>0</td>\n",
       "      <td>0</td>\n",
       "      <td>1</td>\n",
       "      <td>1</td>\n",
       "    </tr>\n",
       "    <tr>\n",
       "      <th>1</th>\n",
       "      <td>37</td>\n",
       "      <td>1</td>\n",
       "      <td>2</td>\n",
       "      <td>130</td>\n",
       "      <td>250</td>\n",
       "      <td>0</td>\n",
       "      <td>1</td>\n",
       "      <td>187</td>\n",
       "      <td>0</td>\n",
       "      <td>3.5</td>\n",
       "      <td>0</td>\n",
       "      <td>0</td>\n",
       "      <td>2</td>\n",
       "      <td>1</td>\n",
       "    </tr>\n",
       "    <tr>\n",
       "      <th>2</th>\n",
       "      <td>41</td>\n",
       "      <td>0</td>\n",
       "      <td>1</td>\n",
       "      <td>130</td>\n",
       "      <td>204</td>\n",
       "      <td>0</td>\n",
       "      <td>0</td>\n",
       "      <td>172</td>\n",
       "      <td>0</td>\n",
       "      <td>1.4</td>\n",
       "      <td>2</td>\n",
       "      <td>0</td>\n",
       "      <td>2</td>\n",
       "      <td>1</td>\n",
       "    </tr>\n",
       "    <tr>\n",
       "      <th>3</th>\n",
       "      <td>56</td>\n",
       "      <td>1</td>\n",
       "      <td>1</td>\n",
       "      <td>120</td>\n",
       "      <td>236</td>\n",
       "      <td>0</td>\n",
       "      <td>1</td>\n",
       "      <td>178</td>\n",
       "      <td>0</td>\n",
       "      <td>0.8</td>\n",
       "      <td>2</td>\n",
       "      <td>0</td>\n",
       "      <td>2</td>\n",
       "      <td>1</td>\n",
       "    </tr>\n",
       "    <tr>\n",
       "      <th>4</th>\n",
       "      <td>57</td>\n",
       "      <td>0</td>\n",
       "      <td>0</td>\n",
       "      <td>120</td>\n",
       "      <td>354</td>\n",
       "      <td>0</td>\n",
       "      <td>1</td>\n",
       "      <td>163</td>\n",
       "      <td>1</td>\n",
       "      <td>0.6</td>\n",
       "      <td>2</td>\n",
       "      <td>0</td>\n",
       "      <td>2</td>\n",
       "      <td>1</td>\n",
       "    </tr>\n",
       "    <tr>\n",
       "      <th>...</th>\n",
       "      <td>...</td>\n",
       "      <td>...</td>\n",
       "      <td>...</td>\n",
       "      <td>...</td>\n",
       "      <td>...</td>\n",
       "      <td>...</td>\n",
       "      <td>...</td>\n",
       "      <td>...</td>\n",
       "      <td>...</td>\n",
       "      <td>...</td>\n",
       "      <td>...</td>\n",
       "      <td>...</td>\n",
       "      <td>...</td>\n",
       "      <td>...</td>\n",
       "    </tr>\n",
       "    <tr>\n",
       "      <th>298</th>\n",
       "      <td>57</td>\n",
       "      <td>0</td>\n",
       "      <td>0</td>\n",
       "      <td>140</td>\n",
       "      <td>241</td>\n",
       "      <td>0</td>\n",
       "      <td>1</td>\n",
       "      <td>123</td>\n",
       "      <td>1</td>\n",
       "      <td>0.2</td>\n",
       "      <td>1</td>\n",
       "      <td>0</td>\n",
       "      <td>3</td>\n",
       "      <td>0</td>\n",
       "    </tr>\n",
       "    <tr>\n",
       "      <th>299</th>\n",
       "      <td>45</td>\n",
       "      <td>1</td>\n",
       "      <td>3</td>\n",
       "      <td>110</td>\n",
       "      <td>264</td>\n",
       "      <td>0</td>\n",
       "      <td>1</td>\n",
       "      <td>132</td>\n",
       "      <td>0</td>\n",
       "      <td>1.2</td>\n",
       "      <td>1</td>\n",
       "      <td>0</td>\n",
       "      <td>3</td>\n",
       "      <td>0</td>\n",
       "    </tr>\n",
       "    <tr>\n",
       "      <th>300</th>\n",
       "      <td>68</td>\n",
       "      <td>1</td>\n",
       "      <td>0</td>\n",
       "      <td>144</td>\n",
       "      <td>193</td>\n",
       "      <td>1</td>\n",
       "      <td>1</td>\n",
       "      <td>141</td>\n",
       "      <td>0</td>\n",
       "      <td>3.4</td>\n",
       "      <td>1</td>\n",
       "      <td>2</td>\n",
       "      <td>3</td>\n",
       "      <td>0</td>\n",
       "    </tr>\n",
       "    <tr>\n",
       "      <th>301</th>\n",
       "      <td>57</td>\n",
       "      <td>1</td>\n",
       "      <td>0</td>\n",
       "      <td>130</td>\n",
       "      <td>131</td>\n",
       "      <td>0</td>\n",
       "      <td>1</td>\n",
       "      <td>115</td>\n",
       "      <td>1</td>\n",
       "      <td>1.2</td>\n",
       "      <td>1</td>\n",
       "      <td>1</td>\n",
       "      <td>3</td>\n",
       "      <td>0</td>\n",
       "    </tr>\n",
       "    <tr>\n",
       "      <th>302</th>\n",
       "      <td>57</td>\n",
       "      <td>0</td>\n",
       "      <td>1</td>\n",
       "      <td>130</td>\n",
       "      <td>236</td>\n",
       "      <td>0</td>\n",
       "      <td>0</td>\n",
       "      <td>174</td>\n",
       "      <td>0</td>\n",
       "      <td>0.0</td>\n",
       "      <td>1</td>\n",
       "      <td>1</td>\n",
       "      <td>2</td>\n",
       "      <td>0</td>\n",
       "    </tr>\n",
       "  </tbody>\n",
       "</table>\n",
       "<p>303 rows × 14 columns</p>\n",
       "</div>"
      ],
      "text/plain": [
       "     age  sex  cp  trestbps  chol  fbs  restecg  thalach  exang  oldpeak  \\\n",
       "0     63    1   3       145   233    1        0      150      0      2.3   \n",
       "1     37    1   2       130   250    0        1      187      0      3.5   \n",
       "2     41    0   1       130   204    0        0      172      0      1.4   \n",
       "3     56    1   1       120   236    0        1      178      0      0.8   \n",
       "4     57    0   0       120   354    0        1      163      1      0.6   \n",
       "..   ...  ...  ..       ...   ...  ...      ...      ...    ...      ...   \n",
       "298   57    0   0       140   241    0        1      123      1      0.2   \n",
       "299   45    1   3       110   264    0        1      132      0      1.2   \n",
       "300   68    1   0       144   193    1        1      141      0      3.4   \n",
       "301   57    1   0       130   131    0        1      115      1      1.2   \n",
       "302   57    0   1       130   236    0        0      174      0      0.0   \n",
       "\n",
       "     slope  ca  thal  target  \n",
       "0        0   0     1       1  \n",
       "1        0   0     2       1  \n",
       "2        2   0     2       1  \n",
       "3        2   0     2       1  \n",
       "4        2   0     2       1  \n",
       "..     ...  ..   ...     ...  \n",
       "298      1   0     3       0  \n",
       "299      1   0     3       0  \n",
       "300      1   2     3       0  \n",
       "301      1   1     3       0  \n",
       "302      1   1     2       0  \n",
       "\n",
       "[303 rows x 14 columns]"
      ]
     },
     "execution_count": 63,
     "metadata": {},
     "output_type": "execute_result"
    }
   ],
   "source": [
    "heart_disease"
   ]
  },
  {
   "cell_type": "code",
   "execution_count": 64,
   "id": "eeadb77c",
   "metadata": {},
   "outputs": [],
   "source": [
    "from sklearn.ensemble import RandomForestClassifier\n",
    "np.random.seed(0)\n",
    "\n",
    "x = heart_disease.drop(\"target\",axis=1)\n",
    "y = heart_disease[\"target\"]"
   ]
  },
  {
   "cell_type": "code",
   "execution_count": 65,
   "id": "9f8900f6",
   "metadata": {},
   "outputs": [
    {
     "data": {
      "text/plain": [
       "array([0, 1, 1, 0, 0, 1, 0, 0, 0, 0, 1, 1, 0, 1, 1, 1, 0, 1, 0, 1, 1, 0,\n",
       "       0, 0, 1, 0, 0, 0, 1, 1, 1, 0, 1, 1, 1, 0, 0, 1, 0, 0, 1, 0, 1, 0,\n",
       "       0, 1, 1, 1, 0, 1, 1, 1, 1, 1, 1, 0, 1, 1, 1, 1, 1], dtype=int64)"
      ]
     },
     "execution_count": 65,
     "metadata": {},
     "output_type": "execute_result"
    }
   ],
   "source": [
    "x_train,x_test,y_train,y_test = train_test_split(x,y,test_size=0.2)\n",
    "model_4 = RandomForestClassifier()\n",
    "model_4.fit(x_train,y_train)\n",
    "y_preds=model_4.predict(x_test)\n",
    "y_preds"
   ]
  },
  {
   "cell_type": "code",
   "execution_count": 66,
   "id": "fe9fff17",
   "metadata": {},
   "outputs": [
    {
     "data": {
      "text/plain": [
       "0.8524590163934426"
      ]
     },
     "execution_count": 66,
     "metadata": {},
     "output_type": "execute_result"
    }
   ],
   "source": [
    "model_4.score(x_test,y_test)"
   ]
  },
  {
   "cell_type": "code",
   "execution_count": 67,
   "id": "c098e197",
   "metadata": {},
   "outputs": [
    {
     "data": {
      "text/plain": [
       "0.812831959930628"
      ]
     },
     "execution_count": 67,
     "metadata": {},
     "output_type": "execute_result"
    }
   ],
   "source": [
    "x = housing_df.drop(\"target\",axis=1)\n",
    "y = housing_df[\"target\"]\n",
    "from sklearn.model_selection import train_test_split\n",
    "from sklearn.ensemble import RandomForestRegressor\n",
    "x_train,x_test,y_train,y_test = train_test_split(x,y,test_size=0.2)\n",
    "model_3 = RandomForestRegressor()\n",
    "model_3.fit(x_train,y_train)\n",
    "y_preds=model_3.predict(x_test)\n",
    "model_3.score(x_test,y_test)"
   ]
  },
  {
   "cell_type": "code",
   "execution_count": 68,
   "id": "66b06828",
   "metadata": {},
   "outputs": [],
   "source": [
    "x = heart_disease.drop(\"target\",axis=1)\n",
    "y = heart_disease[\"target\"]\n",
    "from sklearn.model_selection import train_test_split\n",
    "x_train,x_test,y_train,y_test = train_test_split(x,y,test_size=0.2)\n",
    "from sklearn.ensemble import RandomForestClassifier\n",
    "model_2 = RandomForestClassifier()\n",
    "model_2.fit(x_train,y_train)\n",
    "model_2.score(x_test,y_test)\n",
    "y_pred = model_2.predict(x_test)"
   ]
  },
  {
   "cell_type": "code",
   "execution_count": 69,
   "id": "61686740",
   "metadata": {},
   "outputs": [
    {
     "data": {
      "text/plain": [
       "array([0.83606557, 0.90163934, 0.81967213, 0.81666667, 0.78333333])"
      ]
     },
     "execution_count": 69,
     "metadata": {},
     "output_type": "execute_result"
    }
   ],
   "source": [
    "from sklearn.model_selection import cross_val_score\n",
    "cross_val_score(model_2,x,y)"
   ]
  },
  {
   "cell_type": "markdown",
   "id": "106e3cce",
   "metadata": {},
   "source": [
    "Creating batches 5 accross our data and fiting and training our model \n",
    "\n",
    "default it uses score method to evaluate our data's"
   ]
  },
  {
   "cell_type": "code",
   "execution_count": 70,
   "id": "d77c8213",
   "metadata": {},
   "outputs": [
    {
     "data": {
      "text/plain": [
       "(0.8149726775956283, 0.7704918032786885)"
      ]
     },
     "execution_count": 70,
     "metadata": {},
     "output_type": "execute_result"
    }
   ],
   "source": [
    "np.mean(cross_val_score(model_2,x,y)),model_2.score(x_test,y_test)"
   ]
  },
  {
   "cell_type": "markdown",
   "id": "aa837f1f",
   "metadata": {},
   "source": [
    "# metrics"
   ]
  },
  {
   "cell_type": "markdown",
   "id": "97fff634",
   "metadata": {},
   "source": [
    "#  * Accuracy"
   ]
  },
  {
   "cell_type": "code",
   "execution_count": 71,
   "id": "6d149ed3",
   "metadata": {},
   "outputs": [
    {
     "name": "stdout",
     "output_type": "stream",
     "text": [
      "the model cross_val_score is :80.84%\n"
     ]
    }
   ],
   "source": [
    "c_v_s = np.mean(cross_val_score(model_2,x,y))\n",
    "print(f\"the model cross_val_score is :{c_v_s*100:.2f}%\")"
   ]
  },
  {
   "cell_type": "markdown",
   "id": "7a5b92cb",
   "metadata": {},
   "source": [
    " #   *Area Under the Receiver Operating  Characteristic Curve(AUC/ROC)"
   ]
  },
  {
   "cell_type": "code",
   "execution_count": 72,
   "id": "c85b6236",
   "metadata": {},
   "outputs": [
    {
     "data": {
      "text/plain": [
       "array([0.        , 0.        , 0.        , 0.        , 0.        ,\n",
       "       0.03703704, 0.03703704, 0.07407407, 0.07407407, 0.07407407,\n",
       "       0.11111111, 0.11111111, 0.14814815, 0.14814815, 0.22222222,\n",
       "       0.22222222, 0.25925926, 0.25925926, 0.2962963 , 0.2962963 ,\n",
       "       0.33333333, 0.37037037, 0.44444444, 0.48148148, 0.48148148,\n",
       "       0.48148148, 0.51851852, 0.66666667, 0.66666667, 1.        ])"
      ]
     },
     "execution_count": 72,
     "metadata": {},
     "output_type": "execute_result"
    }
   ],
   "source": [
    "#roc curve is nothing but comparision of models true positive and false positive rate(tpr vs fpr)\n",
    "from sklearn.metrics import roc_curve\n",
    "y_pred_probs = model_2.predict_proba(x_test)\n",
    "p_y_p_p = y_pred_probs[:,1]\n",
    "fpr,tpr,thresholds = roc_curve(y_test,p_y_p_p)\n",
    "fpr"
   ]
  },
  {
   "cell_type": "code",
   "execution_count": 73,
   "id": "658a8391",
   "metadata": {},
   "outputs": [
    {
     "data": {
      "image/png": "[encoded data removed]",
      "text/plain": [
       "<Figure size 432x288 with 1 Axes>"
      ]
     },
     "metadata": {
      "needs_background": "light"
     },
     "output_type": "display_data"
    }
   ],
   "source": [
    "def plot_roc_curve(fpr,tpr):\n",
    "    import matplotlib.pyplot as plt\n",
    "    plt.plot(fpr,tpr,color=\"orange\",label=\"roc\")\n",
    "#     guessing the value positive or not positive\n",
    "    plt.plot([0,1],[0,1],color=\"red\",linestyle=\"--\",label=\"guessing\")\n",
    "    plt.xlabel(\"false positive\")\n",
    "    plt.ylabel(\"true positive\")\n",
    "    plt.legend()\n",
    "    \n",
    "plot_roc_curve(fpr,tpr)"
   ]
  },
  {
   "cell_type": "code",
   "execution_count": 74,
   "id": "861af0e1",
   "metadata": {},
   "outputs": [
    {
     "data": {
      "text/plain": [
       "0.8605664488017429"
      ]
     },
     "execution_count": 74,
     "metadata": {},
     "output_type": "execute_result"
    }
   ],
   "source": [
    "from sklearn.metrics import roc_auc_score\n",
    "roc_auc_score(y_test,p_y_p_p)"
   ]
  },
  {
   "cell_type": "markdown",
   "id": "f46cb9a2",
   "metadata": {},
   "source": [
    "# Confustion matrix"
   ]
  },
  {
   "cell_type": "code",
   "execution_count": 75,
   "id": "2ed19e1d",
   "metadata": {},
   "outputs": [
    {
     "data": {
      "text/plain": [
       "array([[19,  8],\n",
       "       [ 6, 28]], dtype=int64)"
      ]
     },
     "execution_count": 75,
     "metadata": {},
     "output_type": "execute_result"
    }
   ],
   "source": [
    "from sklearn.metrics import confusion_matrix\n",
    "confusion_matrix(y_test,y_pred)"
   ]
  },
  {
   "cell_type": "code",
   "execution_count": 76,
   "id": "e9604f28",
   "metadata": {},
   "outputs": [
    {
     "data": {
      "text/html": [
       "<div>\n",
       "<style scoped>\n",
       "    .dataframe tbody tr th:only-of-type {\n",
       "        vertical-align: middle;\n",
       "    }\n",
       "\n",
       "    .dataframe tbody tr th {\n",
       "        vertical-align: top;\n",
       "    }\n",
       "\n",
       "    .dataframe thead th {\n",
       "        text-align: right;\n",
       "    }\n",
       "</style>\n",
       "<table border=\"1\" class=\"dataframe\">\n",
       "  <thead>\n",
       "    <tr style=\"text-align: right;\">\n",
       "      <th>predictedClass</th>\n",
       "      <th>0</th>\n",
       "      <th>1</th>\n",
       "    </tr>\n",
       "    <tr>\n",
       "      <th>ActualClass</th>\n",
       "      <th></th>\n",
       "      <th></th>\n",
       "    </tr>\n",
       "  </thead>\n",
       "  <tbody>\n",
       "    <tr>\n",
       "      <th>0</th>\n",
       "      <td>19</td>\n",
       "      <td>8</td>\n",
       "    </tr>\n",
       "    <tr>\n",
       "      <th>1</th>\n",
       "      <td>6</td>\n",
       "      <td>28</td>\n",
       "    </tr>\n",
       "  </tbody>\n",
       "</table>\n",
       "</div>"
      ],
      "text/plain": [
       "predictedClass   0   1\n",
       "ActualClass           \n",
       "0               19   8\n",
       "1                6  28"
      ]
     },
     "execution_count": 76,
     "metadata": {},
     "output_type": "execute_result"
    }
   ],
   "source": [
    "pd.crosstab(y_test,y_pred,rownames=[\"ActualClass\"],colnames=[\"predictedClass\"])"
   ]
  },
  {
   "cell_type": "code",
   "execution_count": 77,
   "id": "c20d8974",
   "metadata": {},
   "outputs": [
    {
     "name": "stdout",
     "output_type": "stream",
     "text": [
      "Collecting package metadata (current_repodata.json): ...working... done\n",
      "Solving environment: ...working... done\n",
      "\n",
      "# All requested packages already installed.\n",
      "\n"
     ]
    }
   ],
   "source": [
    "# importing new library using just jupyter notebook\n",
    "import sys\n",
    "!conda install --yes --prefix {sys.prefix} seaborn"
   ]
  },
  {
   "cell_type": "code",
   "execution_count": 78,
   "id": "1360f9c2",
   "metadata": {},
   "outputs": [
    {
     "data": {
      "image/png": "[encoded data removed]",
      "text/plain": [
       "<Figure size 432x288 with 2 Axes>"
      ]
     },
     "metadata": {},
     "output_type": "display_data"
    }
   ],
   "source": [
    "import seaborn as sea \n",
    "sea.set(font_scale=1.5)\n",
    "conf_mat = confusion_matrix(y_test,y_pred)\n",
    "sea.heatmap(conf_mat);"
   ]
  },
  {
   "cell_type": "code",
   "execution_count": 79,
   "id": "7818d3aa",
   "metadata": {},
   "outputs": [
    {
     "data": {
      "text/plain": [
       "<sklearn.metrics._plot.confusion_matrix.ConfusionMatrixDisplay at 0x1d856c9e220>"
      ]
     },
     "execution_count": 79,
     "metadata": {},
     "output_type": "execute_result"
    },
    {
     "data": {
      "image/png": "[encoded data removed]",
      "text/plain": [
       "<Figure size 432x288 with 2 Axes>"
      ]
     },
     "metadata": {},
     "output_type": "display_data"
    }
   ],
   "source": [
    "from sklearn.metrics import ConfusionMatrixDisplay\n",
    "ConfusionMatrixDisplay.from_estimator(model_2,x,y)"
   ]
  },
  {
   "cell_type": "code",
   "execution_count": 80,
   "id": "1e9770e7",
   "metadata": {},
   "outputs": [
    {
     "data": {
      "text/plain": [
       "<sklearn.metrics._plot.confusion_matrix.ConfusionMatrixDisplay at 0x1d856de9760>"
      ]
     },
     "execution_count": 80,
     "metadata": {},
     "output_type": "execute_result"
    },
    {
     "data": {
      "image/png": "[encoded data removed]",
      "text/plain": [
       "<Figure size 432x288 with 2 Axes>"
      ]
     },
     "metadata": {},
     "output_type": "display_data"
    }
   ],
   "source": [
    "ConfusionMatrixDisplay.from_predictions(y_test,y_pred)"
   ]
  },
  {
   "cell_type": "markdown",
   "id": "318cae33",
   "metadata": {},
   "source": [
    "# Classification report"
   ]
  },
  {
   "cell_type": "code",
   "execution_count": 81,
   "id": "c63e6d28",
   "metadata": {},
   "outputs": [
    {
     "name": "stdout",
     "output_type": "stream",
     "text": [
      "              precision    recall  f1-score   support\n",
      "\n",
      "           0       0.76      0.70      0.73        27\n",
      "           1       0.78      0.82      0.80        34\n",
      "\n",
      "    accuracy                           0.77        61\n",
      "   macro avg       0.77      0.76      0.77        61\n",
      "weighted avg       0.77      0.77      0.77        61\n",
      "\n"
     ]
    }
   ],
   "source": [
    "from sklearn.metrics import classification_report\n",
    "print(classification_report(y_test,y_pred))"
   ]
  },
  {
   "cell_type": "code",
   "execution_count": 82,
   "id": "b477baf3",
   "metadata": {},
   "outputs": [
    {
     "name": "stderr",
     "output_type": "stream",
     "text": [
      "C:\\Users\\sriram\\Desktop\\sample_project\\environment\\lib\\site-packages\\sklearn\\metrics\\_classification.py:1318: UndefinedMetricWarning: Precision and F-score are ill-defined and being set to 0.0 in labels with no predicted samples. Use `zero_division` parameter to control this behavior.\n",
      "  _warn_prf(average, modifier, msg_start, len(result))\n",
      "C:\\Users\\sriram\\Desktop\\sample_project\\environment\\lib\\site-packages\\sklearn\\metrics\\_classification.py:1318: UndefinedMetricWarning: Precision and F-score are ill-defined and being set to 0.0 in labels with no predicted samples. Use `zero_division` parameter to control this behavior.\n",
      "  _warn_prf(average, modifier, msg_start, len(result))\n",
      "C:\\Users\\sriram\\Desktop\\sample_project\\environment\\lib\\site-packages\\sklearn\\metrics\\_classification.py:1318: UndefinedMetricWarning: Precision and F-score are ill-defined and being set to 0.0 in labels with no predicted samples. Use `zero_division` parameter to control this behavior.\n",
      "  _warn_prf(average, modifier, msg_start, len(result))\n"
     ]
    },
    {
     "data": {
      "text/html": [
       "<div>\n",
       "<style scoped>\n",
       "    .dataframe tbody tr th:only-of-type {\n",
       "        vertical-align: middle;\n",
       "    }\n",
       "\n",
       "    .dataframe tbody tr th {\n",
       "        vertical-align: top;\n",
       "    }\n",
       "\n",
       "    .dataframe thead th {\n",
       "        text-align: right;\n",
       "    }\n",
       "</style>\n",
       "<table border=\"1\" class=\"dataframe\">\n",
       "  <thead>\n",
       "    <tr style=\"text-align: right;\">\n",
       "      <th></th>\n",
       "      <th>0.0</th>\n",
       "      <th>1.0</th>\n",
       "      <th>accuracy</th>\n",
       "      <th>macro avg</th>\n",
       "      <th>weighted avg</th>\n",
       "    </tr>\n",
       "  </thead>\n",
       "  <tbody>\n",
       "    <tr>\n",
       "      <th>precision</th>\n",
       "      <td>0.990000</td>\n",
       "      <td>0.0</td>\n",
       "      <td>0.99</td>\n",
       "      <td>0.495000</td>\n",
       "      <td>0.980100</td>\n",
       "    </tr>\n",
       "    <tr>\n",
       "      <th>recall</th>\n",
       "      <td>1.000000</td>\n",
       "      <td>0.0</td>\n",
       "      <td>0.99</td>\n",
       "      <td>0.500000</td>\n",
       "      <td>0.990000</td>\n",
       "    </tr>\n",
       "    <tr>\n",
       "      <th>f1-score</th>\n",
       "      <td>0.994975</td>\n",
       "      <td>0.0</td>\n",
       "      <td>0.99</td>\n",
       "      <td>0.497487</td>\n",
       "      <td>0.985025</td>\n",
       "    </tr>\n",
       "    <tr>\n",
       "      <th>support</th>\n",
       "      <td>99.000000</td>\n",
       "      <td>1.0</td>\n",
       "      <td>0.99</td>\n",
       "      <td>100.000000</td>\n",
       "      <td>100.000000</td>\n",
       "    </tr>\n",
       "  </tbody>\n",
       "</table>\n",
       "</div>"
      ],
      "text/plain": [
       "                 0.0  1.0  accuracy   macro avg  weighted avg\n",
       "precision   0.990000  0.0      0.99    0.495000      0.980100\n",
       "recall      1.000000  0.0      0.99    0.500000      0.990000\n",
       "f1-score    0.994975  0.0      0.99    0.497487      0.985025\n",
       "support    99.000000  1.0      0.99  100.000000    100.000000"
      ]
     },
     "execution_count": 82,
     "metadata": {},
     "output_type": "execute_result"
    }
   ],
   "source": [
    "test_pos = np.zeros(100)\n",
    "test_pos[0] = 1\n",
    "test_pred = np.zeros(100)\n",
    "pd.DataFrame(classification_report(test_pos,test_pred,output_dict=True))"
   ]
  },
  {
   "cell_type": "markdown",
   "id": "2d833f6c",
   "metadata": {},
   "source": [
    "# Regression evaluations"
   ]
  },
  {
   "cell_type": "code",
   "execution_count": 83,
   "id": "332c0339",
   "metadata": {},
   "outputs": [
    {
     "data": {
      "text/plain": [
       "0.811848132830139"
      ]
     },
     "execution_count": 83,
     "metadata": {},
     "output_type": "execute_result"
    }
   ],
   "source": [
    "x = housing_df.drop(\"target\",axis=1)\n",
    "y = housing_df[\"target\"]\n",
    "from sklearn.model_selection import train_test_split\n",
    "from sklearn.ensemble import RandomForestRegressor\n",
    "x_train,x_test,y_train,y_test = train_test_split(x,y,test_size=0.2)\n",
    "model_3 = RandomForestRegressor()\n",
    "model_3.fit(x_train,y_train)\n",
    "y_preds=model_3.predict(x_test)\n",
    "model_3.score(x_test,y_test)"
   ]
  },
  {
   "cell_type": "code",
   "execution_count": 84,
   "id": "86678944",
   "metadata": {},
   "outputs": [
    {
     "data": {
      "text/plain": [
       "2.1153852010658905"
      ]
     },
     "execution_count": 84,
     "metadata": {},
     "output_type": "execute_result"
    }
   ],
   "source": [
    "np.mean(y_test)"
   ]
  },
  {
   "cell_type": "markdown",
   "id": "73fbf118",
   "metadata": {},
   "source": [
    "if our model came close/predicted to the mean value for every value in our data it will get 0.0 (R square) score and if it predicted y_test value as it is then it will get 1.0"
   ]
  },
  {
   "cell_type": "markdown",
   "id": "ed28ae8d",
   "metadata": {},
   "source": [
    " lets see it in action "
   ]
  },
  {
   "cell_type": "code",
   "execution_count": 85,
   "id": "bdae8941",
   "metadata": {},
   "outputs": [
    {
     "data": {
      "text/plain": [
       "array([2.1153852, 2.1153852, 2.1153852, 2.1153852, 2.1153852, 2.1153852,\n",
       "       2.1153852, 2.1153852, 2.1153852, 2.1153852])"
      ]
     },
     "execution_count": 85,
     "metadata": {},
     "output_type": "execute_result"
    }
   ],
   "source": [
    "from sklearn.metrics import r2_score\n",
    "y_test_pred = np.full(len(y_test),y_test.mean())\n",
    "y_test_pred[:10]"
   ]
  },
  {
   "cell_type": "code",
   "execution_count": 86,
   "id": "e6c0cf8d",
   "metadata": {},
   "outputs": [
    {
     "data": {
      "text/plain": [
       "1.1102230246251565e-16"
      ]
     },
     "execution_count": 86,
     "metadata": {},
     "output_type": "execute_result"
    }
   ],
   "source": [
    "r2_score(y_test,y_test_pred)"
   ]
  },
  {
   "cell_type": "code",
   "execution_count": 87,
   "id": "6e0a7a31",
   "metadata": {},
   "outputs": [
    {
     "data": {
      "text/plain": [
       "1.0"
      ]
     },
     "execution_count": 87,
     "metadata": {},
     "output_type": "execute_result"
    }
   ],
   "source": [
    "y_test_pred = y_test\n",
    "r2_score(y_test,y_test_pred)"
   ]
  },
  {
   "cell_type": "markdown",
   "id": "ced046e8",
   "metadata": {},
   "source": [
    "# mae"
   ]
  },
  {
   "cell_type": "code",
   "execution_count": 88,
   "id": "31bb9080",
   "metadata": {},
   "outputs": [
    {
     "data": {
      "text/plain": [
       "0.3295937511870157"
      ]
     },
     "execution_count": 88,
     "metadata": {},
     "output_type": "execute_result"
    }
   ],
   "source": [
    "from sklearn.metrics import mean_absolute_error\n",
    "mean_absolute_error(y_test,model_3.predict(x_test))"
   ]
  },
  {
   "cell_type": "code",
   "execution_count": 89,
   "id": "c6532a35",
   "metadata": {},
   "outputs": [],
   "source": [
    "y_pred=model_3.predict(x_test)"
   ]
  },
  {
   "cell_type": "code",
   "execution_count": 90,
   "id": "75a5a432",
   "metadata": {},
   "outputs": [
    {
     "data": {
      "text/html": [
       "<div>\n",
       "<style scoped>\n",
       "    .dataframe tbody tr th:only-of-type {\n",
       "        vertical-align: middle;\n",
       "    }\n",
       "\n",
       "    .dataframe tbody tr th {\n",
       "        vertical-align: top;\n",
       "    }\n",
       "\n",
       "    .dataframe thead th {\n",
       "        text-align: right;\n",
       "    }\n",
       "</style>\n",
       "<table border=\"1\" class=\"dataframe\">\n",
       "  <thead>\n",
       "    <tr style=\"text-align: right;\">\n",
       "      <th></th>\n",
       "      <th>Actual_Value</th>\n",
       "      <th>Predicted_Value</th>\n",
       "      <th>Distance between them</th>\n",
       "    </tr>\n",
       "  </thead>\n",
       "  <tbody>\n",
       "    <tr>\n",
       "      <th>14520</th>\n",
       "      <td>1.60300</td>\n",
       "      <td>1.756080</td>\n",
       "      <td>-0.153080</td>\n",
       "    </tr>\n",
       "    <tr>\n",
       "      <th>10714</th>\n",
       "      <td>2.31600</td>\n",
       "      <td>2.047410</td>\n",
       "      <td>0.268590</td>\n",
       "    </tr>\n",
       "    <tr>\n",
       "      <th>903</th>\n",
       "      <td>2.22700</td>\n",
       "      <td>2.143550</td>\n",
       "      <td>0.083450</td>\n",
       "    </tr>\n",
       "    <tr>\n",
       "      <th>10647</th>\n",
       "      <td>5.00001</td>\n",
       "      <td>4.646997</td>\n",
       "      <td>0.353013</td>\n",
       "    </tr>\n",
       "    <tr>\n",
       "      <th>3784</th>\n",
       "      <td>3.09400</td>\n",
       "      <td>3.029280</td>\n",
       "      <td>0.064720</td>\n",
       "    </tr>\n",
       "  </tbody>\n",
       "</table>\n",
       "</div>"
      ],
      "text/plain": [
       "       Actual_Value  Predicted_Value  Distance between them\n",
       "14520       1.60300         1.756080              -0.153080\n",
       "10714       2.31600         2.047410               0.268590\n",
       "903         2.22700         2.143550               0.083450\n",
       "10647       5.00001         4.646997               0.353013\n",
       "3784        3.09400         3.029280               0.064720"
      ]
     },
     "execution_count": 90,
     "metadata": {},
     "output_type": "execute_result"
    }
   ],
   "source": [
    "df = pd.DataFrame({\"Actual_Value\":y_test,\n",
    "             \"Predicted_Value\":y_pred,\n",
    "             \"Distance between them\":y_test-y_pred})\n",
    "df.head()"
   ]
  },
  {
   "cell_type": "code",
   "execution_count": 91,
   "id": "bdfd5fcf",
   "metadata": {},
   "outputs": [
    {
     "data": {
      "text/plain": [
       "0.32959375118701617"
      ]
     },
     "execution_count": 91,
     "metadata": {},
     "output_type": "execute_result"
    }
   ],
   "source": [
    "# mae formula\n",
    "np.abs(y_test-y_pred).mean()"
   ]
  },
  {
   "cell_type": "code",
   "execution_count": 92,
   "id": "438af7aa",
   "metadata": {},
   "outputs": [
    {
     "data": {
      "text/plain": [
       "0.25962646378764764"
      ]
     },
     "execution_count": 92,
     "metadata": {},
     "output_type": "execute_result"
    }
   ],
   "source": [
    "from sklearn.metrics import mean_squared_error\n",
    "mean_squared_error(y_test,y_pred)"
   ]
  },
  {
   "cell_type": "code",
   "execution_count": 93,
   "id": "01062356",
   "metadata": {},
   "outputs": [
    {
     "data": {
      "text/html": [
       "<div>\n",
       "<style scoped>\n",
       "    .dataframe tbody tr th:only-of-type {\n",
       "        vertical-align: middle;\n",
       "    }\n",
       "\n",
       "    .dataframe tbody tr th {\n",
       "        vertical-align: top;\n",
       "    }\n",
       "\n",
       "    .dataframe thead th {\n",
       "        text-align: right;\n",
       "    }\n",
       "</style>\n",
       "<table border=\"1\" class=\"dataframe\">\n",
       "  <thead>\n",
       "    <tr style=\"text-align: right;\">\n",
       "      <th></th>\n",
       "      <th>Actual_Value</th>\n",
       "      <th>Predicted_Value</th>\n",
       "      <th>Distance between them</th>\n",
       "    </tr>\n",
       "  </thead>\n",
       "  <tbody>\n",
       "    <tr>\n",
       "      <th>14520</th>\n",
       "      <td>1.60300</td>\n",
       "      <td>1.756080</td>\n",
       "      <td>-0.153080</td>\n",
       "    </tr>\n",
       "    <tr>\n",
       "      <th>10714</th>\n",
       "      <td>2.31600</td>\n",
       "      <td>2.047410</td>\n",
       "      <td>0.268590</td>\n",
       "    </tr>\n",
       "    <tr>\n",
       "      <th>903</th>\n",
       "      <td>2.22700</td>\n",
       "      <td>2.143550</td>\n",
       "      <td>0.083450</td>\n",
       "    </tr>\n",
       "    <tr>\n",
       "      <th>10647</th>\n",
       "      <td>5.00001</td>\n",
       "      <td>4.646997</td>\n",
       "      <td>0.353013</td>\n",
       "    </tr>\n",
       "    <tr>\n",
       "      <th>3784</th>\n",
       "      <td>3.09400</td>\n",
       "      <td>3.029280</td>\n",
       "      <td>0.064720</td>\n",
       "    </tr>\n",
       "    <tr>\n",
       "      <th>...</th>\n",
       "      <td>...</td>\n",
       "      <td>...</td>\n",
       "      <td>...</td>\n",
       "    </tr>\n",
       "    <tr>\n",
       "      <th>11733</th>\n",
       "      <td>0.97700</td>\n",
       "      <td>1.358820</td>\n",
       "      <td>-0.381820</td>\n",
       "    </tr>\n",
       "    <tr>\n",
       "      <th>10577</th>\n",
       "      <td>2.73800</td>\n",
       "      <td>2.042130</td>\n",
       "      <td>0.695870</td>\n",
       "    </tr>\n",
       "    <tr>\n",
       "      <th>3770</th>\n",
       "      <td>3.43400</td>\n",
       "      <td>3.280140</td>\n",
       "      <td>0.153860</td>\n",
       "    </tr>\n",
       "    <tr>\n",
       "      <th>7595</th>\n",
       "      <td>1.05800</td>\n",
       "      <td>1.361920</td>\n",
       "      <td>-0.303920</td>\n",
       "    </tr>\n",
       "    <tr>\n",
       "      <th>2479</th>\n",
       "      <td>0.55100</td>\n",
       "      <td>0.687510</td>\n",
       "      <td>-0.136510</td>\n",
       "    </tr>\n",
       "  </tbody>\n",
       "</table>\n",
       "<p>4128 rows × 3 columns</p>\n",
       "</div>"
      ],
      "text/plain": [
       "       Actual_Value  Predicted_Value  Distance between them\n",
       "14520       1.60300         1.756080              -0.153080\n",
       "10714       2.31600         2.047410               0.268590\n",
       "903         2.22700         2.143550               0.083450\n",
       "10647       5.00001         4.646997               0.353013\n",
       "3784        3.09400         3.029280               0.064720\n",
       "...             ...              ...                    ...\n",
       "11733       0.97700         1.358820              -0.381820\n",
       "10577       2.73800         2.042130               0.695870\n",
       "3770        3.43400         3.280140               0.153860\n",
       "7595        1.05800         1.361920              -0.303920\n",
       "2479        0.55100         0.687510              -0.136510\n",
       "\n",
       "[4128 rows x 3 columns]"
      ]
     },
     "execution_count": 93,
     "metadata": {},
     "output_type": "execute_result"
    }
   ],
   "source": [
    "df_large_error = df.copy()\n",
    "df_large_error"
   ]
  },
  {
   "cell_type": "code",
   "execution_count": 94,
   "id": "a6d2ba0e",
   "metadata": {},
   "outputs": [
    {
     "data": {
      "text/html": [
       "<div>\n",
       "<style scoped>\n",
       "    .dataframe tbody tr th:only-of-type {\n",
       "        vertical-align: middle;\n",
       "    }\n",
       "\n",
       "    .dataframe tbody tr th {\n",
       "        vertical-align: top;\n",
       "    }\n",
       "\n",
       "    .dataframe thead th {\n",
       "        text-align: right;\n",
       "    }\n",
       "</style>\n",
       "<table border=\"1\" class=\"dataframe\">\n",
       "  <thead>\n",
       "    <tr style=\"text-align: right;\">\n",
       "      <th></th>\n",
       "      <th>Actual_Value</th>\n",
       "      <th>Predicted_Value</th>\n",
       "      <th>Distance between them</th>\n",
       "    </tr>\n",
       "  </thead>\n",
       "  <tbody>\n",
       "    <tr>\n",
       "      <th>14520</th>\n",
       "      <td>1.60300</td>\n",
       "      <td>1.756080</td>\n",
       "      <td>16.000000</td>\n",
       "    </tr>\n",
       "    <tr>\n",
       "      <th>10714</th>\n",
       "      <td>2.31600</td>\n",
       "      <td>2.047410</td>\n",
       "      <td>0.268590</td>\n",
       "    </tr>\n",
       "    <tr>\n",
       "      <th>903</th>\n",
       "      <td>2.22700</td>\n",
       "      <td>2.143550</td>\n",
       "      <td>0.083450</td>\n",
       "    </tr>\n",
       "    <tr>\n",
       "      <th>10647</th>\n",
       "      <td>5.00001</td>\n",
       "      <td>4.646997</td>\n",
       "      <td>0.353013</td>\n",
       "    </tr>\n",
       "    <tr>\n",
       "      <th>3784</th>\n",
       "      <td>3.09400</td>\n",
       "      <td>3.029280</td>\n",
       "      <td>0.064720</td>\n",
       "    </tr>\n",
       "    <tr>\n",
       "      <th>...</th>\n",
       "      <td>...</td>\n",
       "      <td>...</td>\n",
       "      <td>...</td>\n",
       "    </tr>\n",
       "    <tr>\n",
       "      <th>11733</th>\n",
       "      <td>0.97700</td>\n",
       "      <td>1.358820</td>\n",
       "      <td>-0.381820</td>\n",
       "    </tr>\n",
       "    <tr>\n",
       "      <th>10577</th>\n",
       "      <td>2.73800</td>\n",
       "      <td>2.042130</td>\n",
       "      <td>0.695870</td>\n",
       "    </tr>\n",
       "    <tr>\n",
       "      <th>3770</th>\n",
       "      <td>3.43400</td>\n",
       "      <td>3.280140</td>\n",
       "      <td>0.153860</td>\n",
       "    </tr>\n",
       "    <tr>\n",
       "      <th>7595</th>\n",
       "      <td>1.05800</td>\n",
       "      <td>1.361920</td>\n",
       "      <td>-0.303920</td>\n",
       "    </tr>\n",
       "    <tr>\n",
       "      <th>2479</th>\n",
       "      <td>0.55100</td>\n",
       "      <td>0.687510</td>\n",
       "      <td>-0.136510</td>\n",
       "    </tr>\n",
       "  </tbody>\n",
       "</table>\n",
       "<p>4128 rows × 3 columns</p>\n",
       "</div>"
      ],
      "text/plain": [
       "       Actual_Value  Predicted_Value  Distance between them\n",
       "14520       1.60300         1.756080              16.000000\n",
       "10714       2.31600         2.047410               0.268590\n",
       "903         2.22700         2.143550               0.083450\n",
       "10647       5.00001         4.646997               0.353013\n",
       "3784        3.09400         3.029280               0.064720\n",
       "...             ...              ...                    ...\n",
       "11733       0.97700         1.358820              -0.381820\n",
       "10577       2.73800         2.042130               0.695870\n",
       "3770        3.43400         3.280140               0.153860\n",
       "7595        1.05800         1.361920              -0.303920\n",
       "2479        0.55100         0.687510              -0.136510\n",
       "\n",
       "[4128 rows x 3 columns]"
      ]
     },
     "execution_count": 94,
     "metadata": {},
     "output_type": "execute_result"
    }
   ],
   "source": [
    "df_large_error.iloc[0][\"Distance between them\"] = 16\n",
    "df_large_error"
   ]
  },
  {
   "cell_type": "code",
   "execution_count": 95,
   "id": "5f9160ae",
   "metadata": {},
   "outputs": [
    {
     "name": "stdout",
     "output_type": "stream",
     "text": [
      "the output is :[0.81967213 0.8852459  0.81967213 0.8        0.78333333]%\n"
     ]
    }
   ],
   "source": [
    "from sklearn.model_selection import cross_val_score\n",
    "x = heart_disease.drop(\"target\",axis=1)\n",
    "y = heart_disease[\"target\"]\n",
    "from sklearn.ensemble import RandomForestClassifier\n",
    "model = RandomForestClassifier()\n",
    "c_v_s = cross_val_score(model,x,y,cv=5,scoring=\"accuracy\")#default scoring metrics\n",
    "print(f\"the output is :{c_v_s}%\")"
   ]
  },
  {
   "cell_type": "code",
   "execution_count": 96,
   "id": "76f07381",
   "metadata": {},
   "outputs": [
    {
     "data": {
      "text/plain": [
       "0.821584699453552"
      ]
     },
     "execution_count": 96,
     "metadata": {},
     "output_type": "execute_result"
    }
   ],
   "source": [
    "accuracy_mean = np.mean(c_v_s)\n",
    "accuracy_mean"
   ]
  },
  {
   "cell_type": "code",
   "execution_count": 97,
   "id": "cd8b2608",
   "metadata": {},
   "outputs": [
    {
     "data": {
      "text/plain": [
       "0.8290595030514385"
      ]
     },
     "execution_count": 97,
     "metadata": {},
     "output_type": "execute_result"
    }
   ],
   "source": [
    "c_v_s = cross_val_score(model,x,y,scoring=\"precision\")\n",
    "precision_mean = np.mean(c_v_s)\n",
    "precision_mean"
   ]
  },
  {
   "cell_type": "code",
   "execution_count": 98,
   "id": "079a2e4c",
   "metadata": {},
   "outputs": [
    {
     "data": {
      "text/plain": [
       "0.8484848484848484"
      ]
     },
     "execution_count": 98,
     "metadata": {},
     "output_type": "execute_result"
    }
   ],
   "source": [
    "c_v_s = cross_val_score(model,x,y,scoring=\"recall\")\n",
    "recall_mean = np.mean(c_v_s)\n",
    "recall_mean"
   ]
  },
  {
   "cell_type": "code",
   "execution_count": 99,
   "id": "ab2227ca",
   "metadata": {},
   "outputs": [
    {
     "data": {
      "text/html": [
       "<div>\n",
       "<style scoped>\n",
       "    .dataframe tbody tr th:only-of-type {\n",
       "        vertical-align: middle;\n",
       "    }\n",
       "\n",
       "    .dataframe tbody tr th {\n",
       "        vertical-align: top;\n",
       "    }\n",
       "\n",
       "    .dataframe thead th {\n",
       "        text-align: right;\n",
       "    }\n",
       "</style>\n",
       "<table border=\"1\" class=\"dataframe\">\n",
       "  <thead>\n",
       "    <tr style=\"text-align: right;\">\n",
       "      <th></th>\n",
       "      <th>MedInc</th>\n",
       "      <th>HouseAge</th>\n",
       "      <th>AveRooms</th>\n",
       "      <th>AveBedrms</th>\n",
       "      <th>Population</th>\n",
       "      <th>AveOccup</th>\n",
       "      <th>Latitude</th>\n",
       "      <th>Longitude</th>\n",
       "      <th>target</th>\n",
       "    </tr>\n",
       "  </thead>\n",
       "  <tbody>\n",
       "    <tr>\n",
       "      <th>0</th>\n",
       "      <td>8.3252</td>\n",
       "      <td>41.0</td>\n",
       "      <td>6.984127</td>\n",
       "      <td>1.023810</td>\n",
       "      <td>322.0</td>\n",
       "      <td>2.555556</td>\n",
       "      <td>37.88</td>\n",
       "      <td>-122.23</td>\n",
       "      <td>4.526</td>\n",
       "    </tr>\n",
       "    <tr>\n",
       "      <th>1</th>\n",
       "      <td>8.3014</td>\n",
       "      <td>21.0</td>\n",
       "      <td>6.238137</td>\n",
       "      <td>0.971880</td>\n",
       "      <td>2401.0</td>\n",
       "      <td>2.109842</td>\n",
       "      <td>37.86</td>\n",
       "      <td>-122.22</td>\n",
       "      <td>3.585</td>\n",
       "    </tr>\n",
       "    <tr>\n",
       "      <th>2</th>\n",
       "      <td>7.2574</td>\n",
       "      <td>52.0</td>\n",
       "      <td>8.288136</td>\n",
       "      <td>1.073446</td>\n",
       "      <td>496.0</td>\n",
       "      <td>2.802260</td>\n",
       "      <td>37.85</td>\n",
       "      <td>-122.24</td>\n",
       "      <td>3.521</td>\n",
       "    </tr>\n",
       "    <tr>\n",
       "      <th>3</th>\n",
       "      <td>5.6431</td>\n",
       "      <td>52.0</td>\n",
       "      <td>5.817352</td>\n",
       "      <td>1.073059</td>\n",
       "      <td>558.0</td>\n",
       "      <td>2.547945</td>\n",
       "      <td>37.85</td>\n",
       "      <td>-122.25</td>\n",
       "      <td>3.413</td>\n",
       "    </tr>\n",
       "    <tr>\n",
       "      <th>4</th>\n",
       "      <td>3.8462</td>\n",
       "      <td>52.0</td>\n",
       "      <td>6.281853</td>\n",
       "      <td>1.081081</td>\n",
       "      <td>565.0</td>\n",
       "      <td>2.181467</td>\n",
       "      <td>37.85</td>\n",
       "      <td>-122.25</td>\n",
       "      <td>3.422</td>\n",
       "    </tr>\n",
       "    <tr>\n",
       "      <th>...</th>\n",
       "      <td>...</td>\n",
       "      <td>...</td>\n",
       "      <td>...</td>\n",
       "      <td>...</td>\n",
       "      <td>...</td>\n",
       "      <td>...</td>\n",
       "      <td>...</td>\n",
       "      <td>...</td>\n",
       "      <td>...</td>\n",
       "    </tr>\n",
       "    <tr>\n",
       "      <th>20635</th>\n",
       "      <td>1.5603</td>\n",
       "      <td>25.0</td>\n",
       "      <td>5.045455</td>\n",
       "      <td>1.133333</td>\n",
       "      <td>845.0</td>\n",
       "      <td>2.560606</td>\n",
       "      <td>39.48</td>\n",
       "      <td>-121.09</td>\n",
       "      <td>0.781</td>\n",
       "    </tr>\n",
       "    <tr>\n",
       "      <th>20636</th>\n",
       "      <td>2.5568</td>\n",
       "      <td>18.0</td>\n",
       "      <td>6.114035</td>\n",
       "      <td>1.315789</td>\n",
       "      <td>356.0</td>\n",
       "      <td>3.122807</td>\n",
       "      <td>39.49</td>\n",
       "      <td>-121.21</td>\n",
       "      <td>0.771</td>\n",
       "    </tr>\n",
       "    <tr>\n",
       "      <th>20637</th>\n",
       "      <td>1.7000</td>\n",
       "      <td>17.0</td>\n",
       "      <td>5.205543</td>\n",
       "      <td>1.120092</td>\n",
       "      <td>1007.0</td>\n",
       "      <td>2.325635</td>\n",
       "      <td>39.43</td>\n",
       "      <td>-121.22</td>\n",
       "      <td>0.923</td>\n",
       "    </tr>\n",
       "    <tr>\n",
       "      <th>20638</th>\n",
       "      <td>1.8672</td>\n",
       "      <td>18.0</td>\n",
       "      <td>5.329513</td>\n",
       "      <td>1.171920</td>\n",
       "      <td>741.0</td>\n",
       "      <td>2.123209</td>\n",
       "      <td>39.43</td>\n",
       "      <td>-121.32</td>\n",
       "      <td>0.847</td>\n",
       "    </tr>\n",
       "    <tr>\n",
       "      <th>20639</th>\n",
       "      <td>2.3886</td>\n",
       "      <td>16.0</td>\n",
       "      <td>5.254717</td>\n",
       "      <td>1.162264</td>\n",
       "      <td>1387.0</td>\n",
       "      <td>2.616981</td>\n",
       "      <td>39.37</td>\n",
       "      <td>-121.24</td>\n",
       "      <td>0.894</td>\n",
       "    </tr>\n",
       "  </tbody>\n",
       "</table>\n",
       "<p>20640 rows × 9 columns</p>\n",
       "</div>"
      ],
      "text/plain": [
       "       MedInc  HouseAge  AveRooms  AveBedrms  Population  AveOccup  Latitude  \\\n",
       "0      8.3252      41.0  6.984127   1.023810       322.0  2.555556     37.88   \n",
       "1      8.3014      21.0  6.238137   0.971880      2401.0  2.109842     37.86   \n",
       "2      7.2574      52.0  8.288136   1.073446       496.0  2.802260     37.85   \n",
       "3      5.6431      52.0  5.817352   1.073059       558.0  2.547945     37.85   \n",
       "4      3.8462      52.0  6.281853   1.081081       565.0  2.181467     37.85   \n",
       "...       ...       ...       ...        ...         ...       ...       ...   \n",
       "20635  1.5603      25.0  5.045455   1.133333       845.0  2.560606     39.48   \n",
       "20636  2.5568      18.0  6.114035   1.315789       356.0  3.122807     39.49   \n",
       "20637  1.7000      17.0  5.205543   1.120092      1007.0  2.325635     39.43   \n",
       "20638  1.8672      18.0  5.329513   1.171920       741.0  2.123209     39.43   \n",
       "20639  2.3886      16.0  5.254717   1.162264      1387.0  2.616981     39.37   \n",
       "\n",
       "       Longitude  target  \n",
       "0        -122.23   4.526  \n",
       "1        -122.22   3.585  \n",
       "2        -122.24   3.521  \n",
       "3        -122.25   3.413  \n",
       "4        -122.25   3.422  \n",
       "...          ...     ...  \n",
       "20635    -121.09   0.781  \n",
       "20636    -121.21   0.771  \n",
       "20637    -121.22   0.923  \n",
       "20638    -121.32   0.847  \n",
       "20639    -121.24   0.894  \n",
       "\n",
       "[20640 rows x 9 columns]"
      ]
     },
     "execution_count": 99,
     "metadata": {},
     "output_type": "execute_result"
    }
   ],
   "source": [
    "housing_df"
   ]
  },
  {
   "cell_type": "code",
   "execution_count": 100,
   "id": "232b51d9",
   "metadata": {},
   "outputs": [
    {
     "data": {
      "text/plain": [
       "0.6502171793619356"
      ]
     },
     "execution_count": 100,
     "metadata": {},
     "output_type": "execute_result"
    }
   ],
   "source": [
    "x = housing_df.drop(\"target\",axis=1)\n",
    "y = housing_df[\"target\"]\n",
    "from sklearn.ensemble import RandomForestRegressor\n",
    "model = RandomForestRegressor()\n",
    "c_v_s = cross_val_score(model,x,y,scoring=\"r2\")#default score metrics\n",
    "r2_mean = np.mean(c_v_s)\n",
    "r2_mean"
   ]
  },
  {
   "cell_type": "code",
   "execution_count": 101,
   "id": "0911b3c8",
   "metadata": {},
   "outputs": [
    {
     "data": {
      "text/plain": [
       "-0.46604112467538766"
      ]
     },
     "execution_count": 101,
     "metadata": {},
     "output_type": "execute_result"
    }
   ],
   "source": [
    "c_v_s = cross_val_score(model,x,y,scoring=\"neg_mean_absolute_error\")\n",
    "mae_mean = np.mean(c_v_s)\n",
    "mae_mean"
   ]
  },
  {
   "cell_type": "code",
   "execution_count": 102,
   "id": "b0f9713a",
   "metadata": {},
   "outputs": [
    {
     "data": {
      "text/plain": [
       "-0.42944808132047496"
      ]
     },
     "execution_count": 102,
     "metadata": {},
     "output_type": "execute_result"
    }
   ],
   "source": [
    "c_v_s = cross_val_score(model,x,y,scoring=\"neg_mean_squared_error\")\n",
    "mse_mean = np.mean(c_v_s)\n",
    "mse_mean"
   ]
  },
  {
   "cell_type": "code",
   "execution_count": 103,
   "id": "273d98f7",
   "metadata": {},
   "outputs": [
    {
     "data": {
      "text/plain": [
       "0.8360655737704918"
      ]
     },
     "execution_count": 103,
     "metadata": {},
     "output_type": "execute_result"
    }
   ],
   "source": [
    "from sklearn.metrics import accuracy_score,precision_score,f1_score,recall_score\n",
    "from sklearn.ensemble import RandomForestClassifier\n",
    "from sklearn.model_selection import train_test_split\n",
    "\n",
    "x = heart_disease.drop(\"target\",axis=1)\n",
    "y = heart_disease[\"target\"]\n",
    "\n",
    "x_train,x_test,y_train,y_test = train_test_split(x,y,test_size=0.2)\n",
    "\n",
    "c_model = RandomForestClassifier()\n",
    "\n",
    "c_model.fit(x_train,y_train)\n",
    "\n",
    "y_pred = c_model.predict(x_test)\n",
    "\n",
    "c_model.score(x_test,y_test)"
   ]
  },
  {
   "cell_type": "code",
   "execution_count": 104,
   "id": "d1f0bebb",
   "metadata": {},
   "outputs": [],
   "source": [
    "a_s = accuracy_score(y_test,y_pred)\n",
    "p_s = precision_score(y_test,y_pred)\n",
    "f1_s = f1_score(y_test,y_pred)\n",
    "r_s = recall_score(y_test,y_pred)"
   ]
  },
  {
   "cell_type": "code",
   "execution_count": 105,
   "id": "1e3a676e",
   "metadata": {},
   "outputs": [
    {
     "data": {
      "text/plain": [
       "(0.8360655737704918, 0.8181818181818182, 0.84375, 0.8709677419354839)"
      ]
     },
     "execution_count": 105,
     "metadata": {},
     "output_type": "execute_result"
    }
   ],
   "source": [
    "a_s,p_s,f1_s,r_s"
   ]
  },
  {
   "cell_type": "code",
   "execution_count": 106,
   "id": "1f6ea607",
   "metadata": {},
   "outputs": [
    {
     "data": {
      "text/plain": [
       "0.8154979511316025"
      ]
     },
     "execution_count": 106,
     "metadata": {},
     "output_type": "execute_result"
    }
   ],
   "source": [
    "from sklearn.metrics import r2_score,mean_absolute_error,mean_squared_error\n",
    "from sklearn.ensemble import RandomForestRegressor\n",
    "from sklearn.model_selection import train_test_split\n",
    "from sklearn.preprocessing import OneHotEncoder\n",
    "\n",
    "x = housing_df.drop(\"target\",axis=1)\n",
    "y = housing_df[\"target\"]\n",
    "\n",
    "x_train,x_test,y_train,y_test = train_test_split(x,y,test_size=0.2)\n",
    "\n",
    "r_model = RandomForestRegressor()\n",
    "\n",
    "r_model.fit(x_train,y_train)\n",
    "\n",
    "y_pred = r_model.predict(x_test)\n",
    "\n",
    "r_model.score(x_test,y_test)"
   ]
  },
  {
   "cell_type": "code",
   "execution_count": 107,
   "id": "7d485f3a",
   "metadata": {},
   "outputs": [
    {
     "data": {
      "text/plain": [
       "0.8154979511316025"
      ]
     },
     "execution_count": 107,
     "metadata": {},
     "output_type": "execute_result"
    }
   ],
   "source": [
    "r_s = r2_score(y_test,y_pred)\n",
    "r_s"
   ]
  },
  {
   "cell_type": "code",
   "execution_count": 108,
   "id": "972657ef",
   "metadata": {},
   "outputs": [
    {
     "data": {
      "text/plain": [
       "0.32134138502906995"
      ]
     },
     "execution_count": 108,
     "metadata": {},
     "output_type": "execute_result"
    }
   ],
   "source": [
    "mae = mean_absolute_error(y_test,y_pred)\n",
    "mae"
   ]
  },
  {
   "cell_type": "code",
   "execution_count": 109,
   "id": "806d22b7",
   "metadata": {},
   "outputs": [
    {
     "data": {
      "text/plain": [
       "0.2373158100063297"
      ]
     },
     "execution_count": 109,
     "metadata": {},
     "output_type": "execute_result"
    }
   ],
   "source": [
    "mse = mean_squared_error(y_test,y_pred)\n",
    "mse"
   ]
  },
  {
   "cell_type": "markdown",
   "id": "27c7fe87",
   "metadata": {},
   "source": [
    "# Creating baseline model "
   ]
  },
  {
   "cell_type": "code",
   "execution_count": 110,
   "id": "cc7dfb94",
   "metadata": {},
   "outputs": [],
   "source": [
    "def evaluate_preds(y_true,y_pred):\n",
    "    a = accuracy_score(y_true,y_pred)\n",
    "    f_s = f1_score(y_true,y_pred)\n",
    "    p_s = precision_score(y_true,y_pred)\n",
    "    r_s = recall_score(y_true,y_pred)\n",
    "    \n",
    "    dict = {\"Accuracy\":round(a,2),\n",
    "           \"f1_score\":round(f_s,2),\n",
    "           \"precision_score\":round(p_s,2),\n",
    "           \"recall_score\":round(r_s,2)}\n",
    "    \n",
    "    print(f\"accuracy:{a*100:.2f}%\")\n",
    "    print(f\"f1_score:{f_s}\")\n",
    "    print(f\"percision_score{p_s}\")\n",
    "    print(f\"recall_score{r_s}\")\n",
    "    \n",
    "    return dict"
   ]
  },
  {
   "cell_type": "code",
   "execution_count": 114,
   "id": "ab61fd65",
   "metadata": {},
   "outputs": [
    {
     "data": {
      "text/plain": [
       "0.8222222222222222"
      ]
     },
     "execution_count": 114,
     "metadata": {},
     "output_type": "execute_result"
    }
   ],
   "source": [
    "heart_disease_shuffled = heart_disease.sample(frac=1)\n",
    "\n",
    "x = heart_disease_shuffled.drop(\"target\",axis=1)\n",
    "y = heart_disease_shuffled[\"target\"]\n",
    "\n",
    "train_split = round(0.7*len(x))\n",
    "val_split = round(train_split+0.15*len(x))\n",
    "\n",
    "x_train,y_train = x[:train_split],y[:train_split]\n",
    "x_val,y_val = x[train_split:val_split],y[train_split:val_split]\n",
    "x_test,y_test = x[val_split:],y[val_split:]\n",
    "\n",
    "from sklearn.ensemble import RandomForestClassifier\n",
    "\n",
    "model = RandomForestClassifier()\n",
    "\n",
    "model.fit(x_train,y_train)\n",
    "\n",
    "y_pred = model.predict(x_val)\n",
    "\n",
    "model.score(x_val,y_val)\n"
   ]
  },
  {
   "cell_type": "code",
   "execution_count": 115,
   "id": "b66d1025",
   "metadata": {},
   "outputs": [
    {
     "name": "stdout",
     "output_type": "stream",
     "text": [
      "accuracy:82.22%\n",
      "f1_score:0.8518518518518519\n",
      "percision_score0.8518518518518519\n",
      "recall_score0.8518518518518519\n"
     ]
    }
   ],
   "source": [
    "b_e=evaluate_preds(y_val,y_pred)"
   ]
  },
  {
   "cell_type": "code",
   "execution_count": 116,
   "id": "b9ce1a10",
   "metadata": {},
   "outputs": [
    {
     "data": {
      "text/plain": [
       "{'bootstrap': True,\n",
       " 'ccp_alpha': 0.0,\n",
       " 'class_weight': None,\n",
       " 'criterion': 'gini',\n",
       " 'max_depth': None,\n",
       " 'max_features': 'auto',\n",
       " 'max_leaf_nodes': None,\n",
       " 'max_samples': None,\n",
       " 'min_impurity_decrease': 0.0,\n",
       " 'min_samples_leaf': 1,\n",
       " 'min_samples_split': 2,\n",
       " 'min_weight_fraction_leaf': 0.0,\n",
       " 'n_estimators': 100,\n",
       " 'n_jobs': None,\n",
       " 'oob_score': False,\n",
       " 'random_state': None,\n",
       " 'verbose': 0,\n",
       " 'warm_start': False}"
      ]
     },
     "execution_count": 116,
     "metadata": {},
     "output_type": "execute_result"
    }
   ],
   "source": [
    "model.get_params()"
   ]
  },
  {
   "cell_type": "code",
   "execution_count": 117,
   "id": "340cdce3",
   "metadata": {},
   "outputs": [
    {
     "name": "stdout",
     "output_type": "stream",
     "text": [
      "Fitting 5 folds for each of 10 candidates, totalling 50 fits\n",
      "[CV] END max_depth=None, max_features=auto, min_samples_leaf=1, min_samples_split=4, n_estimators=200; total time=   0.2s\n",
      "[CV] END max_depth=None, max_features=auto, min_samples_leaf=1, min_samples_split=4, n_estimators=200; total time=   0.2s\n",
      "[CV] END max_depth=None, max_features=auto, min_samples_leaf=1, min_samples_split=4, n_estimators=200; total time=   0.2s\n",
      "[CV] END max_depth=None, max_features=auto, min_samples_leaf=1, min_samples_split=4, n_estimators=200; total time=   0.2s\n",
      "[CV] END max_depth=None, max_features=auto, min_samples_leaf=1, min_samples_split=4, n_estimators=200; total time=   0.2s\n",
      "[CV] END max_depth=10, max_features=auto, min_samples_leaf=4, min_samples_split=2, n_estimators=100; total time=   0.0s\n",
      "[CV] END max_depth=10, max_features=auto, min_samples_leaf=4, min_samples_split=2, n_estimators=100; total time=   0.0s\n",
      "[CV] END max_depth=10, max_features=auto, min_samples_leaf=4, min_samples_split=2, n_estimators=100; total time=   0.0s\n",
      "[CV] END max_depth=10, max_features=auto, min_samples_leaf=4, min_samples_split=2, n_estimators=100; total time=   0.0s\n",
      "[CV] END max_depth=10, max_features=auto, min_samples_leaf=4, min_samples_split=2, n_estimators=100; total time=   0.0s\n",
      "[CV] END max_depth=None, max_features=sqrt, min_samples_leaf=2, min_samples_split=6, n_estimators=100; total time=   0.0s\n",
      "[CV] END max_depth=None, max_features=sqrt, min_samples_leaf=2, min_samples_split=6, n_estimators=100; total time=   0.0s\n",
      "[CV] END max_depth=None, max_features=sqrt, min_samples_leaf=2, min_samples_split=6, n_estimators=100; total time=   0.0s\n",
      "[CV] END max_depth=None, max_features=sqrt, min_samples_leaf=2, min_samples_split=6, n_estimators=100; total time=   0.0s\n",
      "[CV] END max_depth=None, max_features=sqrt, min_samples_leaf=2, min_samples_split=6, n_estimators=100; total time=   0.0s\n",
      "[CV] END max_depth=20, max_features=sqrt, min_samples_leaf=2, min_samples_split=4, n_estimators=1000; total time=   1.2s\n",
      "[CV] END max_depth=20, max_features=sqrt, min_samples_leaf=2, min_samples_split=4, n_estimators=1000; total time=   1.1s\n",
      "[CV] END max_depth=20, max_features=sqrt, min_samples_leaf=2, min_samples_split=4, n_estimators=1000; total time=   1.3s\n",
      "[CV] END max_depth=20, max_features=sqrt, min_samples_leaf=2, min_samples_split=4, n_estimators=1000; total time=   1.3s\n",
      "[CV] END max_depth=20, max_features=sqrt, min_samples_leaf=2, min_samples_split=4, n_estimators=1000; total time=   1.3s\n",
      "[CV] END max_depth=None, max_features=auto, min_samples_leaf=1, min_samples_split=6, n_estimators=200; total time=   0.2s\n",
      "[CV] END max_depth=None, max_features=auto, min_samples_leaf=1, min_samples_split=6, n_estimators=200; total time=   0.2s\n",
      "[CV] END max_depth=None, max_features=auto, min_samples_leaf=1, min_samples_split=6, n_estimators=200; total time=   0.2s\n",
      "[CV] END max_depth=None, max_features=auto, min_samples_leaf=1, min_samples_split=6, n_estimators=200; total time=   0.2s\n",
      "[CV] END max_depth=None, max_features=auto, min_samples_leaf=1, min_samples_split=6, n_estimators=200; total time=   0.2s\n",
      "[CV] END max_depth=30, max_features=auto, min_samples_leaf=1, min_samples_split=4, n_estimators=100; total time=   0.0s\n",
      "[CV] END max_depth=30, max_features=auto, min_samples_leaf=1, min_samples_split=4, n_estimators=100; total time=   0.1s\n",
      "[CV] END max_depth=30, max_features=auto, min_samples_leaf=1, min_samples_split=4, n_estimators=100; total time=   0.0s\n",
      "[CV] END max_depth=30, max_features=auto, min_samples_leaf=1, min_samples_split=4, n_estimators=100; total time=   0.0s\n",
      "[CV] END max_depth=30, max_features=auto, min_samples_leaf=1, min_samples_split=4, n_estimators=100; total time=   0.1s\n",
      "[CV] END max_depth=None, max_features=auto, min_samples_leaf=1, min_samples_split=4, n_estimators=1200; total time=   1.6s\n",
      "[CV] END max_depth=None, max_features=auto, min_samples_leaf=1, min_samples_split=4, n_estimators=1200; total time=   1.6s\n",
      "[CV] END max_depth=None, max_features=auto, min_samples_leaf=1, min_samples_split=4, n_estimators=1200; total time=   1.6s\n",
      "[CV] END max_depth=None, max_features=auto, min_samples_leaf=1, min_samples_split=4, n_estimators=1200; total time=   1.3s\n",
      "[CV] END max_depth=None, max_features=auto, min_samples_leaf=1, min_samples_split=4, n_estimators=1200; total time=   1.4s\n",
      "[CV] END max_depth=30, max_features=auto, min_samples_leaf=2, min_samples_split=2, n_estimators=1000; total time=   1.0s\n",
      "[CV] END max_depth=30, max_features=auto, min_samples_leaf=2, min_samples_split=2, n_estimators=1000; total time=   1.2s\n",
      "[CV] END max_depth=30, max_features=auto, min_samples_leaf=2, min_samples_split=2, n_estimators=1000; total time=   1.1s\n",
      "[CV] END max_depth=30, max_features=auto, min_samples_leaf=2, min_samples_split=2, n_estimators=1000; total time=   1.2s\n",
      "[CV] END max_depth=30, max_features=auto, min_samples_leaf=2, min_samples_split=2, n_estimators=1000; total time=   1.1s\n",
      "[CV] END max_depth=5, max_features=auto, min_samples_leaf=2, min_samples_split=6, n_estimators=1200; total time=   1.4s\n",
      "[CV] END max_depth=5, max_features=auto, min_samples_leaf=2, min_samples_split=6, n_estimators=1200; total time=   1.5s\n",
      "[CV] END max_depth=5, max_features=auto, min_samples_leaf=2, min_samples_split=6, n_estimators=1200; total time=   1.5s\n",
      "[CV] END max_depth=5, max_features=auto, min_samples_leaf=2, min_samples_split=6, n_estimators=1200; total time=   1.6s\n",
      "[CV] END max_depth=5, max_features=auto, min_samples_leaf=2, min_samples_split=6, n_estimators=1200; total time=   1.5s\n",
      "[CV] END max_depth=30, max_features=sqrt, min_samples_leaf=4, min_samples_split=2, n_estimators=10; total time=   0.0s\n",
      "[CV] END max_depth=30, max_features=sqrt, min_samples_leaf=4, min_samples_split=2, n_estimators=10; total time=   0.0s\n",
      "[CV] END max_depth=30, max_features=sqrt, min_samples_leaf=4, min_samples_split=2, n_estimators=10; total time=   0.0s\n",
      "[CV] END max_depth=30, max_features=sqrt, min_samples_leaf=4, min_samples_split=2, n_estimators=10; total time=   0.0s\n",
      "[CV] END max_depth=30, max_features=sqrt, min_samples_leaf=4, min_samples_split=2, n_estimators=10; total time=   0.0s\n"
     ]
    },
    {
     "data": {
      "text/plain": [
       "RandomizedSearchCV(cv=5, estimator=RandomForestClassifier(n_jobs=1),\n",
       "                   param_distributions={'max_depth': [None, 5, 10, 20, 30],\n",
       "                                        'max_features': ['auto', 'sqrt'],\n",
       "                                        'min_samples_leaf': [1, 2, 4],\n",
       "                                        'min_samples_split': [2, 4, 6],\n",
       "                                        'n_estimators': [10, 100, 200, 500,\n",
       "                                                         1000, 1200]},\n",
       "                   verbose=2)"
      ]
     },
     "execution_count": 117,
     "metadata": {},
     "output_type": "execute_result"
    }
   ],
   "source": [
    "np.random.seed(0)\n",
    "\n",
    "x_train,x_test,y_train,y_test = train_test_split(x,y,test_size=0.2)\n",
    "\n",
    "model_1 = RandomForestClassifier(n_jobs=1)\n",
    "\n",
    "from sklearn.model_selection import RandomizedSearchCV\n",
    "\n",
    "p_dict = {\"n_estimators\":[10,100,200,500,1000,1200],\n",
    "         \"max_depth\":[None,5,10,20,30],\n",
    "         \"max_features\":[\"auto\",\"sqrt\"],\n",
    "         \"min_samples_split\":[2,4,6],\n",
    "         \"min_samples_leaf\":[1,2,4]}\n",
    "\n",
    "\n",
    "rsc = RandomizedSearchCV(estimator=model_1,verbose=2,cv=5,n_iter=10,param_distributions=p_dict)\n",
    "\n",
    "rsc.fit(x_train,y_train)"
   ]
  },
  {
   "cell_type": "code",
   "execution_count": 118,
   "id": "c3fa6d27",
   "metadata": {},
   "outputs": [
    {
     "data": {
      "text/plain": [
       "{'n_estimators': 100,\n",
       " 'min_samples_split': 6,\n",
       " 'min_samples_leaf': 2,\n",
       " 'max_features': 'sqrt',\n",
       " 'max_depth': None}"
      ]
     },
     "execution_count": 118,
     "metadata": {},
     "output_type": "execute_result"
    }
   ],
   "source": [
    "rsc.best_params_"
   ]
  },
  {
   "cell_type": "code",
   "execution_count": 119,
   "id": "f3704b86",
   "metadata": {},
   "outputs": [
    {
     "name": "stdout",
     "output_type": "stream",
     "text": [
      "accuracy:80.33%\n",
      "f1_score:0.8125\n",
      "percision_score0.7647058823529411\n",
      "recall_score0.8666666666666667\n"
     ]
    }
   ],
   "source": [
    "r_pred = rsc.predict(x_test)\n",
    "r_e=evaluate_preds(y_test,r_pred)"
   ]
  },
  {
   "cell_type": "code",
   "execution_count": 120,
   "id": "058e8226",
   "metadata": {},
   "outputs": [
    {
     "name": "stdout",
     "output_type": "stream",
     "text": [
      "Fitting 5 folds for each of 18 candidates, totalling 90 fits\n",
      "[CV] END max_depth=None, max_features=auto, min_samples_leaf=4, min_samples_split=2, n_estimators=100; total time=   0.1s\n",
      "[CV] END max_depth=None, max_features=auto, min_samples_leaf=4, min_samples_split=2, n_estimators=100; total time=   0.0s\n",
      "[CV] END max_depth=None, max_features=auto, min_samples_leaf=4, min_samples_split=2, n_estimators=100; total time=   0.0s\n",
      "[CV] END max_depth=None, max_features=auto, min_samples_leaf=4, min_samples_split=2, n_estimators=100; total time=   0.1s\n",
      "[CV] END max_depth=None, max_features=auto, min_samples_leaf=4, min_samples_split=2, n_estimators=100; total time=   0.1s\n",
      "[CV] END max_depth=None, max_features=auto, min_samples_leaf=4, min_samples_split=2, n_estimators=200; total time=   0.2s\n",
      "[CV] END max_depth=None, max_features=auto, min_samples_leaf=4, min_samples_split=2, n_estimators=200; total time=   0.2s\n",
      "[CV] END max_depth=None, max_features=auto, min_samples_leaf=4, min_samples_split=2, n_estimators=200; total time=   0.2s\n",
      "[CV] END max_depth=None, max_features=auto, min_samples_leaf=4, min_samples_split=2, n_estimators=200; total time=   0.2s\n",
      "[CV] END max_depth=None, max_features=auto, min_samples_leaf=4, min_samples_split=2, n_estimators=200; total time=   0.2s\n",
      "[CV] END max_depth=None, max_features=auto, min_samples_leaf=4, min_samples_split=2, n_estimators=500; total time=   0.5s\n",
      "[CV] END max_depth=None, max_features=auto, min_samples_leaf=4, min_samples_split=2, n_estimators=500; total time=   0.6s\n",
      "[CV] END max_depth=None, max_features=auto, min_samples_leaf=4, min_samples_split=2, n_estimators=500; total time=   0.6s\n",
      "[CV] END max_depth=None, max_features=auto, min_samples_leaf=4, min_samples_split=2, n_estimators=500; total time=   0.5s\n",
      "[CV] END max_depth=None, max_features=auto, min_samples_leaf=4, min_samples_split=2, n_estimators=500; total time=   0.5s\n",
      "[CV] END max_depth=None, max_features=sqrt, min_samples_leaf=4, min_samples_split=2, n_estimators=100; total time=   0.0s\n",
      "[CV] END max_depth=None, max_features=sqrt, min_samples_leaf=4, min_samples_split=2, n_estimators=100; total time=   0.0s\n",
      "[CV] END max_depth=None, max_features=sqrt, min_samples_leaf=4, min_samples_split=2, n_estimators=100; total time=   0.0s\n",
      "[CV] END max_depth=None, max_features=sqrt, min_samples_leaf=4, min_samples_split=2, n_estimators=100; total time=   0.0s\n",
      "[CV] END max_depth=None, max_features=sqrt, min_samples_leaf=4, min_samples_split=2, n_estimators=100; total time=   0.0s\n",
      "[CV] END max_depth=None, max_features=sqrt, min_samples_leaf=4, min_samples_split=2, n_estimators=200; total time=   0.1s\n",
      "[CV] END max_depth=None, max_features=sqrt, min_samples_leaf=4, min_samples_split=2, n_estimators=200; total time=   0.1s\n",
      "[CV] END max_depth=None, max_features=sqrt, min_samples_leaf=4, min_samples_split=2, n_estimators=200; total time=   0.1s\n",
      "[CV] END max_depth=None, max_features=sqrt, min_samples_leaf=4, min_samples_split=2, n_estimators=200; total time=   0.1s\n",
      "[CV] END max_depth=None, max_features=sqrt, min_samples_leaf=4, min_samples_split=2, n_estimators=200; total time=   0.1s\n",
      "[CV] END max_depth=None, max_features=sqrt, min_samples_leaf=4, min_samples_split=2, n_estimators=500; total time=   0.5s\n",
      "[CV] END max_depth=None, max_features=sqrt, min_samples_leaf=4, min_samples_split=2, n_estimators=500; total time=   0.5s\n",
      "[CV] END max_depth=None, max_features=sqrt, min_samples_leaf=4, min_samples_split=2, n_estimators=500; total time=   0.5s\n",
      "[CV] END max_depth=None, max_features=sqrt, min_samples_leaf=4, min_samples_split=2, n_estimators=500; total time=   0.5s\n",
      "[CV] END max_depth=None, max_features=sqrt, min_samples_leaf=4, min_samples_split=2, n_estimators=500; total time=   0.5s\n",
      "[CV] END max_depth=10, max_features=auto, min_samples_leaf=4, min_samples_split=2, n_estimators=100; total time=   0.0s\n",
      "[CV] END max_depth=10, max_features=auto, min_samples_leaf=4, min_samples_split=2, n_estimators=100; total time=   0.0s\n",
      "[CV] END max_depth=10, max_features=auto, min_samples_leaf=4, min_samples_split=2, n_estimators=100; total time=   0.0s\n",
      "[CV] END max_depth=10, max_features=auto, min_samples_leaf=4, min_samples_split=2, n_estimators=100; total time=   0.0s\n",
      "[CV] END max_depth=10, max_features=auto, min_samples_leaf=4, min_samples_split=2, n_estimators=100; total time=   0.0s\n",
      "[CV] END max_depth=10, max_features=auto, min_samples_leaf=4, min_samples_split=2, n_estimators=200; total time=   0.1s\n",
      "[CV] END max_depth=10, max_features=auto, min_samples_leaf=4, min_samples_split=2, n_estimators=200; total time=   0.2s\n",
      "[CV] END max_depth=10, max_features=auto, min_samples_leaf=4, min_samples_split=2, n_estimators=200; total time=   0.2s\n",
      "[CV] END max_depth=10, max_features=auto, min_samples_leaf=4, min_samples_split=2, n_estimators=200; total time=   0.2s\n",
      "[CV] END max_depth=10, max_features=auto, min_samples_leaf=4, min_samples_split=2, n_estimators=200; total time=   0.1s\n",
      "[CV] END max_depth=10, max_features=auto, min_samples_leaf=4, min_samples_split=2, n_estimators=500; total time=   0.5s\n",
      "[CV] END max_depth=10, max_features=auto, min_samples_leaf=4, min_samples_split=2, n_estimators=500; total time=   0.5s\n",
      "[CV] END max_depth=10, max_features=auto, min_samples_leaf=4, min_samples_split=2, n_estimators=500; total time=   0.5s\n",
      "[CV] END max_depth=10, max_features=auto, min_samples_leaf=4, min_samples_split=2, n_estimators=500; total time=   0.5s\n",
      "[CV] END max_depth=10, max_features=auto, min_samples_leaf=4, min_samples_split=2, n_estimators=500; total time=   0.5s\n",
      "[CV] END max_depth=10, max_features=sqrt, min_samples_leaf=4, min_samples_split=2, n_estimators=100; total time=   0.0s\n",
      "[CV] END max_depth=10, max_features=sqrt, min_samples_leaf=4, min_samples_split=2, n_estimators=100; total time=   0.0s\n",
      "[CV] END max_depth=10, max_features=sqrt, min_samples_leaf=4, min_samples_split=2, n_estimators=100; total time=   0.0s\n",
      "[CV] END max_depth=10, max_features=sqrt, min_samples_leaf=4, min_samples_split=2, n_estimators=100; total time=   0.0s\n",
      "[CV] END max_depth=10, max_features=sqrt, min_samples_leaf=4, min_samples_split=2, n_estimators=100; total time=   0.0s\n",
      "[CV] END max_depth=10, max_features=sqrt, min_samples_leaf=4, min_samples_split=2, n_estimators=200; total time=   0.2s\n",
      "[CV] END max_depth=10, max_features=sqrt, min_samples_leaf=4, min_samples_split=2, n_estimators=200; total time=   0.1s\n",
      "[CV] END max_depth=10, max_features=sqrt, min_samples_leaf=4, min_samples_split=2, n_estimators=200; total time=   0.1s\n",
      "[CV] END max_depth=10, max_features=sqrt, min_samples_leaf=4, min_samples_split=2, n_estimators=200; total time=   0.1s\n",
      "[CV] END max_depth=10, max_features=sqrt, min_samples_leaf=4, min_samples_split=2, n_estimators=200; total time=   0.1s\n",
      "[CV] END max_depth=10, max_features=sqrt, min_samples_leaf=4, min_samples_split=2, n_estimators=500; total time=   0.5s\n",
      "[CV] END max_depth=10, max_features=sqrt, min_samples_leaf=4, min_samples_split=2, n_estimators=500; total time=   0.5s\n",
      "[CV] END max_depth=10, max_features=sqrt, min_samples_leaf=4, min_samples_split=2, n_estimators=500; total time=   0.5s\n",
      "[CV] END max_depth=10, max_features=sqrt, min_samples_leaf=4, min_samples_split=2, n_estimators=500; total time=   0.5s\n",
      "[CV] END max_depth=10, max_features=sqrt, min_samples_leaf=4, min_samples_split=2, n_estimators=500; total time=   0.6s\n",
      "[CV] END max_depth=30, max_features=auto, min_samples_leaf=4, min_samples_split=2, n_estimators=100; total time=   0.0s\n",
      "[CV] END max_depth=30, max_features=auto, min_samples_leaf=4, min_samples_split=2, n_estimators=100; total time=   0.0s\n",
      "[CV] END max_depth=30, max_features=auto, min_samples_leaf=4, min_samples_split=2, n_estimators=100; total time=   0.0s\n",
      "[CV] END max_depth=30, max_features=auto, min_samples_leaf=4, min_samples_split=2, n_estimators=100; total time=   0.0s\n",
      "[CV] END max_depth=30, max_features=auto, min_samples_leaf=4, min_samples_split=2, n_estimators=100; total time=   0.0s\n",
      "[CV] END max_depth=30, max_features=auto, min_samples_leaf=4, min_samples_split=2, n_estimators=200; total time=   0.1s\n",
      "[CV] END max_depth=30, max_features=auto, min_samples_leaf=4, min_samples_split=2, n_estimators=200; total time=   0.2s\n",
      "[CV] END max_depth=30, max_features=auto, min_samples_leaf=4, min_samples_split=2, n_estimators=200; total time=   0.1s\n"
     ]
    },
    {
     "name": "stdout",
     "output_type": "stream",
     "text": [
      "[CV] END max_depth=30, max_features=auto, min_samples_leaf=4, min_samples_split=2, n_estimators=200; total time=   0.1s\n",
      "[CV] END max_depth=30, max_features=auto, min_samples_leaf=4, min_samples_split=2, n_estimators=200; total time=   0.2s\n",
      "[CV] END max_depth=30, max_features=auto, min_samples_leaf=4, min_samples_split=2, n_estimators=500; total time=   0.7s\n",
      "[CV] END max_depth=30, max_features=auto, min_samples_leaf=4, min_samples_split=2, n_estimators=500; total time=   0.5s\n",
      "[CV] END max_depth=30, max_features=auto, min_samples_leaf=4, min_samples_split=2, n_estimators=500; total time=   0.5s\n",
      "[CV] END max_depth=30, max_features=auto, min_samples_leaf=4, min_samples_split=2, n_estimators=500; total time=   0.5s\n",
      "[CV] END max_depth=30, max_features=auto, min_samples_leaf=4, min_samples_split=2, n_estimators=500; total time=   0.5s\n",
      "[CV] END max_depth=30, max_features=sqrt, min_samples_leaf=4, min_samples_split=2, n_estimators=100; total time=   0.0s\n",
      "[CV] END max_depth=30, max_features=sqrt, min_samples_leaf=4, min_samples_split=2, n_estimators=100; total time=   0.0s\n",
      "[CV] END max_depth=30, max_features=sqrt, min_samples_leaf=4, min_samples_split=2, n_estimators=100; total time=   0.0s\n",
      "[CV] END max_depth=30, max_features=sqrt, min_samples_leaf=4, min_samples_split=2, n_estimators=100; total time=   0.0s\n",
      "[CV] END max_depth=30, max_features=sqrt, min_samples_leaf=4, min_samples_split=2, n_estimators=100; total time=   0.0s\n",
      "[CV] END max_depth=30, max_features=sqrt, min_samples_leaf=4, min_samples_split=2, n_estimators=200; total time=   0.1s\n",
      "[CV] END max_depth=30, max_features=sqrt, min_samples_leaf=4, min_samples_split=2, n_estimators=200; total time=   0.1s\n",
      "[CV] END max_depth=30, max_features=sqrt, min_samples_leaf=4, min_samples_split=2, n_estimators=200; total time=   0.1s\n",
      "[CV] END max_depth=30, max_features=sqrt, min_samples_leaf=4, min_samples_split=2, n_estimators=200; total time=   0.1s\n",
      "[CV] END max_depth=30, max_features=sqrt, min_samples_leaf=4, min_samples_split=2, n_estimators=200; total time=   0.1s\n",
      "[CV] END max_depth=30, max_features=sqrt, min_samples_leaf=4, min_samples_split=2, n_estimators=500; total time=   0.5s\n",
      "[CV] END max_depth=30, max_features=sqrt, min_samples_leaf=4, min_samples_split=2, n_estimators=500; total time=   0.5s\n",
      "[CV] END max_depth=30, max_features=sqrt, min_samples_leaf=4, min_samples_split=2, n_estimators=500; total time=   0.5s\n",
      "[CV] END max_depth=30, max_features=sqrt, min_samples_leaf=4, min_samples_split=2, n_estimators=500; total time=   0.5s\n",
      "[CV] END max_depth=30, max_features=sqrt, min_samples_leaf=4, min_samples_split=2, n_estimators=500; total time=   0.5s\n",
      "accuracy:80.33%\n",
      "f1_score:0.8125\n",
      "percision_score0.7647058823529411\n",
      "recall_score0.8666666666666667\n"
     ]
    }
   ],
   "source": [
    "np.random.seed(0)\n",
    "\n",
    "x_train,x_test,y_train,y_test = train_test_split(x,y,test_size=0.2)\n",
    "\n",
    "model_1 = RandomForestClassifier(n_jobs=1)\n",
    "\n",
    "from sklearn.model_selection import GridSearchCV\n",
    "\n",
    "g_dict = {\"n_estimators\":[100,200,500],\n",
    "         \"max_depth\":[None,10,30],\n",
    "         \"max_features\":[\"auto\",\"sqrt\"],\n",
    "         \"min_samples_split\":[2],\n",
    "         \"min_samples_leaf\":[4]}\n",
    "\n",
    "\n",
    "gsc = GridSearchCV(estimator=model_1,verbose=2,cv=5,param_grid=g_dict)\n",
    "\n",
    "gsc.fit(x_train,y_train)\n",
    "\n",
    "g_pred = gsc.predict(x_test)\n",
    "\n",
    "g_e=evaluate_preds(y_test,g_pred)"
   ]
  },
  {
   "cell_type": "code",
   "execution_count": 121,
   "id": "16a1e604",
   "metadata": {},
   "outputs": [
    {
     "data": {
      "text/plain": [
       "{'max_depth': None,\n",
       " 'max_features': 'sqrt',\n",
       " 'min_samples_leaf': 4,\n",
       " 'min_samples_split': 2,\n",
       " 'n_estimators': 200}"
      ]
     },
     "execution_count": 121,
     "metadata": {},
     "output_type": "execute_result"
    }
   ],
   "source": [
    "gsc.best_params_"
   ]
  },
  {
   "cell_type": "code",
   "execution_count": 122,
   "id": "fc00ad01",
   "metadata": {},
   "outputs": [
    {
     "data": {
      "text/plain": [
       "<AxesSubplot:>"
      ]
     },
     "execution_count": 122,
     "metadata": {},
     "output_type": "execute_result"
    },
    {
     "data": {
      "image/png": "[encoded data removed]",
      "text/plain": [
       "<Figure size 720x504 with 1 Axes>"
      ]
     },
     "metadata": {},
     "output_type": "display_data"
    }
   ],
   "source": [
    "final_results = pd.DataFrame({\"BaseLine\":b_e,\n",
    "                             \"RandommizedSearchModel\":r_e,\n",
    "                             \"GridSearchCVModel\":g_e})\n",
    "final_results.plot.bar(figsize=(10,7))"
   ]
  },
  {
   "cell_type": "markdown",
   "id": "b4549ad5",
   "metadata": {},
   "source": [
    "# Save the model"
   ]
  },
  {
   "cell_type": "code",
   "execution_count": 123,
   "id": "82df0ca2",
   "metadata": {},
   "outputs": [],
   "source": [
    "import pickle\n",
    "pickle.dump(gsc,open(\"GridSearchCrossValidation.pkl\",\"wb\"))#open is for accessing input and output in python.. wb = write binary"
   ]
  },
  {
   "cell_type": "code",
   "execution_count": 124,
   "id": "771b6fbf",
   "metadata": {},
   "outputs": [
    {
     "name": "stdout",
     "output_type": "stream",
     "text": [
      "accuracy:80.33%\n",
      "f1_score:0.8125\n",
      "percision_score0.7647058823529411\n",
      "recall_score0.8666666666666667\n"
     ]
    },
    {
     "data": {
      "text/plain": [
       "{'Accuracy': 0.8,\n",
       " 'f1_score': 0.81,\n",
       " 'precision_score': 0.76,\n",
       " 'recall_score': 0.87}"
      ]
     },
     "execution_count": 124,
     "metadata": {},
     "output_type": "execute_result"
    }
   ],
   "source": [
    "loaded_model = pickle.load(open(\"GridSearchCrossValidation.pkl\",\"rb\"))\n",
    "l_pred = loaded_model.predict(x_test)\n",
    "evaluate_preds(y_test,l_pred)"
   ]
  },
  {
   "cell_type": "code",
   "execution_count": 125,
   "id": "9323f6ed",
   "metadata": {},
   "outputs": [
    {
     "data": {
      "text/plain": [
       "['gsc.joblib']"
      ]
     },
     "execution_count": 125,
     "metadata": {},
     "output_type": "execute_result"
    }
   ],
   "source": [
    "from joblib import dump,load\n",
    "dump(gsc,filename=\"gsc.joblib\")"
   ]
  },
  {
   "cell_type": "code",
   "execution_count": 126,
   "id": "5330c545",
   "metadata": {},
   "outputs": [
    {
     "name": "stdout",
     "output_type": "stream",
     "text": [
      "accuracy:80.33%\n",
      "f1_score:0.8125\n",
      "percision_score0.7647058823529411\n",
      "recall_score0.8666666666666667\n"
     ]
    },
    {
     "data": {
      "text/plain": [
       "{'Accuracy': 0.8,\n",
       " 'f1_score': 0.81,\n",
       " 'precision_score': 0.76,\n",
       " 'recall_score': 0.87}"
      ]
     },
     "execution_count": 126,
     "metadata": {},
     "output_type": "execute_result"
    }
   ],
   "source": [
    "loaded = load(filename=\"gsc.joblib\")\n",
    "\n",
    "p = loaded.predict(x_test)\n",
    "evaluate_preds(y_test,p)"
   ]
  },
  {
   "cell_type": "markdown",
   "id": "98a32d61",
   "metadata": {},
   "source": [
    "# lets put it all together "
   ]
  },
  {
   "cell_type": "code",
   "execution_count": 127,
   "id": "88f934ff",
   "metadata": {},
   "outputs": [
    {
     "data": {
      "text/html": [
       "<div>\n",
       "<style scoped>\n",
       "    .dataframe tbody tr th:only-of-type {\n",
       "        vertical-align: middle;\n",
       "    }\n",
       "\n",
       "    .dataframe tbody tr th {\n",
       "        vertical-align: top;\n",
       "    }\n",
       "\n",
       "    .dataframe thead th {\n",
       "        text-align: right;\n",
       "    }\n",
       "</style>\n",
       "<table border=\"1\" class=\"dataframe\">\n",
       "  <thead>\n",
       "    <tr style=\"text-align: right;\">\n",
       "      <th></th>\n",
       "      <th>Make</th>\n",
       "      <th>Colour</th>\n",
       "      <th>Odometer (KM)</th>\n",
       "      <th>Doors</th>\n",
       "      <th>Price</th>\n",
       "    </tr>\n",
       "  </thead>\n",
       "  <tbody>\n",
       "    <tr>\n",
       "      <th>0</th>\n",
       "      <td>Honda</td>\n",
       "      <td>White</td>\n",
       "      <td>35431.0</td>\n",
       "      <td>4.0</td>\n",
       "      <td>15323.0</td>\n",
       "    </tr>\n",
       "    <tr>\n",
       "      <th>1</th>\n",
       "      <td>BMW</td>\n",
       "      <td>Blue</td>\n",
       "      <td>192714.0</td>\n",
       "      <td>5.0</td>\n",
       "      <td>19943.0</td>\n",
       "    </tr>\n",
       "    <tr>\n",
       "      <th>2</th>\n",
       "      <td>Honda</td>\n",
       "      <td>White</td>\n",
       "      <td>84714.0</td>\n",
       "      <td>4.0</td>\n",
       "      <td>28343.0</td>\n",
       "    </tr>\n",
       "    <tr>\n",
       "      <th>3</th>\n",
       "      <td>Toyota</td>\n",
       "      <td>White</td>\n",
       "      <td>154365.0</td>\n",
       "      <td>4.0</td>\n",
       "      <td>13434.0</td>\n",
       "    </tr>\n",
       "    <tr>\n",
       "      <th>4</th>\n",
       "      <td>Nissan</td>\n",
       "      <td>Blue</td>\n",
       "      <td>181577.0</td>\n",
       "      <td>3.0</td>\n",
       "      <td>14043.0</td>\n",
       "    </tr>\n",
       "  </tbody>\n",
       "</table>\n",
       "</div>"
      ],
      "text/plain": [
       "     Make Colour  Odometer (KM)  Doors    Price\n",
       "0   Honda  White        35431.0    4.0  15323.0\n",
       "1     BMW   Blue       192714.0    5.0  19943.0\n",
       "2   Honda  White        84714.0    4.0  28343.0\n",
       "3  Toyota  White       154365.0    4.0  13434.0\n",
       "4  Nissan   Blue       181577.0    3.0  14043.0"
      ]
     },
     "execution_count": 127,
     "metadata": {},
     "output_type": "execute_result"
    }
   ],
   "source": [
    "data = pd.read_csv(\"car-sales-extended-missing-data.csv\")\n",
    "data.head()"
   ]
  },
  {
   "cell_type": "code",
   "execution_count": 128,
   "id": "0e5c4519",
   "metadata": {},
   "outputs": [
    {
     "data": {
      "text/plain": [
       "Make             49\n",
       "Colour           50\n",
       "Odometer (KM)    50\n",
       "Doors            50\n",
       "Price            50\n",
       "dtype: int64"
      ]
     },
     "execution_count": 128,
     "metadata": {},
     "output_type": "execute_result"
    }
   ],
   "source": [
    "data.isna().sum()"
   ]
  },
  {
   "cell_type": "code",
   "execution_count": 136,
   "id": "c6a4bc8c",
   "metadata": {},
   "outputs": [
    {
     "data": {
      "text/plain": [
       "0.1414578719966869"
      ]
     },
     "execution_count": 136,
     "metadata": {},
     "output_type": "execute_result"
    }
   ],
   "source": [
    "#Getting For Preprocessings\n",
    "import pandas as pd\n",
    "from sklearn.pipeline import Pipeline\n",
    "from sklearn.model_selection import train_test_split\n",
    "from sklearn.impute import SimpleImputer\n",
    "from sklearn.preprocessing import OneHotEncoder\n",
    "from sklearn.compose import ColumnTransformer\n",
    "\n",
    "#Getting for model\n",
    "from sklearn.ensemble import RandomForestRegressor\n",
    "\n",
    "#importing the data droping the price nan values\n",
    "data = pd.read_csv(\"car-sales-extended-missing-data.csv\")\n",
    "data.dropna(subset=[\"Price\"], inplace = True)\n",
    "# data.isna().sum()\n",
    "\n",
    "#Creating pipelines of imputers and onehotencoder for preprocessing\n",
    "o_h_features = [\"Make\",\"Colour\"]\n",
    "o_h_imputer = Pipeline(steps=[(\"simpleimputer\",SimpleImputer(strategy=\"constant\",fill_value=\"missing\")),\n",
    "                                             (\"onehot\",OneHotEncoder(handle_unknown=\"ignore\"))])\n",
    "d_features = [\"Doors\"]\n",
    "d_imputer = Pipeline(steps=[(\"sim\",SimpleImputer(strategy=\"constant\",fill_value=4))])\n",
    "\n",
    "num_features = [\"Odometer (KM)\"]\n",
    "num_imputer = Pipeline(steps=[(\"sim\",SimpleImputer(strategy=\"mean\"))])\n",
    "\n",
    "#creating a preprocessing layer with columntransformer\n",
    "preprocessing = ColumnTransformer([(\"oh_imputer\",o_h_imputer,o_h_features),\n",
    "                                  (\"d_imputer\",d_imputer,d_features),\n",
    "                                  (\"num_imputer\",num_imputer,num_features)],remainder=\"passthrough\")\n",
    "\n",
    "#creating a model with pipeline \n",
    "model = Pipeline(steps=[(\"preprocessing\",preprocessing),\n",
    "                      (\"regressor\", RandomForestRegressor())])\n",
    "\n",
    "#creating train and test split\n",
    "x = data.drop(\"Price\",axis=1)\n",
    "y = data[\"Price\"]\n",
    "x_train,x_test,y_train,y_test = train_test_split(x,y,test_size=0.2)\n",
    "\n",
    "#fitting a model \n",
    "model.fit(x_train,y_train)\n",
    "\n",
    "#evaluating the model \n",
    "model.score(x_test,y_test)"
   ]
  },
  {
   "cell_type": "code",
   "execution_count": 138,
   "id": "c3b6a5cb",
   "metadata": {},
   "outputs": [
    {
     "data": {
      "text/plain": [
       "{'memory': None,\n",
       " 'steps': [('preprocessing',\n",
       "   ColumnTransformer(remainder='passthrough',\n",
       "                     transformers=[('oh_imputer',\n",
       "                                    Pipeline(steps=[('simpleimputer',\n",
       "                                                     SimpleImputer(fill_value='missing',\n",
       "                                                                   strategy='constant')),\n",
       "                                                    ('onehot',\n",
       "                                                     OneHotEncoder(handle_unknown='ignore'))]),\n",
       "                                    ['Make', 'Colour']),\n",
       "                                   ('d_imputer',\n",
       "                                    Pipeline(steps=[('sim',\n",
       "                                                     SimpleImputer(fill_value=4,\n",
       "                                                                   strategy='constant'))]),\n",
       "                                    ['Doors']),\n",
       "                                   ('num_imputer',\n",
       "                                    Pipeline(steps=[('sim', SimpleImputer())]),\n",
       "                                    ['Odometer (KM)'])])),\n",
       "  ('regressor', RandomForestRegressor())],\n",
       " 'verbose': False,\n",
       " 'preprocessing': ColumnTransformer(remainder='passthrough',\n",
       "                   transformers=[('oh_imputer',\n",
       "                                  Pipeline(steps=[('simpleimputer',\n",
       "                                                   SimpleImputer(fill_value='missing',\n",
       "                                                                 strategy='constant')),\n",
       "                                                  ('onehot',\n",
       "                                                   OneHotEncoder(handle_unknown='ignore'))]),\n",
       "                                  ['Make', 'Colour']),\n",
       "                                 ('d_imputer',\n",
       "                                  Pipeline(steps=[('sim',\n",
       "                                                   SimpleImputer(fill_value=4,\n",
       "                                                                 strategy='constant'))]),\n",
       "                                  ['Doors']),\n",
       "                                 ('num_imputer',\n",
       "                                  Pipeline(steps=[('sim', SimpleImputer())]),\n",
       "                                  ['Odometer (KM)'])]),\n",
       " 'regressor': RandomForestRegressor(),\n",
       " 'preprocessing__n_jobs': None,\n",
       " 'preprocessing__remainder': 'passthrough',\n",
       " 'preprocessing__sparse_threshold': 0.3,\n",
       " 'preprocessing__transformer_weights': None,\n",
       " 'preprocessing__transformers': [('oh_imputer',\n",
       "   Pipeline(steps=[('simpleimputer',\n",
       "                    SimpleImputer(fill_value='missing', strategy='constant')),\n",
       "                   ('onehot', OneHotEncoder(handle_unknown='ignore'))]),\n",
       "   ['Make', 'Colour']),\n",
       "  ('d_imputer',\n",
       "   Pipeline(steps=[('sim', SimpleImputer(fill_value=4, strategy='constant'))]),\n",
       "   ['Doors']),\n",
       "  ('num_imputer',\n",
       "   Pipeline(steps=[('sim', SimpleImputer())]),\n",
       "   ['Odometer (KM)'])],\n",
       " 'preprocessing__verbose': False,\n",
       " 'preprocessing__verbose_feature_names_out': True,\n",
       " 'preprocessing__oh_imputer': Pipeline(steps=[('simpleimputer',\n",
       "                  SimpleImputer(fill_value='missing', strategy='constant')),\n",
       "                 ('onehot', OneHotEncoder(handle_unknown='ignore'))]),\n",
       " 'preprocessing__d_imputer': Pipeline(steps=[('sim', SimpleImputer(fill_value=4, strategy='constant'))]),\n",
       " 'preprocessing__num_imputer': Pipeline(steps=[('sim', SimpleImputer())]),\n",
       " 'preprocessing__oh_imputer__memory': None,\n",
       " 'preprocessing__oh_imputer__steps': [('simpleimputer',\n",
       "   SimpleImputer(fill_value='missing', strategy='constant')),\n",
       "  ('onehot', OneHotEncoder(handle_unknown='ignore'))],\n",
       " 'preprocessing__oh_imputer__verbose': False,\n",
       " 'preprocessing__oh_imputer__simpleimputer': SimpleImputer(fill_value='missing', strategy='constant'),\n",
       " 'preprocessing__oh_imputer__onehot': OneHotEncoder(handle_unknown='ignore'),\n",
       " 'preprocessing__oh_imputer__simpleimputer__add_indicator': False,\n",
       " 'preprocessing__oh_imputer__simpleimputer__copy': True,\n",
       " 'preprocessing__oh_imputer__simpleimputer__fill_value': 'missing',\n",
       " 'preprocessing__oh_imputer__simpleimputer__missing_values': nan,\n",
       " 'preprocessing__oh_imputer__simpleimputer__strategy': 'constant',\n",
       " 'preprocessing__oh_imputer__simpleimputer__verbose': 0,\n",
       " 'preprocessing__oh_imputer__onehot__categories': 'auto',\n",
       " 'preprocessing__oh_imputer__onehot__drop': None,\n",
       " 'preprocessing__oh_imputer__onehot__dtype': numpy.float64,\n",
       " 'preprocessing__oh_imputer__onehot__handle_unknown': 'ignore',\n",
       " 'preprocessing__oh_imputer__onehot__sparse': True,\n",
       " 'preprocessing__d_imputer__memory': None,\n",
       " 'preprocessing__d_imputer__steps': [('sim',\n",
       "   SimpleImputer(fill_value=4, strategy='constant'))],\n",
       " 'preprocessing__d_imputer__verbose': False,\n",
       " 'preprocessing__d_imputer__sim': SimpleImputer(fill_value=4, strategy='constant'),\n",
       " 'preprocessing__d_imputer__sim__add_indicator': False,\n",
       " 'preprocessing__d_imputer__sim__copy': True,\n",
       " 'preprocessing__d_imputer__sim__fill_value': 4,\n",
       " 'preprocessing__d_imputer__sim__missing_values': nan,\n",
       " 'preprocessing__d_imputer__sim__strategy': 'constant',\n",
       " 'preprocessing__d_imputer__sim__verbose': 0,\n",
       " 'preprocessing__num_imputer__memory': None,\n",
       " 'preprocessing__num_imputer__steps': [('sim', SimpleImputer())],\n",
       " 'preprocessing__num_imputer__verbose': False,\n",
       " 'preprocessing__num_imputer__sim': SimpleImputer(),\n",
       " 'preprocessing__num_imputer__sim__add_indicator': False,\n",
       " 'preprocessing__num_imputer__sim__copy': True,\n",
       " 'preprocessing__num_imputer__sim__fill_value': None,\n",
       " 'preprocessing__num_imputer__sim__missing_values': nan,\n",
       " 'preprocessing__num_imputer__sim__strategy': 'mean',\n",
       " 'preprocessing__num_imputer__sim__verbose': 0,\n",
       " 'regressor__bootstrap': True,\n",
       " 'regressor__ccp_alpha': 0.0,\n",
       " 'regressor__criterion': 'squared_error',\n",
       " 'regressor__max_depth': None,\n",
       " 'regressor__max_features': 'auto',\n",
       " 'regressor__max_leaf_nodes': None,\n",
       " 'regressor__max_samples': None,\n",
       " 'regressor__min_impurity_decrease': 0.0,\n",
       " 'regressor__min_samples_leaf': 1,\n",
       " 'regressor__min_samples_split': 2,\n",
       " 'regressor__min_weight_fraction_leaf': 0.0,\n",
       " 'regressor__n_estimators': 100,\n",
       " 'regressor__n_jobs': None,\n",
       " 'regressor__oob_score': False,\n",
       " 'regressor__random_state': None,\n",
       " 'regressor__verbose': 0,\n",
       " 'regressor__warm_start': False}"
      ]
     },
     "execution_count": 138,
     "metadata": {},
     "output_type": "execute_result"
    }
   ],
   "source": [
    "model.get_params()"
   ]
  },
  {
   "cell_type": "code",
   "execution_count": 139,
   "id": "968a2ed1",
   "metadata": {},
   "outputs": [
    {
     "name": "stdout",
     "output_type": "stream",
     "text": [
      "Fitting 5 folds for each of 48 candidates, totalling 240 fits\n",
      "[CV] END preprocessing__num_imputer__sim__strategy=mean, regressor__max_depth=None, regressor__max_features=auto, regressor__min_samples_leaf=4, regressor__min_samples_split=6, regressor__n_estimators=100; total time=   0.1s\n",
      "[CV] END preprocessing__num_imputer__sim__strategy=mean, regressor__max_depth=None, regressor__max_features=auto, regressor__min_samples_leaf=4, regressor__min_samples_split=6, regressor__n_estimators=100; total time=   0.1s\n",
      "[CV] END preprocessing__num_imputer__sim__strategy=mean, regressor__max_depth=None, regressor__max_features=auto, regressor__min_samples_leaf=4, regressor__min_samples_split=6, regressor__n_estimators=100; total time=   0.1s\n",
      "[CV] END preprocessing__num_imputer__sim__strategy=mean, regressor__max_depth=None, regressor__max_features=auto, regressor__min_samples_leaf=4, regressor__min_samples_split=6, regressor__n_estimators=100; total time=   0.1s\n",
      "[CV] END preprocessing__num_imputer__sim__strategy=mean, regressor__max_depth=None, regressor__max_features=auto, regressor__min_samples_leaf=4, regressor__min_samples_split=6, regressor__n_estimators=100; total time=   0.1s\n",
      "[CV] END preprocessing__num_imputer__sim__strategy=mean, regressor__max_depth=None, regressor__max_features=auto, regressor__min_samples_leaf=4, regressor__min_samples_split=6, regressor__n_estimators=200; total time=   0.2s\n",
      "[CV] END preprocessing__num_imputer__sim__strategy=mean, regressor__max_depth=None, regressor__max_features=auto, regressor__min_samples_leaf=4, regressor__min_samples_split=6, regressor__n_estimators=200; total time=   0.2s\n",
      "[CV] END preprocessing__num_imputer__sim__strategy=mean, regressor__max_depth=None, regressor__max_features=auto, regressor__min_samples_leaf=4, regressor__min_samples_split=6, regressor__n_estimators=200; total time=   0.3s\n",
      "[CV] END preprocessing__num_imputer__sim__strategy=mean, regressor__max_depth=None, regressor__max_features=auto, regressor__min_samples_leaf=4, regressor__min_samples_split=6, regressor__n_estimators=200; total time=   0.2s\n",
      "[CV] END preprocessing__num_imputer__sim__strategy=mean, regressor__max_depth=None, regressor__max_features=auto, regressor__min_samples_leaf=4, regressor__min_samples_split=6, regressor__n_estimators=200; total time=   0.2s\n",
      "[CV] END preprocessing__num_imputer__sim__strategy=mean, regressor__max_depth=None, regressor__max_features=auto, regressor__min_samples_leaf=4, regressor__min_samples_split=6, regressor__n_estimators=1000; total time=   1.5s\n",
      "[CV] END preprocessing__num_imputer__sim__strategy=mean, regressor__max_depth=None, regressor__max_features=auto, regressor__min_samples_leaf=4, regressor__min_samples_split=6, regressor__n_estimators=1000; total time=   1.4s\n",
      "[CV] END preprocessing__num_imputer__sim__strategy=mean, regressor__max_depth=None, regressor__max_features=auto, regressor__min_samples_leaf=4, regressor__min_samples_split=6, regressor__n_estimators=1000; total time=   1.7s\n",
      "[CV] END preprocessing__num_imputer__sim__strategy=mean, regressor__max_depth=None, regressor__max_features=auto, regressor__min_samples_leaf=4, regressor__min_samples_split=6, regressor__n_estimators=1000; total time=   1.6s\n",
      "[CV] END preprocessing__num_imputer__sim__strategy=mean, regressor__max_depth=None, regressor__max_features=auto, regressor__min_samples_leaf=4, regressor__min_samples_split=6, regressor__n_estimators=1000; total time=   1.5s\n",
      "[CV] END preprocessing__num_imputer__sim__strategy=mean, regressor__max_depth=None, regressor__max_features=auto, regressor__min_samples_leaf=4, regressor__min_samples_split=2, regressor__n_estimators=100; total time=   0.1s\n",
      "[CV] END preprocessing__num_imputer__sim__strategy=mean, regressor__max_depth=None, regressor__max_features=auto, regressor__min_samples_leaf=4, regressor__min_samples_split=2, regressor__n_estimators=100; total time=   0.1s\n",
      "[CV] END preprocessing__num_imputer__sim__strategy=mean, regressor__max_depth=None, regressor__max_features=auto, regressor__min_samples_leaf=4, regressor__min_samples_split=2, regressor__n_estimators=100; total time=   0.1s\n",
      "[CV] END preprocessing__num_imputer__sim__strategy=mean, regressor__max_depth=None, regressor__max_features=auto, regressor__min_samples_leaf=4, regressor__min_samples_split=2, regressor__n_estimators=100; total time=   0.1s\n",
      "[CV] END preprocessing__num_imputer__sim__strategy=mean, regressor__max_depth=None, regressor__max_features=auto, regressor__min_samples_leaf=4, regressor__min_samples_split=2, regressor__n_estimators=100; total time=   0.1s\n",
      "[CV] END preprocessing__num_imputer__sim__strategy=mean, regressor__max_depth=None, regressor__max_features=auto, regressor__min_samples_leaf=4, regressor__min_samples_split=2, regressor__n_estimators=200; total time=   0.2s\n",
      "[CV] END preprocessing__num_imputer__sim__strategy=mean, regressor__max_depth=None, regressor__max_features=auto, regressor__min_samples_leaf=4, regressor__min_samples_split=2, regressor__n_estimators=200; total time=   0.2s\n",
      "[CV] END preprocessing__num_imputer__sim__strategy=mean, regressor__max_depth=None, regressor__max_features=auto, regressor__min_samples_leaf=4, regressor__min_samples_split=2, regressor__n_estimators=200; total time=   0.2s\n",
      "[CV] END preprocessing__num_imputer__sim__strategy=mean, regressor__max_depth=None, regressor__max_features=auto, regressor__min_samples_leaf=4, regressor__min_samples_split=2, regressor__n_estimators=200; total time=   0.2s\n",
      "[CV] END preprocessing__num_imputer__sim__strategy=mean, regressor__max_depth=None, regressor__max_features=auto, regressor__min_samples_leaf=4, regressor__min_samples_split=2, regressor__n_estimators=200; total time=   0.2s\n",
      "[CV] END preprocessing__num_imputer__sim__strategy=mean, regressor__max_depth=None, regressor__max_features=auto, regressor__min_samples_leaf=4, regressor__min_samples_split=2, regressor__n_estimators=1000; total time=   1.4s\n",
      "[CV] END preprocessing__num_imputer__sim__strategy=mean, regressor__max_depth=None, regressor__max_features=auto, regressor__min_samples_leaf=4, regressor__min_samples_split=2, regressor__n_estimators=1000; total time=   1.4s\n",
      "[CV] END preprocessing__num_imputer__sim__strategy=mean, regressor__max_depth=None, regressor__max_features=auto, regressor__min_samples_leaf=4, regressor__min_samples_split=2, regressor__n_estimators=1000; total time=   1.4s\n",
      "[CV] END preprocessing__num_imputer__sim__strategy=mean, regressor__max_depth=None, regressor__max_features=auto, regressor__min_samples_leaf=4, regressor__min_samples_split=2, regressor__n_estimators=1000; total time=   1.4s\n",
      "[CV] END preprocessing__num_imputer__sim__strategy=mean, regressor__max_depth=None, regressor__max_features=auto, regressor__min_samples_leaf=4, regressor__min_samples_split=2, regressor__n_estimators=1000; total time=   1.4s\n",
      "[CV] END preprocessing__num_imputer__sim__strategy=mean, regressor__max_depth=None, regressor__max_features=sqrt, regressor__min_samples_leaf=4, regressor__min_samples_split=6, regressor__n_estimators=100; total time=   0.0s\n",
      "[CV] END preprocessing__num_imputer__sim__strategy=mean, regressor__max_depth=None, regressor__max_features=sqrt, regressor__min_samples_leaf=4, regressor__min_samples_split=6, regressor__n_estimators=100; total time=   0.0s\n",
      "[CV] END preprocessing__num_imputer__sim__strategy=mean, regressor__max_depth=None, regressor__max_features=sqrt, regressor__min_samples_leaf=4, regressor__min_samples_split=6, regressor__n_estimators=100; total time=   0.0s\n",
      "[CV] END preprocessing__num_imputer__sim__strategy=mean, regressor__max_depth=None, regressor__max_features=sqrt, regressor__min_samples_leaf=4, regressor__min_samples_split=6, regressor__n_estimators=100; total time=   0.0s\n",
      "[CV] END preprocessing__num_imputer__sim__strategy=mean, regressor__max_depth=None, regressor__max_features=sqrt, regressor__min_samples_leaf=4, regressor__min_samples_split=6, regressor__n_estimators=100; total time=   0.0s\n",
      "[CV] END preprocessing__num_imputer__sim__strategy=mean, regressor__max_depth=None, regressor__max_features=sqrt, regressor__min_samples_leaf=4, regressor__min_samples_split=6, regressor__n_estimators=200; total time=   0.1s\n",
      "[CV] END preprocessing__num_imputer__sim__strategy=mean, regressor__max_depth=None, regressor__max_features=sqrt, regressor__min_samples_leaf=4, regressor__min_samples_split=6, regressor__n_estimators=200; total time=   0.2s\n"
     ]
    },
    {
     "name": "stdout",
     "output_type": "stream",
     "text": [
      "[CV] END preprocessing__num_imputer__sim__strategy=mean, regressor__max_depth=None, regressor__max_features=sqrt, regressor__min_samples_leaf=4, regressor__min_samples_split=6, regressor__n_estimators=200; total time=   0.1s\n",
      "[CV] END preprocessing__num_imputer__sim__strategy=mean, regressor__max_depth=None, regressor__max_features=sqrt, regressor__min_samples_leaf=4, regressor__min_samples_split=6, regressor__n_estimators=200; total time=   0.1s\n",
      "[CV] END preprocessing__num_imputer__sim__strategy=mean, regressor__max_depth=None, regressor__max_features=sqrt, regressor__min_samples_leaf=4, regressor__min_samples_split=6, regressor__n_estimators=200; total time=   0.1s\n",
      "[CV] END preprocessing__num_imputer__sim__strategy=mean, regressor__max_depth=None, regressor__max_features=sqrt, regressor__min_samples_leaf=4, regressor__min_samples_split=6, regressor__n_estimators=1000; total time=   1.0s\n",
      "[CV] END preprocessing__num_imputer__sim__strategy=mean, regressor__max_depth=None, regressor__max_features=sqrt, regressor__min_samples_leaf=4, regressor__min_samples_split=6, regressor__n_estimators=1000; total time=   1.0s\n",
      "[CV] END preprocessing__num_imputer__sim__strategy=mean, regressor__max_depth=None, regressor__max_features=sqrt, regressor__min_samples_leaf=4, regressor__min_samples_split=6, regressor__n_estimators=1000; total time=   1.0s\n",
      "[CV] END preprocessing__num_imputer__sim__strategy=mean, regressor__max_depth=None, regressor__max_features=sqrt, regressor__min_samples_leaf=4, regressor__min_samples_split=6, regressor__n_estimators=1000; total time=   1.1s\n",
      "[CV] END preprocessing__num_imputer__sim__strategy=mean, regressor__max_depth=None, regressor__max_features=sqrt, regressor__min_samples_leaf=4, regressor__min_samples_split=6, regressor__n_estimators=1000; total time=   1.0s\n",
      "[CV] END preprocessing__num_imputer__sim__strategy=mean, regressor__max_depth=None, regressor__max_features=sqrt, regressor__min_samples_leaf=4, regressor__min_samples_split=2, regressor__n_estimators=100; total time=   0.0s\n",
      "[CV] END preprocessing__num_imputer__sim__strategy=mean, regressor__max_depth=None, regressor__max_features=sqrt, regressor__min_samples_leaf=4, regressor__min_samples_split=2, regressor__n_estimators=100; total time=   0.0s\n",
      "[CV] END preprocessing__num_imputer__sim__strategy=mean, regressor__max_depth=None, regressor__max_features=sqrt, regressor__min_samples_leaf=4, regressor__min_samples_split=2, regressor__n_estimators=100; total time=   0.0s\n",
      "[CV] END preprocessing__num_imputer__sim__strategy=mean, regressor__max_depth=None, regressor__max_features=sqrt, regressor__min_samples_leaf=4, regressor__min_samples_split=2, regressor__n_estimators=100; total time=   0.0s\n",
      "[CV] END preprocessing__num_imputer__sim__strategy=mean, regressor__max_depth=None, regressor__max_features=sqrt, regressor__min_samples_leaf=4, regressor__min_samples_split=2, regressor__n_estimators=100; total time=   0.0s\n",
      "[CV] END preprocessing__num_imputer__sim__strategy=mean, regressor__max_depth=None, regressor__max_features=sqrt, regressor__min_samples_leaf=4, regressor__min_samples_split=2, regressor__n_estimators=200; total time=   0.2s\n",
      "[CV] END preprocessing__num_imputer__sim__strategy=mean, regressor__max_depth=None, regressor__max_features=sqrt, regressor__min_samples_leaf=4, regressor__min_samples_split=2, regressor__n_estimators=200; total time=   0.1s\n",
      "[CV] END preprocessing__num_imputer__sim__strategy=mean, regressor__max_depth=None, regressor__max_features=sqrt, regressor__min_samples_leaf=4, regressor__min_samples_split=2, regressor__n_estimators=200; total time=   0.2s\n",
      "[CV] END preprocessing__num_imputer__sim__strategy=mean, regressor__max_depth=None, regressor__max_features=sqrt, regressor__min_samples_leaf=4, regressor__min_samples_split=2, regressor__n_estimators=200; total time=   0.1s\n",
      "[CV] END preprocessing__num_imputer__sim__strategy=mean, regressor__max_depth=None, regressor__max_features=sqrt, regressor__min_samples_leaf=4, regressor__min_samples_split=2, regressor__n_estimators=200; total time=   0.2s\n",
      "[CV] END preprocessing__num_imputer__sim__strategy=mean, regressor__max_depth=None, regressor__max_features=sqrt, regressor__min_samples_leaf=4, regressor__min_samples_split=2, regressor__n_estimators=1000; total time=   1.0s\n",
      "[CV] END preprocessing__num_imputer__sim__strategy=mean, regressor__max_depth=None, regressor__max_features=sqrt, regressor__min_samples_leaf=4, regressor__min_samples_split=2, regressor__n_estimators=1000; total time=   1.2s\n",
      "[CV] END preprocessing__num_imputer__sim__strategy=mean, regressor__max_depth=None, regressor__max_features=sqrt, regressor__min_samples_leaf=4, regressor__min_samples_split=2, regressor__n_estimators=1000; total time=   1.1s\n",
      "[CV] END preprocessing__num_imputer__sim__strategy=mean, regressor__max_depth=None, regressor__max_features=sqrt, regressor__min_samples_leaf=4, regressor__min_samples_split=2, regressor__n_estimators=1000; total time=   1.0s\n",
      "[CV] END preprocessing__num_imputer__sim__strategy=mean, regressor__max_depth=None, regressor__max_features=sqrt, regressor__min_samples_leaf=4, regressor__min_samples_split=2, regressor__n_estimators=1000; total time=   1.0s\n",
      "[CV] END preprocessing__num_imputer__sim__strategy=mean, regressor__max_depth=5, regressor__max_features=auto, regressor__min_samples_leaf=4, regressor__min_samples_split=6, regressor__n_estimators=100; total time=   0.0s\n",
      "[CV] END preprocessing__num_imputer__sim__strategy=mean, regressor__max_depth=5, regressor__max_features=auto, regressor__min_samples_leaf=4, regressor__min_samples_split=6, regressor__n_estimators=100; total time=   0.0s\n",
      "[CV] END preprocessing__num_imputer__sim__strategy=mean, regressor__max_depth=5, regressor__max_features=auto, regressor__min_samples_leaf=4, regressor__min_samples_split=6, regressor__n_estimators=100; total time=   0.0s\n",
      "[CV] END preprocessing__num_imputer__sim__strategy=mean, regressor__max_depth=5, regressor__max_features=auto, regressor__min_samples_leaf=4, regressor__min_samples_split=6, regressor__n_estimators=100; total time=   0.0s\n",
      "[CV] END preprocessing__num_imputer__sim__strategy=mean, regressor__max_depth=5, regressor__max_features=auto, regressor__min_samples_leaf=4, regressor__min_samples_split=6, regressor__n_estimators=100; total time=   0.0s\n",
      "[CV] END preprocessing__num_imputer__sim__strategy=mean, regressor__max_depth=5, regressor__max_features=auto, regressor__min_samples_leaf=4, regressor__min_samples_split=6, regressor__n_estimators=200; total time=   0.2s\n",
      "[CV] END preprocessing__num_imputer__sim__strategy=mean, regressor__max_depth=5, regressor__max_features=auto, regressor__min_samples_leaf=4, regressor__min_samples_split=6, regressor__n_estimators=200; total time=   0.2s\n",
      "[CV] END preprocessing__num_imputer__sim__strategy=mean, regressor__max_depth=5, regressor__max_features=auto, regressor__min_samples_leaf=4, regressor__min_samples_split=6, regressor__n_estimators=200; total time=   0.2s\n",
      "[CV] END preprocessing__num_imputer__sim__strategy=mean, regressor__max_depth=5, regressor__max_features=auto, regressor__min_samples_leaf=4, regressor__min_samples_split=6, regressor__n_estimators=200; total time=   0.2s\n",
      "[CV] END preprocessing__num_imputer__sim__strategy=mean, regressor__max_depth=5, regressor__max_features=auto, regressor__min_samples_leaf=4, regressor__min_samples_split=6, regressor__n_estimators=200; total time=   0.2s\n",
      "[CV] END preprocessing__num_imputer__sim__strategy=mean, regressor__max_depth=5, regressor__max_features=auto, regressor__min_samples_leaf=4, regressor__min_samples_split=6, regressor__n_estimators=1000; total time=   1.1s\n",
      "[CV] END preprocessing__num_imputer__sim__strategy=mean, regressor__max_depth=5, regressor__max_features=auto, regressor__min_samples_leaf=4, regressor__min_samples_split=6, regressor__n_estimators=1000; total time=   1.2s\n",
      "[CV] END preprocessing__num_imputer__sim__strategy=mean, regressor__max_depth=5, regressor__max_features=auto, regressor__min_samples_leaf=4, regressor__min_samples_split=6, regressor__n_estimators=1000; total time=   1.2s\n",
      "[CV] END preprocessing__num_imputer__sim__strategy=mean, regressor__max_depth=5, regressor__max_features=auto, regressor__min_samples_leaf=4, regressor__min_samples_split=6, regressor__n_estimators=1000; total time=   1.2s\n"
     ]
    },
    {
     "name": "stdout",
     "output_type": "stream",
     "text": [
      "[CV] END preprocessing__num_imputer__sim__strategy=mean, regressor__max_depth=5, regressor__max_features=auto, regressor__min_samples_leaf=4, regressor__min_samples_split=6, regressor__n_estimators=1000; total time=   1.2s\n",
      "[CV] END preprocessing__num_imputer__sim__strategy=mean, regressor__max_depth=5, regressor__max_features=auto, regressor__min_samples_leaf=4, regressor__min_samples_split=2, regressor__n_estimators=100; total time=   0.0s\n",
      "[CV] END preprocessing__num_imputer__sim__strategy=mean, regressor__max_depth=5, regressor__max_features=auto, regressor__min_samples_leaf=4, regressor__min_samples_split=2, regressor__n_estimators=100; total time=   0.0s\n",
      "[CV] END preprocessing__num_imputer__sim__strategy=mean, regressor__max_depth=5, regressor__max_features=auto, regressor__min_samples_leaf=4, regressor__min_samples_split=2, regressor__n_estimators=100; total time=   0.0s\n",
      "[CV] END preprocessing__num_imputer__sim__strategy=mean, regressor__max_depth=5, regressor__max_features=auto, regressor__min_samples_leaf=4, regressor__min_samples_split=2, regressor__n_estimators=100; total time=   0.1s\n",
      "[CV] END preprocessing__num_imputer__sim__strategy=mean, regressor__max_depth=5, regressor__max_features=auto, regressor__min_samples_leaf=4, regressor__min_samples_split=2, regressor__n_estimators=100; total time=   0.0s\n",
      "[CV] END preprocessing__num_imputer__sim__strategy=mean, regressor__max_depth=5, regressor__max_features=auto, regressor__min_samples_leaf=4, regressor__min_samples_split=2, regressor__n_estimators=200; total time=   0.2s\n",
      "[CV] END preprocessing__num_imputer__sim__strategy=mean, regressor__max_depth=5, regressor__max_features=auto, regressor__min_samples_leaf=4, regressor__min_samples_split=2, regressor__n_estimators=200; total time=   0.2s\n",
      "[CV] END preprocessing__num_imputer__sim__strategy=mean, regressor__max_depth=5, regressor__max_features=auto, regressor__min_samples_leaf=4, regressor__min_samples_split=2, regressor__n_estimators=200; total time=   0.2s\n",
      "[CV] END preprocessing__num_imputer__sim__strategy=mean, regressor__max_depth=5, regressor__max_features=auto, regressor__min_samples_leaf=4, regressor__min_samples_split=2, regressor__n_estimators=200; total time=   0.2s\n",
      "[CV] END preprocessing__num_imputer__sim__strategy=mean, regressor__max_depth=5, regressor__max_features=auto, regressor__min_samples_leaf=4, regressor__min_samples_split=2, regressor__n_estimators=200; total time=   0.2s\n",
      "[CV] END preprocessing__num_imputer__sim__strategy=mean, regressor__max_depth=5, regressor__max_features=auto, regressor__min_samples_leaf=4, regressor__min_samples_split=2, regressor__n_estimators=1000; total time=   1.2s\n",
      "[CV] END preprocessing__num_imputer__sim__strategy=mean, regressor__max_depth=5, regressor__max_features=auto, regressor__min_samples_leaf=4, regressor__min_samples_split=2, regressor__n_estimators=1000; total time=   1.2s\n",
      "[CV] END preprocessing__num_imputer__sim__strategy=mean, regressor__max_depth=5, regressor__max_features=auto, regressor__min_samples_leaf=4, regressor__min_samples_split=2, regressor__n_estimators=1000; total time=   1.2s\n",
      "[CV] END preprocessing__num_imputer__sim__strategy=mean, regressor__max_depth=5, regressor__max_features=auto, regressor__min_samples_leaf=4, regressor__min_samples_split=2, regressor__n_estimators=1000; total time=   1.2s\n",
      "[CV] END preprocessing__num_imputer__sim__strategy=mean, regressor__max_depth=5, regressor__max_features=auto, regressor__min_samples_leaf=4, regressor__min_samples_split=2, regressor__n_estimators=1000; total time=   1.1s\n",
      "[CV] END preprocessing__num_imputer__sim__strategy=mean, regressor__max_depth=5, regressor__max_features=sqrt, regressor__min_samples_leaf=4, regressor__min_samples_split=6, regressor__n_estimators=100; total time=   0.0s\n",
      "[CV] END preprocessing__num_imputer__sim__strategy=mean, regressor__max_depth=5, regressor__max_features=sqrt, regressor__min_samples_leaf=4, regressor__min_samples_split=6, regressor__n_estimators=100; total time=   0.0s\n",
      "[CV] END preprocessing__num_imputer__sim__strategy=mean, regressor__max_depth=5, regressor__max_features=sqrt, regressor__min_samples_leaf=4, regressor__min_samples_split=6, regressor__n_estimators=100; total time=   0.0s\n",
      "[CV] END preprocessing__num_imputer__sim__strategy=mean, regressor__max_depth=5, regressor__max_features=sqrt, regressor__min_samples_leaf=4, regressor__min_samples_split=6, regressor__n_estimators=100; total time=   0.0s\n",
      "[CV] END preprocessing__num_imputer__sim__strategy=mean, regressor__max_depth=5, regressor__max_features=sqrt, regressor__min_samples_leaf=4, regressor__min_samples_split=6, regressor__n_estimators=100; total time=   0.0s\n",
      "[CV] END preprocessing__num_imputer__sim__strategy=mean, regressor__max_depth=5, regressor__max_features=sqrt, regressor__min_samples_leaf=4, regressor__min_samples_split=6, regressor__n_estimators=200; total time=   0.1s\n",
      "[CV] END preprocessing__num_imputer__sim__strategy=mean, regressor__max_depth=5, regressor__max_features=sqrt, regressor__min_samples_leaf=4, regressor__min_samples_split=6, regressor__n_estimators=200; total time=   0.1s\n",
      "[CV] END preprocessing__num_imputer__sim__strategy=mean, regressor__max_depth=5, regressor__max_features=sqrt, regressor__min_samples_leaf=4, regressor__min_samples_split=6, regressor__n_estimators=200; total time=   0.1s\n",
      "[CV] END preprocessing__num_imputer__sim__strategy=mean, regressor__max_depth=5, regressor__max_features=sqrt, regressor__min_samples_leaf=4, regressor__min_samples_split=6, regressor__n_estimators=200; total time=   0.1s\n",
      "[CV] END preprocessing__num_imputer__sim__strategy=mean, regressor__max_depth=5, regressor__max_features=sqrt, regressor__min_samples_leaf=4, regressor__min_samples_split=6, regressor__n_estimators=200; total time=   0.1s\n",
      "[CV] END preprocessing__num_imputer__sim__strategy=mean, regressor__max_depth=5, regressor__max_features=sqrt, regressor__min_samples_leaf=4, regressor__min_samples_split=6, regressor__n_estimators=1000; total time=   1.0s\n",
      "[CV] END preprocessing__num_imputer__sim__strategy=mean, regressor__max_depth=5, regressor__max_features=sqrt, regressor__min_samples_leaf=4, regressor__min_samples_split=6, regressor__n_estimators=1000; total time=   1.0s\n",
      "[CV] END preprocessing__num_imputer__sim__strategy=mean, regressor__max_depth=5, regressor__max_features=sqrt, regressor__min_samples_leaf=4, regressor__min_samples_split=6, regressor__n_estimators=1000; total time=   1.0s\n",
      "[CV] END preprocessing__num_imputer__sim__strategy=mean, regressor__max_depth=5, regressor__max_features=sqrt, regressor__min_samples_leaf=4, regressor__min_samples_split=6, regressor__n_estimators=1000; total time=   1.0s\n",
      "[CV] END preprocessing__num_imputer__sim__strategy=mean, regressor__max_depth=5, regressor__max_features=sqrt, regressor__min_samples_leaf=4, regressor__min_samples_split=6, regressor__n_estimators=1000; total time=   0.9s\n",
      "[CV] END preprocessing__num_imputer__sim__strategy=mean, regressor__max_depth=5, regressor__max_features=sqrt, regressor__min_samples_leaf=4, regressor__min_samples_split=2, regressor__n_estimators=100; total time=   0.1s\n",
      "[CV] END preprocessing__num_imputer__sim__strategy=mean, regressor__max_depth=5, regressor__max_features=sqrt, regressor__min_samples_leaf=4, regressor__min_samples_split=2, regressor__n_estimators=100; total time=   0.0s\n",
      "[CV] END preprocessing__num_imputer__sim__strategy=mean, regressor__max_depth=5, regressor__max_features=sqrt, regressor__min_samples_leaf=4, regressor__min_samples_split=2, regressor__n_estimators=100; total time=   0.0s\n",
      "[CV] END preprocessing__num_imputer__sim__strategy=mean, regressor__max_depth=5, regressor__max_features=sqrt, regressor__min_samples_leaf=4, regressor__min_samples_split=2, regressor__n_estimators=100; total time=   0.0s\n",
      "[CV] END preprocessing__num_imputer__sim__strategy=mean, regressor__max_depth=5, regressor__max_features=sqrt, regressor__min_samples_leaf=4, regressor__min_samples_split=2, regressor__n_estimators=100; total time=   0.0s\n",
      "[CV] END preprocessing__num_imputer__sim__strategy=mean, regressor__max_depth=5, regressor__max_features=sqrt, regressor__min_samples_leaf=4, regressor__min_samples_split=2, regressor__n_estimators=200; total time=   0.1s\n"
     ]
    },
    {
     "name": "stdout",
     "output_type": "stream",
     "text": [
      "[CV] END preprocessing__num_imputer__sim__strategy=mean, regressor__max_depth=5, regressor__max_features=sqrt, regressor__min_samples_leaf=4, regressor__min_samples_split=2, regressor__n_estimators=200; total time=   0.1s\n",
      "[CV] END preprocessing__num_imputer__sim__strategy=mean, regressor__max_depth=5, regressor__max_features=sqrt, regressor__min_samples_leaf=4, regressor__min_samples_split=2, regressor__n_estimators=200; total time=   0.1s\n",
      "[CV] END preprocessing__num_imputer__sim__strategy=mean, regressor__max_depth=5, regressor__max_features=sqrt, regressor__min_samples_leaf=4, regressor__min_samples_split=2, regressor__n_estimators=200; total time=   0.1s\n",
      "[CV] END preprocessing__num_imputer__sim__strategy=mean, regressor__max_depth=5, regressor__max_features=sqrt, regressor__min_samples_leaf=4, regressor__min_samples_split=2, regressor__n_estimators=200; total time=   0.1s\n",
      "[CV] END preprocessing__num_imputer__sim__strategy=mean, regressor__max_depth=5, regressor__max_features=sqrt, regressor__min_samples_leaf=4, regressor__min_samples_split=2, regressor__n_estimators=1000; total time=   1.1s\n",
      "[CV] END preprocessing__num_imputer__sim__strategy=mean, regressor__max_depth=5, regressor__max_features=sqrt, regressor__min_samples_leaf=4, regressor__min_samples_split=2, regressor__n_estimators=1000; total time=   1.0s\n",
      "[CV] END preprocessing__num_imputer__sim__strategy=mean, regressor__max_depth=5, regressor__max_features=sqrt, regressor__min_samples_leaf=4, regressor__min_samples_split=2, regressor__n_estimators=1000; total time=   1.0s\n",
      "[CV] END preprocessing__num_imputer__sim__strategy=mean, regressor__max_depth=5, regressor__max_features=sqrt, regressor__min_samples_leaf=4, regressor__min_samples_split=2, regressor__n_estimators=1000; total time=   1.0s\n",
      "[CV] END preprocessing__num_imputer__sim__strategy=mean, regressor__max_depth=5, regressor__max_features=sqrt, regressor__min_samples_leaf=4, regressor__min_samples_split=2, regressor__n_estimators=1000; total time=   1.0s\n",
      "[CV] END preprocessing__num_imputer__sim__strategy=median, regressor__max_depth=None, regressor__max_features=auto, regressor__min_samples_leaf=4, regressor__min_samples_split=6, regressor__n_estimators=100; total time=   0.1s\n",
      "[CV] END preprocessing__num_imputer__sim__strategy=median, regressor__max_depth=None, regressor__max_features=auto, regressor__min_samples_leaf=4, regressor__min_samples_split=6, regressor__n_estimators=100; total time=   0.1s\n",
      "[CV] END preprocessing__num_imputer__sim__strategy=median, regressor__max_depth=None, regressor__max_features=auto, regressor__min_samples_leaf=4, regressor__min_samples_split=6, regressor__n_estimators=100; total time=   0.1s\n",
      "[CV] END preprocessing__num_imputer__sim__strategy=median, regressor__max_depth=None, regressor__max_features=auto, regressor__min_samples_leaf=4, regressor__min_samples_split=6, regressor__n_estimators=100; total time=   0.1s\n",
      "[CV] END preprocessing__num_imputer__sim__strategy=median, regressor__max_depth=None, regressor__max_features=auto, regressor__min_samples_leaf=4, regressor__min_samples_split=6, regressor__n_estimators=100; total time=   0.1s\n",
      "[CV] END preprocessing__num_imputer__sim__strategy=median, regressor__max_depth=None, regressor__max_features=auto, regressor__min_samples_leaf=4, regressor__min_samples_split=6, regressor__n_estimators=200; total time=   0.2s\n",
      "[CV] END preprocessing__num_imputer__sim__strategy=median, regressor__max_depth=None, regressor__max_features=auto, regressor__min_samples_leaf=4, regressor__min_samples_split=6, regressor__n_estimators=200; total time=   0.2s\n",
      "[CV] END preprocessing__num_imputer__sim__strategy=median, regressor__max_depth=None, regressor__max_features=auto, regressor__min_samples_leaf=4, regressor__min_samples_split=6, regressor__n_estimators=200; total time=   0.2s\n",
      "[CV] END preprocessing__num_imputer__sim__strategy=median, regressor__max_depth=None, regressor__max_features=auto, regressor__min_samples_leaf=4, regressor__min_samples_split=6, regressor__n_estimators=200; total time=   0.2s\n",
      "[CV] END preprocessing__num_imputer__sim__strategy=median, regressor__max_depth=None, regressor__max_features=auto, regressor__min_samples_leaf=4, regressor__min_samples_split=6, regressor__n_estimators=200; total time=   0.2s\n",
      "[CV] END preprocessing__num_imputer__sim__strategy=median, regressor__max_depth=None, regressor__max_features=auto, regressor__min_samples_leaf=4, regressor__min_samples_split=6, regressor__n_estimators=1000; total time=   1.6s\n",
      "[CV] END preprocessing__num_imputer__sim__strategy=median, regressor__max_depth=None, regressor__max_features=auto, regressor__min_samples_leaf=4, regressor__min_samples_split=6, regressor__n_estimators=1000; total time=   1.5s\n",
      "[CV] END preprocessing__num_imputer__sim__strategy=median, regressor__max_depth=None, regressor__max_features=auto, regressor__min_samples_leaf=4, regressor__min_samples_split=6, regressor__n_estimators=1000; total time=   1.5s\n",
      "[CV] END preprocessing__num_imputer__sim__strategy=median, regressor__max_depth=None, regressor__max_features=auto, regressor__min_samples_leaf=4, regressor__min_samples_split=6, regressor__n_estimators=1000; total time=   1.5s\n",
      "[CV] END preprocessing__num_imputer__sim__strategy=median, regressor__max_depth=None, regressor__max_features=auto, regressor__min_samples_leaf=4, regressor__min_samples_split=6, regressor__n_estimators=1000; total time=   1.5s\n",
      "[CV] END preprocessing__num_imputer__sim__strategy=median, regressor__max_depth=None, regressor__max_features=auto, regressor__min_samples_leaf=4, regressor__min_samples_split=2, regressor__n_estimators=100; total time=   0.1s\n",
      "[CV] END preprocessing__num_imputer__sim__strategy=median, regressor__max_depth=None, regressor__max_features=auto, regressor__min_samples_leaf=4, regressor__min_samples_split=2, regressor__n_estimators=100; total time=   0.1s\n",
      "[CV] END preprocessing__num_imputer__sim__strategy=median, regressor__max_depth=None, regressor__max_features=auto, regressor__min_samples_leaf=4, regressor__min_samples_split=2, regressor__n_estimators=100; total time=   0.1s\n",
      "[CV] END preprocessing__num_imputer__sim__strategy=median, regressor__max_depth=None, regressor__max_features=auto, regressor__min_samples_leaf=4, regressor__min_samples_split=2, regressor__n_estimators=100; total time=   0.1s\n",
      "[CV] END preprocessing__num_imputer__sim__strategy=median, regressor__max_depth=None, regressor__max_features=auto, regressor__min_samples_leaf=4, regressor__min_samples_split=2, regressor__n_estimators=100; total time=   0.1s\n",
      "[CV] END preprocessing__num_imputer__sim__strategy=median, regressor__max_depth=None, regressor__max_features=auto, regressor__min_samples_leaf=4, regressor__min_samples_split=2, regressor__n_estimators=200; total time=   0.2s\n",
      "[CV] END preprocessing__num_imputer__sim__strategy=median, regressor__max_depth=None, regressor__max_features=auto, regressor__min_samples_leaf=4, regressor__min_samples_split=2, regressor__n_estimators=200; total time=   0.2s\n",
      "[CV] END preprocessing__num_imputer__sim__strategy=median, regressor__max_depth=None, regressor__max_features=auto, regressor__min_samples_leaf=4, regressor__min_samples_split=2, regressor__n_estimators=200; total time=   0.3s\n",
      "[CV] END preprocessing__num_imputer__sim__strategy=median, regressor__max_depth=None, regressor__max_features=auto, regressor__min_samples_leaf=4, regressor__min_samples_split=2, regressor__n_estimators=200; total time=   0.2s\n",
      "[CV] END preprocessing__num_imputer__sim__strategy=median, regressor__max_depth=None, regressor__max_features=auto, regressor__min_samples_leaf=4, regressor__min_samples_split=2, regressor__n_estimators=200; total time=   0.2s\n",
      "[CV] END preprocessing__num_imputer__sim__strategy=median, regressor__max_depth=None, regressor__max_features=auto, regressor__min_samples_leaf=4, regressor__min_samples_split=2, regressor__n_estimators=1000; total time=   1.6s\n",
      "[CV] END preprocessing__num_imputer__sim__strategy=median, regressor__max_depth=None, regressor__max_features=auto, regressor__min_samples_leaf=4, regressor__min_samples_split=2, regressor__n_estimators=1000; total time=   1.5s\n",
      "[CV] END preprocessing__num_imputer__sim__strategy=median, regressor__max_depth=None, regressor__max_features=auto, regressor__min_samples_leaf=4, regressor__min_samples_split=2, regressor__n_estimators=1000; total time=   1.5s\n"
     ]
    },
    {
     "name": "stdout",
     "output_type": "stream",
     "text": [
      "[CV] END preprocessing__num_imputer__sim__strategy=median, regressor__max_depth=None, regressor__max_features=auto, regressor__min_samples_leaf=4, regressor__min_samples_split=2, regressor__n_estimators=1000; total time=   1.6s\n",
      "[CV] END preprocessing__num_imputer__sim__strategy=median, regressor__max_depth=None, regressor__max_features=auto, regressor__min_samples_leaf=4, regressor__min_samples_split=2, regressor__n_estimators=1000; total time=   1.6s\n",
      "[CV] END preprocessing__num_imputer__sim__strategy=median, regressor__max_depth=None, regressor__max_features=sqrt, regressor__min_samples_leaf=4, regressor__min_samples_split=6, regressor__n_estimators=100; total time=   0.0s\n",
      "[CV] END preprocessing__num_imputer__sim__strategy=median, regressor__max_depth=None, regressor__max_features=sqrt, regressor__min_samples_leaf=4, regressor__min_samples_split=6, regressor__n_estimators=100; total time=   0.0s\n",
      "[CV] END preprocessing__num_imputer__sim__strategy=median, regressor__max_depth=None, regressor__max_features=sqrt, regressor__min_samples_leaf=4, regressor__min_samples_split=6, regressor__n_estimators=100; total time=   0.0s\n",
      "[CV] END preprocessing__num_imputer__sim__strategy=median, regressor__max_depth=None, regressor__max_features=sqrt, regressor__min_samples_leaf=4, regressor__min_samples_split=6, regressor__n_estimators=100; total time=   0.0s\n",
      "[CV] END preprocessing__num_imputer__sim__strategy=median, regressor__max_depth=None, regressor__max_features=sqrt, regressor__min_samples_leaf=4, regressor__min_samples_split=6, regressor__n_estimators=100; total time=   0.0s\n",
      "[CV] END preprocessing__num_imputer__sim__strategy=median, regressor__max_depth=None, regressor__max_features=sqrt, regressor__min_samples_leaf=4, regressor__min_samples_split=6, regressor__n_estimators=200; total time=   0.2s\n",
      "[CV] END preprocessing__num_imputer__sim__strategy=median, regressor__max_depth=None, regressor__max_features=sqrt, regressor__min_samples_leaf=4, regressor__min_samples_split=6, regressor__n_estimators=200; total time=   0.2s\n",
      "[CV] END preprocessing__num_imputer__sim__strategy=median, regressor__max_depth=None, regressor__max_features=sqrt, regressor__min_samples_leaf=4, regressor__min_samples_split=6, regressor__n_estimators=200; total time=   0.2s\n",
      "[CV] END preprocessing__num_imputer__sim__strategy=median, regressor__max_depth=None, regressor__max_features=sqrt, regressor__min_samples_leaf=4, regressor__min_samples_split=6, regressor__n_estimators=200; total time=   0.2s\n",
      "[CV] END preprocessing__num_imputer__sim__strategy=median, regressor__max_depth=None, regressor__max_features=sqrt, regressor__min_samples_leaf=4, regressor__min_samples_split=6, regressor__n_estimators=200; total time=   0.2s\n",
      "[CV] END preprocessing__num_imputer__sim__strategy=median, regressor__max_depth=None, regressor__max_features=sqrt, regressor__min_samples_leaf=4, regressor__min_samples_split=6, regressor__n_estimators=1000; total time=   1.2s\n",
      "[CV] END preprocessing__num_imputer__sim__strategy=median, regressor__max_depth=None, regressor__max_features=sqrt, regressor__min_samples_leaf=4, regressor__min_samples_split=6, regressor__n_estimators=1000; total time=   1.1s\n",
      "[CV] END preprocessing__num_imputer__sim__strategy=median, regressor__max_depth=None, regressor__max_features=sqrt, regressor__min_samples_leaf=4, regressor__min_samples_split=6, regressor__n_estimators=1000; total time=   1.1s\n",
      "[CV] END preprocessing__num_imputer__sim__strategy=median, regressor__max_depth=None, regressor__max_features=sqrt, regressor__min_samples_leaf=4, regressor__min_samples_split=6, regressor__n_estimators=1000; total time=   1.1s\n",
      "[CV] END preprocessing__num_imputer__sim__strategy=median, regressor__max_depth=None, regressor__max_features=sqrt, regressor__min_samples_leaf=4, regressor__min_samples_split=6, regressor__n_estimators=1000; total time=   1.1s\n",
      "[CV] END preprocessing__num_imputer__sim__strategy=median, regressor__max_depth=None, regressor__max_features=sqrt, regressor__min_samples_leaf=4, regressor__min_samples_split=2, regressor__n_estimators=100; total time=   0.0s\n",
      "[CV] END preprocessing__num_imputer__sim__strategy=median, regressor__max_depth=None, regressor__max_features=sqrt, regressor__min_samples_leaf=4, regressor__min_samples_split=2, regressor__n_estimators=100; total time=   0.0s\n",
      "[CV] END preprocessing__num_imputer__sim__strategy=median, regressor__max_depth=None, regressor__max_features=sqrt, regressor__min_samples_leaf=4, regressor__min_samples_split=2, regressor__n_estimators=100; total time=   0.0s\n",
      "[CV] END preprocessing__num_imputer__sim__strategy=median, regressor__max_depth=None, regressor__max_features=sqrt, regressor__min_samples_leaf=4, regressor__min_samples_split=2, regressor__n_estimators=100; total time=   0.0s\n",
      "[CV] END preprocessing__num_imputer__sim__strategy=median, regressor__max_depth=None, regressor__max_features=sqrt, regressor__min_samples_leaf=4, regressor__min_samples_split=2, regressor__n_estimators=100; total time=   0.0s\n",
      "[CV] END preprocessing__num_imputer__sim__strategy=median, regressor__max_depth=None, regressor__max_features=sqrt, regressor__min_samples_leaf=4, regressor__min_samples_split=2, regressor__n_estimators=200; total time=   0.1s\n",
      "[CV] END preprocessing__num_imputer__sim__strategy=median, regressor__max_depth=None, regressor__max_features=sqrt, regressor__min_samples_leaf=4, regressor__min_samples_split=2, regressor__n_estimators=200; total time=   0.2s\n",
      "[CV] END preprocessing__num_imputer__sim__strategy=median, regressor__max_depth=None, regressor__max_features=sqrt, regressor__min_samples_leaf=4, regressor__min_samples_split=2, regressor__n_estimators=200; total time=   0.1s\n",
      "[CV] END preprocessing__num_imputer__sim__strategy=median, regressor__max_depth=None, regressor__max_features=sqrt, regressor__min_samples_leaf=4, regressor__min_samples_split=2, regressor__n_estimators=200; total time=   0.2s\n",
      "[CV] END preprocessing__num_imputer__sim__strategy=median, regressor__max_depth=None, regressor__max_features=sqrt, regressor__min_samples_leaf=4, regressor__min_samples_split=2, regressor__n_estimators=200; total time=   0.2s\n",
      "[CV] END preprocessing__num_imputer__sim__strategy=median, regressor__max_depth=None, regressor__max_features=sqrt, regressor__min_samples_leaf=4, regressor__min_samples_split=2, regressor__n_estimators=1000; total time=   1.1s\n",
      "[CV] END preprocessing__num_imputer__sim__strategy=median, regressor__max_depth=None, regressor__max_features=sqrt, regressor__min_samples_leaf=4, regressor__min_samples_split=2, regressor__n_estimators=1000; total time=   1.1s\n",
      "[CV] END preprocessing__num_imputer__sim__strategy=median, regressor__max_depth=None, regressor__max_features=sqrt, regressor__min_samples_leaf=4, regressor__min_samples_split=2, regressor__n_estimators=1000; total time=   1.2s\n",
      "[CV] END preprocessing__num_imputer__sim__strategy=median, regressor__max_depth=None, regressor__max_features=sqrt, regressor__min_samples_leaf=4, regressor__min_samples_split=2, regressor__n_estimators=1000; total time=   1.2s\n",
      "[CV] END preprocessing__num_imputer__sim__strategy=median, regressor__max_depth=None, regressor__max_features=sqrt, regressor__min_samples_leaf=4, regressor__min_samples_split=2, regressor__n_estimators=1000; total time=   1.2s\n",
      "[CV] END preprocessing__num_imputer__sim__strategy=median, regressor__max_depth=5, regressor__max_features=auto, regressor__min_samples_leaf=4, regressor__min_samples_split=6, regressor__n_estimators=100; total time=   0.1s\n",
      "[CV] END preprocessing__num_imputer__sim__strategy=median, regressor__max_depth=5, regressor__max_features=auto, regressor__min_samples_leaf=4, regressor__min_samples_split=6, regressor__n_estimators=100; total time=   0.1s\n",
      "[CV] END preprocessing__num_imputer__sim__strategy=median, regressor__max_depth=5, regressor__max_features=auto, regressor__min_samples_leaf=4, regressor__min_samples_split=6, regressor__n_estimators=100; total time=   0.1s\n",
      "[CV] END preprocessing__num_imputer__sim__strategy=median, regressor__max_depth=5, regressor__max_features=auto, regressor__min_samples_leaf=4, regressor__min_samples_split=6, regressor__n_estimators=100; total time=   0.1s\n",
      "[CV] END preprocessing__num_imputer__sim__strategy=median, regressor__max_depth=5, regressor__max_features=auto, regressor__min_samples_leaf=4, regressor__min_samples_split=6, regressor__n_estimators=100; total time=   0.1s\n"
     ]
    },
    {
     "name": "stdout",
     "output_type": "stream",
     "text": [
      "[CV] END preprocessing__num_imputer__sim__strategy=median, regressor__max_depth=5, regressor__max_features=auto, regressor__min_samples_leaf=4, regressor__min_samples_split=6, regressor__n_estimators=200; total time=   0.2s\n",
      "[CV] END preprocessing__num_imputer__sim__strategy=median, regressor__max_depth=5, regressor__max_features=auto, regressor__min_samples_leaf=4, regressor__min_samples_split=6, regressor__n_estimators=200; total time=   0.2s\n",
      "[CV] END preprocessing__num_imputer__sim__strategy=median, regressor__max_depth=5, regressor__max_features=auto, regressor__min_samples_leaf=4, regressor__min_samples_split=6, regressor__n_estimators=200; total time=   0.2s\n",
      "[CV] END preprocessing__num_imputer__sim__strategy=median, regressor__max_depth=5, regressor__max_features=auto, regressor__min_samples_leaf=4, regressor__min_samples_split=6, regressor__n_estimators=200; total time=   0.2s\n",
      "[CV] END preprocessing__num_imputer__sim__strategy=median, regressor__max_depth=5, regressor__max_features=auto, regressor__min_samples_leaf=4, regressor__min_samples_split=6, regressor__n_estimators=200; total time=   0.2s\n",
      "[CV] END preprocessing__num_imputer__sim__strategy=median, regressor__max_depth=5, regressor__max_features=auto, regressor__min_samples_leaf=4, regressor__min_samples_split=6, regressor__n_estimators=1000; total time=   1.3s\n",
      "[CV] END preprocessing__num_imputer__sim__strategy=median, regressor__max_depth=5, regressor__max_features=auto, regressor__min_samples_leaf=4, regressor__min_samples_split=6, regressor__n_estimators=1000; total time=   1.2s\n",
      "[CV] END preprocessing__num_imputer__sim__strategy=median, regressor__max_depth=5, regressor__max_features=auto, regressor__min_samples_leaf=4, regressor__min_samples_split=6, regressor__n_estimators=1000; total time=   1.2s\n",
      "[CV] END preprocessing__num_imputer__sim__strategy=median, regressor__max_depth=5, regressor__max_features=auto, regressor__min_samples_leaf=4, regressor__min_samples_split=6, regressor__n_estimators=1000; total time=   1.2s\n",
      "[CV] END preprocessing__num_imputer__sim__strategy=median, regressor__max_depth=5, regressor__max_features=auto, regressor__min_samples_leaf=4, regressor__min_samples_split=6, regressor__n_estimators=1000; total time=   1.2s\n",
      "[CV] END preprocessing__num_imputer__sim__strategy=median, regressor__max_depth=5, regressor__max_features=auto, regressor__min_samples_leaf=4, regressor__min_samples_split=2, regressor__n_estimators=100; total time=   0.0s\n",
      "[CV] END preprocessing__num_imputer__sim__strategy=median, regressor__max_depth=5, regressor__max_features=auto, regressor__min_samples_leaf=4, regressor__min_samples_split=2, regressor__n_estimators=100; total time=   0.0s\n",
      "[CV] END preprocessing__num_imputer__sim__strategy=median, regressor__max_depth=5, regressor__max_features=auto, regressor__min_samples_leaf=4, regressor__min_samples_split=2, regressor__n_estimators=100; total time=   0.0s\n",
      "[CV] END preprocessing__num_imputer__sim__strategy=median, regressor__max_depth=5, regressor__max_features=auto, regressor__min_samples_leaf=4, regressor__min_samples_split=2, regressor__n_estimators=100; total time=   0.0s\n",
      "[CV] END preprocessing__num_imputer__sim__strategy=median, regressor__max_depth=5, regressor__max_features=auto, regressor__min_samples_leaf=4, regressor__min_samples_split=2, regressor__n_estimators=100; total time=   0.0s\n",
      "[CV] END preprocessing__num_imputer__sim__strategy=median, regressor__max_depth=5, regressor__max_features=auto, regressor__min_samples_leaf=4, regressor__min_samples_split=2, regressor__n_estimators=200; total time=   0.2s\n",
      "[CV] END preprocessing__num_imputer__sim__strategy=median, regressor__max_depth=5, regressor__max_features=auto, regressor__min_samples_leaf=4, regressor__min_samples_split=2, regressor__n_estimators=200; total time=   0.2s\n",
      "[CV] END preprocessing__num_imputer__sim__strategy=median, regressor__max_depth=5, regressor__max_features=auto, regressor__min_samples_leaf=4, regressor__min_samples_split=2, regressor__n_estimators=200; total time=   0.2s\n",
      "[CV] END preprocessing__num_imputer__sim__strategy=median, regressor__max_depth=5, regressor__max_features=auto, regressor__min_samples_leaf=4, regressor__min_samples_split=2, regressor__n_estimators=200; total time=   0.2s\n",
      "[CV] END preprocessing__num_imputer__sim__strategy=median, regressor__max_depth=5, regressor__max_features=auto, regressor__min_samples_leaf=4, regressor__min_samples_split=2, regressor__n_estimators=200; total time=   0.2s\n",
      "[CV] END preprocessing__num_imputer__sim__strategy=median, regressor__max_depth=5, regressor__max_features=auto, regressor__min_samples_leaf=4, regressor__min_samples_split=2, regressor__n_estimators=1000; total time=   1.2s\n",
      "[CV] END preprocessing__num_imputer__sim__strategy=median, regressor__max_depth=5, regressor__max_features=auto, regressor__min_samples_leaf=4, regressor__min_samples_split=2, regressor__n_estimators=1000; total time=   1.1s\n",
      "[CV] END preprocessing__num_imputer__sim__strategy=median, regressor__max_depth=5, regressor__max_features=auto, regressor__min_samples_leaf=4, regressor__min_samples_split=2, regressor__n_estimators=1000; total time=   1.2s\n",
      "[CV] END preprocessing__num_imputer__sim__strategy=median, regressor__max_depth=5, regressor__max_features=auto, regressor__min_samples_leaf=4, regressor__min_samples_split=2, regressor__n_estimators=1000; total time=   1.1s\n",
      "[CV] END preprocessing__num_imputer__sim__strategy=median, regressor__max_depth=5, regressor__max_features=auto, regressor__min_samples_leaf=4, regressor__min_samples_split=2, regressor__n_estimators=1000; total time=   1.1s\n",
      "[CV] END preprocessing__num_imputer__sim__strategy=median, regressor__max_depth=5, regressor__max_features=sqrt, regressor__min_samples_leaf=4, regressor__min_samples_split=6, regressor__n_estimators=100; total time=   0.0s\n",
      "[CV] END preprocessing__num_imputer__sim__strategy=median, regressor__max_depth=5, regressor__max_features=sqrt, regressor__min_samples_leaf=4, regressor__min_samples_split=6, regressor__n_estimators=100; total time=   0.0s\n",
      "[CV] END preprocessing__num_imputer__sim__strategy=median, regressor__max_depth=5, regressor__max_features=sqrt, regressor__min_samples_leaf=4, regressor__min_samples_split=6, regressor__n_estimators=100; total time=   0.0s\n",
      "[CV] END preprocessing__num_imputer__sim__strategy=median, regressor__max_depth=5, regressor__max_features=sqrt, regressor__min_samples_leaf=4, regressor__min_samples_split=6, regressor__n_estimators=100; total time=   0.0s\n",
      "[CV] END preprocessing__num_imputer__sim__strategy=median, regressor__max_depth=5, regressor__max_features=sqrt, regressor__min_samples_leaf=4, regressor__min_samples_split=6, regressor__n_estimators=100; total time=   0.0s\n",
      "[CV] END preprocessing__num_imputer__sim__strategy=median, regressor__max_depth=5, regressor__max_features=sqrt, regressor__min_samples_leaf=4, regressor__min_samples_split=6, regressor__n_estimators=200; total time=   0.1s\n",
      "[CV] END preprocessing__num_imputer__sim__strategy=median, regressor__max_depth=5, regressor__max_features=sqrt, regressor__min_samples_leaf=4, regressor__min_samples_split=6, regressor__n_estimators=200; total time=   0.1s\n",
      "[CV] END preprocessing__num_imputer__sim__strategy=median, regressor__max_depth=5, regressor__max_features=sqrt, regressor__min_samples_leaf=4, regressor__min_samples_split=6, regressor__n_estimators=200; total time=   0.1s\n",
      "[CV] END preprocessing__num_imputer__sim__strategy=median, regressor__max_depth=5, regressor__max_features=sqrt, regressor__min_samples_leaf=4, regressor__min_samples_split=6, regressor__n_estimators=200; total time=   0.1s\n",
      "[CV] END preprocessing__num_imputer__sim__strategy=median, regressor__max_depth=5, regressor__max_features=sqrt, regressor__min_samples_leaf=4, regressor__min_samples_split=6, regressor__n_estimators=200; total time=   0.1s\n",
      "[CV] END preprocessing__num_imputer__sim__strategy=median, regressor__max_depth=5, regressor__max_features=sqrt, regressor__min_samples_leaf=4, regressor__min_samples_split=6, regressor__n_estimators=1000; total time=   0.9s\n",
      "[CV] END preprocessing__num_imputer__sim__strategy=median, regressor__max_depth=5, regressor__max_features=sqrt, regressor__min_samples_leaf=4, regressor__min_samples_split=6, regressor__n_estimators=1000; total time=   0.9s\n"
     ]
    },
    {
     "name": "stdout",
     "output_type": "stream",
     "text": [
      "[CV] END preprocessing__num_imputer__sim__strategy=median, regressor__max_depth=5, regressor__max_features=sqrt, regressor__min_samples_leaf=4, regressor__min_samples_split=6, regressor__n_estimators=1000; total time=   0.9s\n",
      "[CV] END preprocessing__num_imputer__sim__strategy=median, regressor__max_depth=5, regressor__max_features=sqrt, regressor__min_samples_leaf=4, regressor__min_samples_split=6, regressor__n_estimators=1000; total time=   0.9s\n",
      "[CV] END preprocessing__num_imputer__sim__strategy=median, regressor__max_depth=5, regressor__max_features=sqrt, regressor__min_samples_leaf=4, regressor__min_samples_split=6, regressor__n_estimators=1000; total time=   0.9s\n",
      "[CV] END preprocessing__num_imputer__sim__strategy=median, regressor__max_depth=5, regressor__max_features=sqrt, regressor__min_samples_leaf=4, regressor__min_samples_split=2, regressor__n_estimators=100; total time=   0.0s\n",
      "[CV] END preprocessing__num_imputer__sim__strategy=median, regressor__max_depth=5, regressor__max_features=sqrt, regressor__min_samples_leaf=4, regressor__min_samples_split=2, regressor__n_estimators=100; total time=   0.0s\n",
      "[CV] END preprocessing__num_imputer__sim__strategy=median, regressor__max_depth=5, regressor__max_features=sqrt, regressor__min_samples_leaf=4, regressor__min_samples_split=2, regressor__n_estimators=100; total time=   0.0s\n",
      "[CV] END preprocessing__num_imputer__sim__strategy=median, regressor__max_depth=5, regressor__max_features=sqrt, regressor__min_samples_leaf=4, regressor__min_samples_split=2, regressor__n_estimators=100; total time=   0.0s\n",
      "[CV] END preprocessing__num_imputer__sim__strategy=median, regressor__max_depth=5, regressor__max_features=sqrt, regressor__min_samples_leaf=4, regressor__min_samples_split=2, regressor__n_estimators=100; total time=   0.0s\n",
      "[CV] END preprocessing__num_imputer__sim__strategy=median, regressor__max_depth=5, regressor__max_features=sqrt, regressor__min_samples_leaf=4, regressor__min_samples_split=2, regressor__n_estimators=200; total time=   0.2s\n",
      "[CV] END preprocessing__num_imputer__sim__strategy=median, regressor__max_depth=5, regressor__max_features=sqrt, regressor__min_samples_leaf=4, regressor__min_samples_split=2, regressor__n_estimators=200; total time=   0.1s\n",
      "[CV] END preprocessing__num_imputer__sim__strategy=median, regressor__max_depth=5, regressor__max_features=sqrt, regressor__min_samples_leaf=4, regressor__min_samples_split=2, regressor__n_estimators=200; total time=   0.1s\n",
      "[CV] END preprocessing__num_imputer__sim__strategy=median, regressor__max_depth=5, regressor__max_features=sqrt, regressor__min_samples_leaf=4, regressor__min_samples_split=2, regressor__n_estimators=200; total time=   0.2s\n",
      "[CV] END preprocessing__num_imputer__sim__strategy=median, regressor__max_depth=5, regressor__max_features=sqrt, regressor__min_samples_leaf=4, regressor__min_samples_split=2, regressor__n_estimators=200; total time=   0.2s\n",
      "[CV] END preprocessing__num_imputer__sim__strategy=median, regressor__max_depth=5, regressor__max_features=sqrt, regressor__min_samples_leaf=4, regressor__min_samples_split=2, regressor__n_estimators=1000; total time=   1.0s\n",
      "[CV] END preprocessing__num_imputer__sim__strategy=median, regressor__max_depth=5, regressor__max_features=sqrt, regressor__min_samples_leaf=4, regressor__min_samples_split=2, regressor__n_estimators=1000; total time=   1.0s\n",
      "[CV] END preprocessing__num_imputer__sim__strategy=median, regressor__max_depth=5, regressor__max_features=sqrt, regressor__min_samples_leaf=4, regressor__min_samples_split=2, regressor__n_estimators=1000; total time=   1.3s\n",
      "[CV] END preprocessing__num_imputer__sim__strategy=median, regressor__max_depth=5, regressor__max_features=sqrt, regressor__min_samples_leaf=4, regressor__min_samples_split=2, regressor__n_estimators=1000; total time=   1.1s\n",
      "[CV] END preprocessing__num_imputer__sim__strategy=median, regressor__max_depth=5, regressor__max_features=sqrt, regressor__min_samples_leaf=4, regressor__min_samples_split=2, regressor__n_estimators=1000; total time=   1.1s\n"
     ]
    },
    {
     "data": {
      "text/plain": [
       "GridSearchCV(cv=5,\n",
       "             estimator=Pipeline(steps=[('preprocessing',\n",
       "                                        ColumnTransformer(remainder='passthrough',\n",
       "                                                          transformers=[('oh_imputer',\n",
       "                                                                         Pipeline(steps=[('simpleimputer',\n",
       "                                                                                          SimpleImputer(fill_value='missing',\n",
       "                                                                                                        strategy='constant')),\n",
       "                                                                                         ('onehot',\n",
       "                                                                                          OneHotEncoder(handle_unknown='ignore'))]),\n",
       "                                                                         ['Make',\n",
       "                                                                          'Colour']),\n",
       "                                                                        ('d_imputer',\n",
       "                                                                         Pipeline(steps=[('sim',\n",
       "                                                                                          SimpleImputer(fill_val...\n",
       "                                                                                          SimpleImputer())]),\n",
       "                                                                         ['Odometer '\n",
       "                                                                          '(KM)'])])),\n",
       "                                       ('regressor', RandomForestRegressor())]),\n",
       "             param_grid={'preprocessing__num_imputer__sim__strategy': ['mean',\n",
       "                                                                       'median'],\n",
       "                         'regressor__max_depth': [None, 5],\n",
       "                         'regressor__max_features': ['auto', 'sqrt'],\n",
       "                         'regressor__min_samples_leaf': [4],\n",
       "                         'regressor__min_samples_split': [6, 2],\n",
       "                         'regressor__n_estimators': [100, 200, 1000]},\n",
       "             verbose=2)"
      ]
     },
     "execution_count": 139,
     "metadata": {},
     "output_type": "execute_result"
    }
   ],
   "source": [
    "#Let use the girdsearchcv to improve our model hyperparameters(the thing that we can change ... parameter is what  a machine is learning)\n",
    "gird = {\"preprocessing__num_imputer__sim__strategy\":[\"mean\",\"median\"],\n",
    "       \"regressor__n_estimators\":[100,200,1000],\n",
    "       \"regressor__max_depth\":[None,5],\n",
    "       \"regressor__max_features\":[\"auto\",\"sqrt\"],\n",
    "       \"regressor__min_samples_split\":[6,2],\n",
    "       \"regressor__min_samples_leaf\":[4]}\n",
    "\n",
    "from sklearn.model_selection import GridSearchCV\n",
    "gsv = GridSearchCV(model,gird,cv=5,verbose=2)\n",
    "gsv.fit(x_train,y_train)"
   ]
  },
  {
   "cell_type": "code",
   "execution_count": 140,
   "id": "89e3ee14",
   "metadata": {},
   "outputs": [
    {
     "data": {
      "text/plain": [
       "0.258476676454502"
      ]
     },
     "execution_count": 140,
     "metadata": {},
     "output_type": "execute_result"
    }
   ],
   "source": [
    "gsv.score(x_test,y_test)"
   ]
  },
  {
   "cell_type": "code",
   "execution_count": 141,
   "id": "5bac915c",
   "metadata": {},
   "outputs": [
    {
     "data": {
      "text/plain": [
       "{'preprocessing__num_imputer__sim__strategy': 'mean',\n",
       " 'regressor__max_depth': 5,\n",
       " 'regressor__max_features': 'auto',\n",
       " 'regressor__min_samples_leaf': 4,\n",
       " 'regressor__min_samples_split': 6,\n",
       " 'regressor__n_estimators': 100}"
      ]
     },
     "execution_count": 141,
     "metadata": {},
     "output_type": "execute_result"
    }
   ],
   "source": [
    "gsv.best_params_"
   ]
  },
  {
   "cell_type": "code",
   "execution_count": null,
   "id": "3a17b45d",
   "metadata": {},
   "outputs": [],
   "source": []
  }
 ],
 "metadata": {
  "kernelspec": {
   "display_name": "Python 3 (ipykernel)",
   "language": "python",
   "name": "python3"
  },
  "language_info": {
   "codemirror_mode": {
    "name": "ipython",
    "version": 3
   },
   "file_extension": ".py",
   "mimetype": "text/x-python",
   "name": "python",
   "nbconvert_exporter": "python",
   "pygments_lexer": "ipython3",
   "version": "3.9.12"
  }
 },
 "nbformat": 4,
 "nbformat_minor": 5
}
